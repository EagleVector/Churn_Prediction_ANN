{
 "cells": [
  {
   "cell_type": "code",
   "execution_count": 1,
   "id": "0e93a88c",
   "metadata": {},
   "outputs": [],
   "source": [
    "import pandas as pd\n",
    "import numpy as np\n",
    "import matplotlib.pyplot as plt\n",
    "%matplotlib inline\n",
    "pd.options.display.max_columns = None"
   ]
  },
  {
   "cell_type": "code",
   "execution_count": 2,
   "id": "ed708e05",
   "metadata": {},
   "outputs": [
    {
     "data": {
      "text/html": [
       "<div>\n",
       "<style scoped>\n",
       "    .dataframe tbody tr th:only-of-type {\n",
       "        vertical-align: middle;\n",
       "    }\n",
       "\n",
       "    .dataframe tbody tr th {\n",
       "        vertical-align: top;\n",
       "    }\n",
       "\n",
       "    .dataframe thead th {\n",
       "        text-align: right;\n",
       "    }\n",
       "</style>\n",
       "<table border=\"1\" class=\"dataframe\">\n",
       "  <thead>\n",
       "    <tr style=\"text-align: right;\">\n",
       "      <th></th>\n",
       "      <th>customerID</th>\n",
       "      <th>gender</th>\n",
       "      <th>SeniorCitizen</th>\n",
       "      <th>Partner</th>\n",
       "      <th>Dependents</th>\n",
       "      <th>tenure</th>\n",
       "      <th>PhoneService</th>\n",
       "      <th>MultipleLines</th>\n",
       "      <th>InternetService</th>\n",
       "      <th>OnlineSecurity</th>\n",
       "      <th>OnlineBackup</th>\n",
       "      <th>DeviceProtection</th>\n",
       "      <th>TechSupport</th>\n",
       "      <th>StreamingTV</th>\n",
       "      <th>StreamingMovies</th>\n",
       "      <th>Contract</th>\n",
       "      <th>PaperlessBilling</th>\n",
       "      <th>PaymentMethod</th>\n",
       "      <th>MonthlyCharges</th>\n",
       "      <th>TotalCharges</th>\n",
       "      <th>Churn</th>\n",
       "    </tr>\n",
       "  </thead>\n",
       "  <tbody>\n",
       "    <tr>\n",
       "      <th>3806</th>\n",
       "      <td>0650-BWOZN</td>\n",
       "      <td>Female</td>\n",
       "      <td>1</td>\n",
       "      <td>No</td>\n",
       "      <td>No</td>\n",
       "      <td>18</td>\n",
       "      <td>Yes</td>\n",
       "      <td>No</td>\n",
       "      <td>Fiber optic</td>\n",
       "      <td>No</td>\n",
       "      <td>Yes</td>\n",
       "      <td>No</td>\n",
       "      <td>No</td>\n",
       "      <td>No</td>\n",
       "      <td>No</td>\n",
       "      <td>Month-to-month</td>\n",
       "      <td>Yes</td>\n",
       "      <td>Electronic check</td>\n",
       "      <td>73.55</td>\n",
       "      <td>1359.45</td>\n",
       "      <td>No</td>\n",
       "    </tr>\n",
       "    <tr>\n",
       "      <th>2584</th>\n",
       "      <td>3969-JQABI</td>\n",
       "      <td>Female</td>\n",
       "      <td>0</td>\n",
       "      <td>Yes</td>\n",
       "      <td>No</td>\n",
       "      <td>58</td>\n",
       "      <td>Yes</td>\n",
       "      <td>No</td>\n",
       "      <td>DSL</td>\n",
       "      <td>Yes</td>\n",
       "      <td>Yes</td>\n",
       "      <td>No</td>\n",
       "      <td>No</td>\n",
       "      <td>Yes</td>\n",
       "      <td>No</td>\n",
       "      <td>Month-to-month</td>\n",
       "      <td>Yes</td>\n",
       "      <td>Credit card (automatic)</td>\n",
       "      <td>65.25</td>\n",
       "      <td>3791.6</td>\n",
       "      <td>No</td>\n",
       "    </tr>\n",
       "    <tr>\n",
       "      <th>2265</th>\n",
       "      <td>1583-IHQZE</td>\n",
       "      <td>Male</td>\n",
       "      <td>0</td>\n",
       "      <td>No</td>\n",
       "      <td>No</td>\n",
       "      <td>12</td>\n",
       "      <td>Yes</td>\n",
       "      <td>Yes</td>\n",
       "      <td>Fiber optic</td>\n",
       "      <td>No</td>\n",
       "      <td>Yes</td>\n",
       "      <td>Yes</td>\n",
       "      <td>Yes</td>\n",
       "      <td>Yes</td>\n",
       "      <td>Yes</td>\n",
       "      <td>Month-to-month</td>\n",
       "      <td>Yes</td>\n",
       "      <td>Mailed check</td>\n",
       "      <td>112.95</td>\n",
       "      <td>1384.75</td>\n",
       "      <td>Yes</td>\n",
       "    </tr>\n",
       "    <tr>\n",
       "      <th>2048</th>\n",
       "      <td>9961-JBNMK</td>\n",
       "      <td>Male</td>\n",
       "      <td>1</td>\n",
       "      <td>No</td>\n",
       "      <td>No</td>\n",
       "      <td>21</td>\n",
       "      <td>Yes</td>\n",
       "      <td>No</td>\n",
       "      <td>Fiber optic</td>\n",
       "      <td>No</td>\n",
       "      <td>No</td>\n",
       "      <td>Yes</td>\n",
       "      <td>No</td>\n",
       "      <td>Yes</td>\n",
       "      <td>Yes</td>\n",
       "      <td>Month-to-month</td>\n",
       "      <td>Yes</td>\n",
       "      <td>Bank transfer (automatic)</td>\n",
       "      <td>96.80</td>\n",
       "      <td>2030.3</td>\n",
       "      <td>Yes</td>\n",
       "    </tr>\n",
       "    <tr>\n",
       "      <th>2018</th>\n",
       "      <td>7065-YUNRY</td>\n",
       "      <td>Female</td>\n",
       "      <td>0</td>\n",
       "      <td>No</td>\n",
       "      <td>No</td>\n",
       "      <td>1</td>\n",
       "      <td>Yes</td>\n",
       "      <td>No</td>\n",
       "      <td>DSL</td>\n",
       "      <td>No</td>\n",
       "      <td>No</td>\n",
       "      <td>No</td>\n",
       "      <td>No</td>\n",
       "      <td>No</td>\n",
       "      <td>No</td>\n",
       "      <td>Month-to-month</td>\n",
       "      <td>Yes</td>\n",
       "      <td>Mailed check</td>\n",
       "      <td>45.30</td>\n",
       "      <td>45.3</td>\n",
       "      <td>Yes</td>\n",
       "    </tr>\n",
       "  </tbody>\n",
       "</table>\n",
       "</div>"
      ],
      "text/plain": [
       "      customerID  gender  SeniorCitizen Partner Dependents  tenure  \\\n",
       "3806  0650-BWOZN  Female              1      No         No      18   \n",
       "2584  3969-JQABI  Female              0     Yes         No      58   \n",
       "2265  1583-IHQZE    Male              0      No         No      12   \n",
       "2048  9961-JBNMK    Male              1      No         No      21   \n",
       "2018  7065-YUNRY  Female              0      No         No       1   \n",
       "\n",
       "     PhoneService MultipleLines InternetService OnlineSecurity OnlineBackup  \\\n",
       "3806          Yes            No     Fiber optic             No          Yes   \n",
       "2584          Yes            No             DSL            Yes          Yes   \n",
       "2265          Yes           Yes     Fiber optic             No          Yes   \n",
       "2048          Yes            No     Fiber optic             No           No   \n",
       "2018          Yes            No             DSL             No           No   \n",
       "\n",
       "     DeviceProtection TechSupport StreamingTV StreamingMovies        Contract  \\\n",
       "3806               No          No          No              No  Month-to-month   \n",
       "2584               No          No         Yes              No  Month-to-month   \n",
       "2265              Yes         Yes         Yes             Yes  Month-to-month   \n",
       "2048              Yes          No         Yes             Yes  Month-to-month   \n",
       "2018               No          No          No              No  Month-to-month   \n",
       "\n",
       "     PaperlessBilling              PaymentMethod  MonthlyCharges TotalCharges  \\\n",
       "3806              Yes           Electronic check           73.55      1359.45   \n",
       "2584              Yes    Credit card (automatic)           65.25       3791.6   \n",
       "2265              Yes               Mailed check          112.95      1384.75   \n",
       "2048              Yes  Bank transfer (automatic)           96.80       2030.3   \n",
       "2018              Yes               Mailed check           45.30         45.3   \n",
       "\n",
       "     Churn  \n",
       "3806    No  \n",
       "2584    No  \n",
       "2265   Yes  \n",
       "2048   Yes  \n",
       "2018   Yes  "
      ]
     },
     "execution_count": 2,
     "metadata": {},
     "output_type": "execute_result"
    }
   ],
   "source": [
    "df = pd.read_csv(\"churn_data.csv\")\n",
    "df.sample(5)"
   ]
  },
  {
   "cell_type": "code",
   "execution_count": 3,
   "id": "dfd98295",
   "metadata": {},
   "outputs": [
    {
     "data": {
      "text/plain": [
       "gender               object\n",
       "SeniorCitizen         int64\n",
       "Partner              object\n",
       "Dependents           object\n",
       "tenure                int64\n",
       "PhoneService         object\n",
       "MultipleLines        object\n",
       "InternetService      object\n",
       "OnlineSecurity       object\n",
       "OnlineBackup         object\n",
       "DeviceProtection     object\n",
       "TechSupport          object\n",
       "StreamingTV          object\n",
       "StreamingMovies      object\n",
       "Contract             object\n",
       "PaperlessBilling     object\n",
       "PaymentMethod        object\n",
       "MonthlyCharges      float64\n",
       "TotalCharges         object\n",
       "Churn                object\n",
       "dtype: object"
      ]
     },
     "execution_count": 3,
     "metadata": {},
     "output_type": "execute_result"
    }
   ],
   "source": [
    "df.drop('customerID', axis = 'columns', inplace=True)\n",
    "df.dtypes"
   ]
  },
  {
   "cell_type": "code",
   "execution_count": 4,
   "id": "86fd4c2b",
   "metadata": {},
   "outputs": [
    {
     "data": {
      "text/plain": [
       "array(['29.85', '1889.5', '108.15', ..., '346.45', '306.6', '6844.5'],\n",
       "      dtype=object)"
      ]
     },
     "execution_count": 4,
     "metadata": {},
     "output_type": "execute_result"
    }
   ],
   "source": [
    "df.TotalCharges.values"
   ]
  },
  {
   "cell_type": "code",
   "execution_count": 5,
   "id": "03014d08",
   "metadata": {},
   "outputs": [
    {
     "data": {
      "text/plain": [
       "array([ 29.85,  56.95,  53.85, ...,  29.6 ,  74.4 , 105.65])"
      ]
     },
     "execution_count": 5,
     "metadata": {},
     "output_type": "execute_result"
    }
   ],
   "source": [
    "df.MonthlyCharges.values"
   ]
  },
  {
   "cell_type": "code",
   "execution_count": 6,
   "id": "2563a1d9",
   "metadata": {},
   "outputs": [
    {
     "data": {
      "text/plain": [
       "0       False\n",
       "1       False\n",
       "2       False\n",
       "3       False\n",
       "4       False\n",
       "        ...  \n",
       "7038    False\n",
       "7039    False\n",
       "7040    False\n",
       "7041    False\n",
       "7042    False\n",
       "Name: TotalCharges, Length: 7043, dtype: bool"
      ]
     },
     "execution_count": 6,
     "metadata": {},
     "output_type": "execute_result"
    }
   ],
   "source": [
    "pd.to_numeric(df.TotalCharges, errors = 'coerce').isnull()"
   ]
  },
  {
   "cell_type": "code",
   "execution_count": 7,
   "id": "1fec78d5",
   "metadata": {},
   "outputs": [
    {
     "data": {
      "text/html": [
       "<div>\n",
       "<style scoped>\n",
       "    .dataframe tbody tr th:only-of-type {\n",
       "        vertical-align: middle;\n",
       "    }\n",
       "\n",
       "    .dataframe tbody tr th {\n",
       "        vertical-align: top;\n",
       "    }\n",
       "\n",
       "    .dataframe thead th {\n",
       "        text-align: right;\n",
       "    }\n",
       "</style>\n",
       "<table border=\"1\" class=\"dataframe\">\n",
       "  <thead>\n",
       "    <tr style=\"text-align: right;\">\n",
       "      <th></th>\n",
       "      <th>gender</th>\n",
       "      <th>SeniorCitizen</th>\n",
       "      <th>Partner</th>\n",
       "      <th>Dependents</th>\n",
       "      <th>tenure</th>\n",
       "      <th>PhoneService</th>\n",
       "      <th>MultipleLines</th>\n",
       "      <th>InternetService</th>\n",
       "      <th>OnlineSecurity</th>\n",
       "      <th>OnlineBackup</th>\n",
       "      <th>DeviceProtection</th>\n",
       "      <th>TechSupport</th>\n",
       "      <th>StreamingTV</th>\n",
       "      <th>StreamingMovies</th>\n",
       "      <th>Contract</th>\n",
       "      <th>PaperlessBilling</th>\n",
       "      <th>PaymentMethod</th>\n",
       "      <th>MonthlyCharges</th>\n",
       "      <th>TotalCharges</th>\n",
       "      <th>Churn</th>\n",
       "    </tr>\n",
       "  </thead>\n",
       "  <tbody>\n",
       "    <tr>\n",
       "      <th>488</th>\n",
       "      <td>Female</td>\n",
       "      <td>0</td>\n",
       "      <td>Yes</td>\n",
       "      <td>Yes</td>\n",
       "      <td>0</td>\n",
       "      <td>No</td>\n",
       "      <td>No phone service</td>\n",
       "      <td>DSL</td>\n",
       "      <td>Yes</td>\n",
       "      <td>No</td>\n",
       "      <td>Yes</td>\n",
       "      <td>Yes</td>\n",
       "      <td>Yes</td>\n",
       "      <td>No</td>\n",
       "      <td>Two year</td>\n",
       "      <td>Yes</td>\n",
       "      <td>Bank transfer (automatic)</td>\n",
       "      <td>52.55</td>\n",
       "      <td></td>\n",
       "      <td>No</td>\n",
       "    </tr>\n",
       "    <tr>\n",
       "      <th>753</th>\n",
       "      <td>Male</td>\n",
       "      <td>0</td>\n",
       "      <td>No</td>\n",
       "      <td>Yes</td>\n",
       "      <td>0</td>\n",
       "      <td>Yes</td>\n",
       "      <td>No</td>\n",
       "      <td>No</td>\n",
       "      <td>No internet service</td>\n",
       "      <td>No internet service</td>\n",
       "      <td>No internet service</td>\n",
       "      <td>No internet service</td>\n",
       "      <td>No internet service</td>\n",
       "      <td>No internet service</td>\n",
       "      <td>Two year</td>\n",
       "      <td>No</td>\n",
       "      <td>Mailed check</td>\n",
       "      <td>20.25</td>\n",
       "      <td></td>\n",
       "      <td>No</td>\n",
       "    </tr>\n",
       "    <tr>\n",
       "      <th>936</th>\n",
       "      <td>Female</td>\n",
       "      <td>0</td>\n",
       "      <td>Yes</td>\n",
       "      <td>Yes</td>\n",
       "      <td>0</td>\n",
       "      <td>Yes</td>\n",
       "      <td>No</td>\n",
       "      <td>DSL</td>\n",
       "      <td>Yes</td>\n",
       "      <td>Yes</td>\n",
       "      <td>Yes</td>\n",
       "      <td>No</td>\n",
       "      <td>Yes</td>\n",
       "      <td>Yes</td>\n",
       "      <td>Two year</td>\n",
       "      <td>No</td>\n",
       "      <td>Mailed check</td>\n",
       "      <td>80.85</td>\n",
       "      <td></td>\n",
       "      <td>No</td>\n",
       "    </tr>\n",
       "    <tr>\n",
       "      <th>1082</th>\n",
       "      <td>Male</td>\n",
       "      <td>0</td>\n",
       "      <td>Yes</td>\n",
       "      <td>Yes</td>\n",
       "      <td>0</td>\n",
       "      <td>Yes</td>\n",
       "      <td>Yes</td>\n",
       "      <td>No</td>\n",
       "      <td>No internet service</td>\n",
       "      <td>No internet service</td>\n",
       "      <td>No internet service</td>\n",
       "      <td>No internet service</td>\n",
       "      <td>No internet service</td>\n",
       "      <td>No internet service</td>\n",
       "      <td>Two year</td>\n",
       "      <td>No</td>\n",
       "      <td>Mailed check</td>\n",
       "      <td>25.75</td>\n",
       "      <td></td>\n",
       "      <td>No</td>\n",
       "    </tr>\n",
       "    <tr>\n",
       "      <th>1340</th>\n",
       "      <td>Female</td>\n",
       "      <td>0</td>\n",
       "      <td>Yes</td>\n",
       "      <td>Yes</td>\n",
       "      <td>0</td>\n",
       "      <td>No</td>\n",
       "      <td>No phone service</td>\n",
       "      <td>DSL</td>\n",
       "      <td>Yes</td>\n",
       "      <td>Yes</td>\n",
       "      <td>Yes</td>\n",
       "      <td>Yes</td>\n",
       "      <td>Yes</td>\n",
       "      <td>No</td>\n",
       "      <td>Two year</td>\n",
       "      <td>No</td>\n",
       "      <td>Credit card (automatic)</td>\n",
       "      <td>56.05</td>\n",
       "      <td></td>\n",
       "      <td>No</td>\n",
       "    </tr>\n",
       "    <tr>\n",
       "      <th>3331</th>\n",
       "      <td>Male</td>\n",
       "      <td>0</td>\n",
       "      <td>Yes</td>\n",
       "      <td>Yes</td>\n",
       "      <td>0</td>\n",
       "      <td>Yes</td>\n",
       "      <td>No</td>\n",
       "      <td>No</td>\n",
       "      <td>No internet service</td>\n",
       "      <td>No internet service</td>\n",
       "      <td>No internet service</td>\n",
       "      <td>No internet service</td>\n",
       "      <td>No internet service</td>\n",
       "      <td>No internet service</td>\n",
       "      <td>Two year</td>\n",
       "      <td>No</td>\n",
       "      <td>Mailed check</td>\n",
       "      <td>19.85</td>\n",
       "      <td></td>\n",
       "      <td>No</td>\n",
       "    </tr>\n",
       "    <tr>\n",
       "      <th>3826</th>\n",
       "      <td>Male</td>\n",
       "      <td>0</td>\n",
       "      <td>Yes</td>\n",
       "      <td>Yes</td>\n",
       "      <td>0</td>\n",
       "      <td>Yes</td>\n",
       "      <td>Yes</td>\n",
       "      <td>No</td>\n",
       "      <td>No internet service</td>\n",
       "      <td>No internet service</td>\n",
       "      <td>No internet service</td>\n",
       "      <td>No internet service</td>\n",
       "      <td>No internet service</td>\n",
       "      <td>No internet service</td>\n",
       "      <td>Two year</td>\n",
       "      <td>No</td>\n",
       "      <td>Mailed check</td>\n",
       "      <td>25.35</td>\n",
       "      <td></td>\n",
       "      <td>No</td>\n",
       "    </tr>\n",
       "    <tr>\n",
       "      <th>4380</th>\n",
       "      <td>Female</td>\n",
       "      <td>0</td>\n",
       "      <td>Yes</td>\n",
       "      <td>Yes</td>\n",
       "      <td>0</td>\n",
       "      <td>Yes</td>\n",
       "      <td>No</td>\n",
       "      <td>No</td>\n",
       "      <td>No internet service</td>\n",
       "      <td>No internet service</td>\n",
       "      <td>No internet service</td>\n",
       "      <td>No internet service</td>\n",
       "      <td>No internet service</td>\n",
       "      <td>No internet service</td>\n",
       "      <td>Two year</td>\n",
       "      <td>No</td>\n",
       "      <td>Mailed check</td>\n",
       "      <td>20.00</td>\n",
       "      <td></td>\n",
       "      <td>No</td>\n",
       "    </tr>\n",
       "    <tr>\n",
       "      <th>5218</th>\n",
       "      <td>Male</td>\n",
       "      <td>0</td>\n",
       "      <td>Yes</td>\n",
       "      <td>Yes</td>\n",
       "      <td>0</td>\n",
       "      <td>Yes</td>\n",
       "      <td>No</td>\n",
       "      <td>No</td>\n",
       "      <td>No internet service</td>\n",
       "      <td>No internet service</td>\n",
       "      <td>No internet service</td>\n",
       "      <td>No internet service</td>\n",
       "      <td>No internet service</td>\n",
       "      <td>No internet service</td>\n",
       "      <td>One year</td>\n",
       "      <td>Yes</td>\n",
       "      <td>Mailed check</td>\n",
       "      <td>19.70</td>\n",
       "      <td></td>\n",
       "      <td>No</td>\n",
       "    </tr>\n",
       "    <tr>\n",
       "      <th>6670</th>\n",
       "      <td>Female</td>\n",
       "      <td>0</td>\n",
       "      <td>Yes</td>\n",
       "      <td>Yes</td>\n",
       "      <td>0</td>\n",
       "      <td>Yes</td>\n",
       "      <td>Yes</td>\n",
       "      <td>DSL</td>\n",
       "      <td>No</td>\n",
       "      <td>Yes</td>\n",
       "      <td>Yes</td>\n",
       "      <td>Yes</td>\n",
       "      <td>Yes</td>\n",
       "      <td>No</td>\n",
       "      <td>Two year</td>\n",
       "      <td>No</td>\n",
       "      <td>Mailed check</td>\n",
       "      <td>73.35</td>\n",
       "      <td></td>\n",
       "      <td>No</td>\n",
       "    </tr>\n",
       "    <tr>\n",
       "      <th>6754</th>\n",
       "      <td>Male</td>\n",
       "      <td>0</td>\n",
       "      <td>No</td>\n",
       "      <td>Yes</td>\n",
       "      <td>0</td>\n",
       "      <td>Yes</td>\n",
       "      <td>Yes</td>\n",
       "      <td>DSL</td>\n",
       "      <td>Yes</td>\n",
       "      <td>Yes</td>\n",
       "      <td>No</td>\n",
       "      <td>Yes</td>\n",
       "      <td>No</td>\n",
       "      <td>No</td>\n",
       "      <td>Two year</td>\n",
       "      <td>Yes</td>\n",
       "      <td>Bank transfer (automatic)</td>\n",
       "      <td>61.90</td>\n",
       "      <td></td>\n",
       "      <td>No</td>\n",
       "    </tr>\n",
       "  </tbody>\n",
       "</table>\n",
       "</div>"
      ],
      "text/plain": [
       "      gender  SeniorCitizen Partner Dependents  tenure PhoneService  \\\n",
       "488   Female              0     Yes        Yes       0           No   \n",
       "753     Male              0      No        Yes       0          Yes   \n",
       "936   Female              0     Yes        Yes       0          Yes   \n",
       "1082    Male              0     Yes        Yes       0          Yes   \n",
       "1340  Female              0     Yes        Yes       0           No   \n",
       "3331    Male              0     Yes        Yes       0          Yes   \n",
       "3826    Male              0     Yes        Yes       0          Yes   \n",
       "4380  Female              0     Yes        Yes       0          Yes   \n",
       "5218    Male              0     Yes        Yes       0          Yes   \n",
       "6670  Female              0     Yes        Yes       0          Yes   \n",
       "6754    Male              0      No        Yes       0          Yes   \n",
       "\n",
       "         MultipleLines InternetService       OnlineSecurity  \\\n",
       "488   No phone service             DSL                  Yes   \n",
       "753                 No              No  No internet service   \n",
       "936                 No             DSL                  Yes   \n",
       "1082               Yes              No  No internet service   \n",
       "1340  No phone service             DSL                  Yes   \n",
       "3331                No              No  No internet service   \n",
       "3826               Yes              No  No internet service   \n",
       "4380                No              No  No internet service   \n",
       "5218                No              No  No internet service   \n",
       "6670               Yes             DSL                   No   \n",
       "6754               Yes             DSL                  Yes   \n",
       "\n",
       "             OnlineBackup     DeviceProtection          TechSupport  \\\n",
       "488                    No                  Yes                  Yes   \n",
       "753   No internet service  No internet service  No internet service   \n",
       "936                   Yes                  Yes                   No   \n",
       "1082  No internet service  No internet service  No internet service   \n",
       "1340                  Yes                  Yes                  Yes   \n",
       "3331  No internet service  No internet service  No internet service   \n",
       "3826  No internet service  No internet service  No internet service   \n",
       "4380  No internet service  No internet service  No internet service   \n",
       "5218  No internet service  No internet service  No internet service   \n",
       "6670                  Yes                  Yes                  Yes   \n",
       "6754                  Yes                   No                  Yes   \n",
       "\n",
       "              StreamingTV      StreamingMovies  Contract PaperlessBilling  \\\n",
       "488                   Yes                   No  Two year              Yes   \n",
       "753   No internet service  No internet service  Two year               No   \n",
       "936                   Yes                  Yes  Two year               No   \n",
       "1082  No internet service  No internet service  Two year               No   \n",
       "1340                  Yes                   No  Two year               No   \n",
       "3331  No internet service  No internet service  Two year               No   \n",
       "3826  No internet service  No internet service  Two year               No   \n",
       "4380  No internet service  No internet service  Two year               No   \n",
       "5218  No internet service  No internet service  One year              Yes   \n",
       "6670                  Yes                   No  Two year               No   \n",
       "6754                   No                   No  Two year              Yes   \n",
       "\n",
       "                  PaymentMethod  MonthlyCharges TotalCharges Churn  \n",
       "488   Bank transfer (automatic)           52.55                 No  \n",
       "753                Mailed check           20.25                 No  \n",
       "936                Mailed check           80.85                 No  \n",
       "1082               Mailed check           25.75                 No  \n",
       "1340    Credit card (automatic)           56.05                 No  \n",
       "3331               Mailed check           19.85                 No  \n",
       "3826               Mailed check           25.35                 No  \n",
       "4380               Mailed check           20.00                 No  \n",
       "5218               Mailed check           19.70                 No  \n",
       "6670               Mailed check           73.35                 No  \n",
       "6754  Bank transfer (automatic)           61.90                 No  "
      ]
     },
     "execution_count": 7,
     "metadata": {},
     "output_type": "execute_result"
    }
   ],
   "source": [
    "df[pd.to_numeric(df.TotalCharges, errors = 'coerce').isnull()]"
   ]
  },
  {
   "cell_type": "code",
   "execution_count": 8,
   "id": "59e58b4b",
   "metadata": {},
   "outputs": [
    {
     "data": {
      "text/plain": [
       "(11, 20)"
      ]
     },
     "execution_count": 8,
     "metadata": {},
     "output_type": "execute_result"
    }
   ],
   "source": [
    "df[pd.to_numeric(df.TotalCharges, errors = 'coerce').isnull()].shape"
   ]
  },
  {
   "cell_type": "code",
   "execution_count": 9,
   "id": "7c27b55b",
   "metadata": {},
   "outputs": [
    {
     "data": {
      "text/plain": [
       "(7043, 20)"
      ]
     },
     "execution_count": 9,
     "metadata": {},
     "output_type": "execute_result"
    }
   ],
   "source": [
    "df.shape"
   ]
  },
  {
   "cell_type": "code",
   "execution_count": 10,
   "id": "ff46dc40",
   "metadata": {},
   "outputs": [
    {
     "data": {
      "text/plain": [
       "' '"
      ]
     },
     "execution_count": 10,
     "metadata": {},
     "output_type": "execute_result"
    }
   ],
   "source": [
    "df.iloc[488]['TotalCharges']"
   ]
  },
  {
   "cell_type": "code",
   "execution_count": 11,
   "id": "27c0ecb4",
   "metadata": {},
   "outputs": [
    {
     "data": {
      "text/plain": [
       "(7032, 20)"
      ]
     },
     "execution_count": 11,
     "metadata": {},
     "output_type": "execute_result"
    }
   ],
   "source": [
    "df1 = df[df.TotalCharges!=' ']\n",
    "df1.shape"
   ]
  },
  {
   "cell_type": "code",
   "execution_count": 12,
   "id": "c97145a9",
   "metadata": {},
   "outputs": [
    {
     "data": {
      "text/plain": [
       "gender               object\n",
       "SeniorCitizen         int64\n",
       "Partner              object\n",
       "Dependents           object\n",
       "tenure                int64\n",
       "PhoneService         object\n",
       "MultipleLines        object\n",
       "InternetService      object\n",
       "OnlineSecurity       object\n",
       "OnlineBackup         object\n",
       "DeviceProtection     object\n",
       "TechSupport          object\n",
       "StreamingTV          object\n",
       "StreamingMovies      object\n",
       "Contract             object\n",
       "PaperlessBilling     object\n",
       "PaymentMethod        object\n",
       "MonthlyCharges      float64\n",
       "TotalCharges         object\n",
       "Churn                object\n",
       "dtype: object"
      ]
     },
     "execution_count": 12,
     "metadata": {},
     "output_type": "execute_result"
    }
   ],
   "source": [
    "df1.dtypes"
   ]
  },
  {
   "cell_type": "code",
   "execution_count": 13,
   "id": "da4bb3e8",
   "metadata": {},
   "outputs": [
    {
     "name": "stderr",
     "output_type": "stream",
     "text": [
      "/var/folders/4f/9wwls0j92z90fgmqsv9knhsc0000gn/T/ipykernel_22977/973151263.py:1: SettingWithCopyWarning: \n",
      "A value is trying to be set on a copy of a slice from a DataFrame.\n",
      "Try using .loc[row_indexer,col_indexer] = value instead\n",
      "\n",
      "See the caveats in the documentation: https://pandas.pydata.org/pandas-docs/stable/user_guide/indexing.html#returning-a-view-versus-a-copy\n",
      "  df1.TotalCharges = pd.to_numeric(df1.TotalCharges)\n"
     ]
    }
   ],
   "source": [
    "df1.TotalCharges = pd.to_numeric(df1.TotalCharges)"
   ]
  },
  {
   "cell_type": "code",
   "execution_count": 14,
   "id": "288c3a09",
   "metadata": {},
   "outputs": [
    {
     "data": {
      "text/plain": [
       "dtype('float64')"
      ]
     },
     "execution_count": 14,
     "metadata": {},
     "output_type": "execute_result"
    }
   ],
   "source": [
    "df1.TotalCharges.dtypes"
   ]
  },
  {
   "cell_type": "markdown",
   "id": "99c5d759",
   "metadata": {},
   "source": [
    "Loyal Customers"
   ]
  },
  {
   "cell_type": "code",
   "execution_count": 15,
   "id": "b3d10c26",
   "metadata": {},
   "outputs": [
    {
     "data": {
      "text/plain": [
       "<matplotlib.legend.Legend at 0x11ed48f10>"
      ]
     },
     "execution_count": 15,
     "metadata": {},
     "output_type": "execute_result"
    },
    {
     "data": {
      "image/png": "[encoded data removed]",
      "text/plain": [
       "<Figure size 640x480 with 1 Axes>"
      ]
     },
     "metadata": {},
     "output_type": "display_data"
    }
   ],
   "source": [
    "tenure_churn_no = df1[df1.Churn=='No'].tenure\n",
    "tenure_churn_yes = df1[df1.Churn=='Yes'].tenure\n",
    "plt.xlabel('Tenure(months)')\n",
    "plt.ylabel('Number of customers')\n",
    "plt.title('Customer Churn Analysis')\n",
    "plt.hist([tenure_churn_yes, tenure_churn_no], color = ['red', 'green'], label = ['Yes', 'No'])\n",
    "plt.legend()"
   ]
  },
  {
   "cell_type": "code",
   "execution_count": 16,
   "id": "a0373500",
   "metadata": {},
   "outputs": [
    {
     "data": {
      "text/plain": [
       "<matplotlib.legend.Legend at 0x11ec7d580>"
      ]
     },
     "execution_count": 16,
     "metadata": {},
     "output_type": "execute_result"
    },
    {
     "data": {
      "image/png": "[encoded data removed]",
      "text/plain": [
       "<Figure size 640x480 with 1 Axes>"
      ]
     },
     "metadata": {},
     "output_type": "display_data"
    }
   ],
   "source": [
    "tenure_churn_no = df1[df1.Churn=='No'].MonthlyCharges\n",
    "tenure_churn_yes = df1[df1.Churn=='Yes'].MonthlyCharges\n",
    "plt.xlabel('Monthly Charges')\n",
    "plt.ylabel('Number of customers')\n",
    "plt.title('Customer Churn Analysis')\n",
    "plt.hist([tenure_churn_yes, tenure_churn_no], color = ['red', 'green'], label = ['Yes', 'No'])\n",
    "plt.legend()"
   ]
  },
  {
   "cell_type": "code",
   "execution_count": 17,
   "id": "f54e5877",
   "metadata": {},
   "outputs": [],
   "source": [
    "def print_unique_col_values(df):\n",
    "    for column in df:\n",
    "        if df1[column].dtypes == 'object':\n",
    "            print(f'{column} : {df[column].unique()}')"
   ]
  },
  {
   "cell_type": "code",
   "execution_count": 18,
   "id": "c1a83724",
   "metadata": {},
   "outputs": [
    {
     "name": "stdout",
     "output_type": "stream",
     "text": [
      "gender : ['Female' 'Male']\n",
      "Partner : ['Yes' 'No']\n",
      "Dependents : ['No' 'Yes']\n",
      "PhoneService : ['No' 'Yes']\n",
      "MultipleLines : ['No phone service' 'No' 'Yes']\n",
      "InternetService : ['DSL' 'Fiber optic' 'No']\n",
      "OnlineSecurity : ['No' 'Yes' 'No internet service']\n",
      "OnlineBackup : ['Yes' 'No' 'No internet service']\n",
      "DeviceProtection : ['No' 'Yes' 'No internet service']\n",
      "TechSupport : ['No' 'Yes' 'No internet service']\n",
      "StreamingTV : ['No' 'Yes' 'No internet service']\n",
      "StreamingMovies : ['No' 'Yes' 'No internet service']\n",
      "Contract : ['Month-to-month' 'One year' 'Two year']\n",
      "PaperlessBilling : ['Yes' 'No']\n",
      "PaymentMethod : ['Electronic check' 'Mailed check' 'Bank transfer (automatic)'\n",
      " 'Credit card (automatic)']\n",
      "Churn : ['No' 'Yes']\n"
     ]
    }
   ],
   "source": [
    "print_unique_col_values(df1)"
   ]
  },
  {
   "cell_type": "code",
   "execution_count": 19,
   "id": "245dec53",
   "metadata": {},
   "outputs": [
    {
     "name": "stderr",
     "output_type": "stream",
     "text": [
      "/var/folders/4f/9wwls0j92z90fgmqsv9knhsc0000gn/T/ipykernel_22977/4245438437.py:1: SettingWithCopyWarning: \n",
      "A value is trying to be set on a copy of a slice from a DataFrame\n",
      "\n",
      "See the caveats in the documentation: https://pandas.pydata.org/pandas-docs/stable/user_guide/indexing.html#returning-a-view-versus-a-copy\n",
      "  df1.replace('No internet service', 'No', inplace=True)\n",
      "/var/folders/4f/9wwls0j92z90fgmqsv9knhsc0000gn/T/ipykernel_22977/4245438437.py:2: SettingWithCopyWarning: \n",
      "A value is trying to be set on a copy of a slice from a DataFrame\n",
      "\n",
      "See the caveats in the documentation: https://pandas.pydata.org/pandas-docs/stable/user_guide/indexing.html#returning-a-view-versus-a-copy\n",
      "  df1.replace('No phone service', 'No', inplace=True)\n"
     ]
    }
   ],
   "source": [
    "df1.replace('No internet service', 'No', inplace=True)\n",
    "df1.replace('No phone service', 'No', inplace=True)"
   ]
  },
  {
   "cell_type": "code",
   "execution_count": 20,
   "id": "a132b140",
   "metadata": {},
   "outputs": [
    {
     "name": "stdout",
     "output_type": "stream",
     "text": [
      "gender : ['Female' 'Male']\n",
      "Partner : ['Yes' 'No']\n",
      "Dependents : ['No' 'Yes']\n",
      "PhoneService : ['No' 'Yes']\n",
      "MultipleLines : ['No' 'Yes']\n",
      "InternetService : ['DSL' 'Fiber optic' 'No']\n",
      "OnlineSecurity : ['No' 'Yes']\n",
      "OnlineBackup : ['Yes' 'No']\n",
      "DeviceProtection : ['No' 'Yes']\n",
      "TechSupport : ['No' 'Yes']\n",
      "StreamingTV : ['No' 'Yes']\n",
      "StreamingMovies : ['No' 'Yes']\n",
      "Contract : ['Month-to-month' 'One year' 'Two year']\n",
      "PaperlessBilling : ['Yes' 'No']\n",
      "PaymentMethod : ['Electronic check' 'Mailed check' 'Bank transfer (automatic)'\n",
      " 'Credit card (automatic)']\n",
      "Churn : ['No' 'Yes']\n"
     ]
    }
   ],
   "source": [
    "print_unique_col_values(df1)"
   ]
  },
  {
   "cell_type": "code",
   "execution_count": 21,
   "id": "7aaf37e5",
   "metadata": {},
   "outputs": [
    {
     "name": "stderr",
     "output_type": "stream",
     "text": [
      "/var/folders/4f/9wwls0j92z90fgmqsv9knhsc0000gn/T/ipykernel_22977/4065720361.py:4: SettingWithCopyWarning: \n",
      "A value is trying to be set on a copy of a slice from a DataFrame\n",
      "\n",
      "See the caveats in the documentation: https://pandas.pydata.org/pandas-docs/stable/user_guide/indexing.html#returning-a-view-versus-a-copy\n",
      "  df1[col].replace({'Yes' : 1, 'No' : 0}, inplace=True)\n"
     ]
    }
   ],
   "source": [
    "yes_no_columns = ['Partner', 'Dependents', 'PhoneService', 'MultipleLines', 'OnlineSecurity', 'OnlineBackup', 'DeviceProtection', 'TechSupport', 'StreamingTV', 'StreamingMovies', 'PaperlessBilling', 'Churn']\n",
    "\n",
    "for col in yes_no_columns:\n",
    "    df1[col].replace({'Yes' : 1, 'No' : 0}, inplace=True)"
   ]
  },
  {
   "cell_type": "code",
   "execution_count": 22,
   "id": "0722afc2",
   "metadata": {},
   "outputs": [
    {
     "name": "stdout",
     "output_type": "stream",
     "text": [
      "gender : ['Female' 'Male']\n",
      "InternetService : ['DSL' 'Fiber optic' 'No']\n",
      "Contract : ['Month-to-month' 'One year' 'Two year']\n",
      "PaymentMethod : ['Electronic check' 'Mailed check' 'Bank transfer (automatic)'\n",
      " 'Credit card (automatic)']\n"
     ]
    }
   ],
   "source": [
    "print_unique_col_values(df1)"
   ]
  },
  {
   "cell_type": "code",
   "execution_count": 23,
   "id": "4a234594",
   "metadata": {},
   "outputs": [
    {
     "data": {
      "text/html": [
       "<div>\n",
       "<style scoped>\n",
       "    .dataframe tbody tr th:only-of-type {\n",
       "        vertical-align: middle;\n",
       "    }\n",
       "\n",
       "    .dataframe tbody tr th {\n",
       "        vertical-align: top;\n",
       "    }\n",
       "\n",
       "    .dataframe thead th {\n",
       "        text-align: right;\n",
       "    }\n",
       "</style>\n",
       "<table border=\"1\" class=\"dataframe\">\n",
       "  <thead>\n",
       "    <tr style=\"text-align: right;\">\n",
       "      <th></th>\n",
       "      <th>Partner</th>\n",
       "      <th>Dependents</th>\n",
       "      <th>PhoneService</th>\n",
       "      <th>MultipleLines</th>\n",
       "      <th>OnlineSecurity</th>\n",
       "      <th>OnlineBackup</th>\n",
       "      <th>DeviceProtection</th>\n",
       "      <th>TechSupport</th>\n",
       "      <th>StreamingTV</th>\n",
       "      <th>StreamingMovies</th>\n",
       "      <th>PaperlessBilling</th>\n",
       "      <th>Churn</th>\n",
       "    </tr>\n",
       "  </thead>\n",
       "  <tbody>\n",
       "    <tr>\n",
       "      <th>0</th>\n",
       "      <td>1</td>\n",
       "      <td>0</td>\n",
       "      <td>0</td>\n",
       "      <td>0</td>\n",
       "      <td>0</td>\n",
       "      <td>1</td>\n",
       "      <td>0</td>\n",
       "      <td>0</td>\n",
       "      <td>0</td>\n",
       "      <td>0</td>\n",
       "      <td>1</td>\n",
       "      <td>0</td>\n",
       "    </tr>\n",
       "    <tr>\n",
       "      <th>1</th>\n",
       "      <td>0</td>\n",
       "      <td>0</td>\n",
       "      <td>1</td>\n",
       "      <td>0</td>\n",
       "      <td>1</td>\n",
       "      <td>0</td>\n",
       "      <td>1</td>\n",
       "      <td>0</td>\n",
       "      <td>0</td>\n",
       "      <td>0</td>\n",
       "      <td>0</td>\n",
       "      <td>0</td>\n",
       "    </tr>\n",
       "    <tr>\n",
       "      <th>2</th>\n",
       "      <td>0</td>\n",
       "      <td>0</td>\n",
       "      <td>1</td>\n",
       "      <td>0</td>\n",
       "      <td>1</td>\n",
       "      <td>1</td>\n",
       "      <td>0</td>\n",
       "      <td>0</td>\n",
       "      <td>0</td>\n",
       "      <td>0</td>\n",
       "      <td>1</td>\n",
       "      <td>1</td>\n",
       "    </tr>\n",
       "    <tr>\n",
       "      <th>3</th>\n",
       "      <td>0</td>\n",
       "      <td>0</td>\n",
       "      <td>0</td>\n",
       "      <td>0</td>\n",
       "      <td>1</td>\n",
       "      <td>0</td>\n",
       "      <td>1</td>\n",
       "      <td>1</td>\n",
       "      <td>0</td>\n",
       "      <td>0</td>\n",
       "      <td>0</td>\n",
       "      <td>0</td>\n",
       "    </tr>\n",
       "    <tr>\n",
       "      <th>4</th>\n",
       "      <td>0</td>\n",
       "      <td>0</td>\n",
       "      <td>1</td>\n",
       "      <td>0</td>\n",
       "      <td>0</td>\n",
       "      <td>0</td>\n",
       "      <td>0</td>\n",
       "      <td>0</td>\n",
       "      <td>0</td>\n",
       "      <td>0</td>\n",
       "      <td>1</td>\n",
       "      <td>1</td>\n",
       "    </tr>\n",
       "    <tr>\n",
       "      <th>...</th>\n",
       "      <td>...</td>\n",
       "      <td>...</td>\n",
       "      <td>...</td>\n",
       "      <td>...</td>\n",
       "      <td>...</td>\n",
       "      <td>...</td>\n",
       "      <td>...</td>\n",
       "      <td>...</td>\n",
       "      <td>...</td>\n",
       "      <td>...</td>\n",
       "      <td>...</td>\n",
       "      <td>...</td>\n",
       "    </tr>\n",
       "    <tr>\n",
       "      <th>7038</th>\n",
       "      <td>1</td>\n",
       "      <td>1</td>\n",
       "      <td>1</td>\n",
       "      <td>1</td>\n",
       "      <td>1</td>\n",
       "      <td>0</td>\n",
       "      <td>1</td>\n",
       "      <td>1</td>\n",
       "      <td>1</td>\n",
       "      <td>1</td>\n",
       "      <td>1</td>\n",
       "      <td>0</td>\n",
       "    </tr>\n",
       "    <tr>\n",
       "      <th>7039</th>\n",
       "      <td>1</td>\n",
       "      <td>1</td>\n",
       "      <td>1</td>\n",
       "      <td>1</td>\n",
       "      <td>0</td>\n",
       "      <td>1</td>\n",
       "      <td>1</td>\n",
       "      <td>0</td>\n",
       "      <td>1</td>\n",
       "      <td>1</td>\n",
       "      <td>1</td>\n",
       "      <td>0</td>\n",
       "    </tr>\n",
       "    <tr>\n",
       "      <th>7040</th>\n",
       "      <td>1</td>\n",
       "      <td>1</td>\n",
       "      <td>0</td>\n",
       "      <td>0</td>\n",
       "      <td>1</td>\n",
       "      <td>0</td>\n",
       "      <td>0</td>\n",
       "      <td>0</td>\n",
       "      <td>0</td>\n",
       "      <td>0</td>\n",
       "      <td>1</td>\n",
       "      <td>0</td>\n",
       "    </tr>\n",
       "    <tr>\n",
       "      <th>7041</th>\n",
       "      <td>1</td>\n",
       "      <td>0</td>\n",
       "      <td>1</td>\n",
       "      <td>1</td>\n",
       "      <td>0</td>\n",
       "      <td>0</td>\n",
       "      <td>0</td>\n",
       "      <td>0</td>\n",
       "      <td>0</td>\n",
       "      <td>0</td>\n",
       "      <td>1</td>\n",
       "      <td>1</td>\n",
       "    </tr>\n",
       "    <tr>\n",
       "      <th>7042</th>\n",
       "      <td>0</td>\n",
       "      <td>0</td>\n",
       "      <td>1</td>\n",
       "      <td>0</td>\n",
       "      <td>1</td>\n",
       "      <td>0</td>\n",
       "      <td>1</td>\n",
       "      <td>1</td>\n",
       "      <td>1</td>\n",
       "      <td>1</td>\n",
       "      <td>1</td>\n",
       "      <td>0</td>\n",
       "    </tr>\n",
       "  </tbody>\n",
       "</table>\n",
       "<p>7032 rows × 12 columns</p>\n",
       "</div>"
      ],
      "text/plain": [
       "      Partner  Dependents  PhoneService  MultipleLines  OnlineSecurity  \\\n",
       "0           1           0             0              0               0   \n",
       "1           0           0             1              0               1   \n",
       "2           0           0             1              0               1   \n",
       "3           0           0             0              0               1   \n",
       "4           0           0             1              0               0   \n",
       "...       ...         ...           ...            ...             ...   \n",
       "7038        1           1             1              1               1   \n",
       "7039        1           1             1              1               0   \n",
       "7040        1           1             0              0               1   \n",
       "7041        1           0             1              1               0   \n",
       "7042        0           0             1              0               1   \n",
       "\n",
       "      OnlineBackup  DeviceProtection  TechSupport  StreamingTV  \\\n",
       "0                1                 0            0            0   \n",
       "1                0                 1            0            0   \n",
       "2                1                 0            0            0   \n",
       "3                0                 1            1            0   \n",
       "4                0                 0            0            0   \n",
       "...            ...               ...          ...          ...   \n",
       "7038             0                 1            1            1   \n",
       "7039             1                 1            0            1   \n",
       "7040             0                 0            0            0   \n",
       "7041             0                 0            0            0   \n",
       "7042             0                 1            1            1   \n",
       "\n",
       "      StreamingMovies  PaperlessBilling  Churn  \n",
       "0                   0                 1      0  \n",
       "1                   0                 0      0  \n",
       "2                   0                 1      1  \n",
       "3                   0                 0      0  \n",
       "4                   0                 1      1  \n",
       "...               ...               ...    ...  \n",
       "7038                1                 1      0  \n",
       "7039                1                 1      0  \n",
       "7040                0                 1      0  \n",
       "7041                0                 1      1  \n",
       "7042                1                 1      0  \n",
       "\n",
       "[7032 rows x 12 columns]"
      ]
     },
     "execution_count": 23,
     "metadata": {},
     "output_type": "execute_result"
    }
   ],
   "source": [
    "df1[yes_no_columns]"
   ]
  },
  {
   "cell_type": "code",
   "execution_count": 24,
   "id": "5ab7d982",
   "metadata": {},
   "outputs": [
    {
     "name": "stderr",
     "output_type": "stream",
     "text": [
      "/var/folders/4f/9wwls0j92z90fgmqsv9knhsc0000gn/T/ipykernel_22977/3007113260.py:4: SettingWithCopyWarning: \n",
      "A value is trying to be set on a copy of a slice from a DataFrame\n",
      "\n",
      "See the caveats in the documentation: https://pandas.pydata.org/pandas-docs/stable/user_guide/indexing.html#returning-a-view-versus-a-copy\n",
      "  df1[col].replace({'Male' : 1, 'Female' : 0}, inplace=True)\n"
     ]
    }
   ],
   "source": [
    "male_female = ['gender']\n",
    "\n",
    "for col in male_female:\n",
    "    df1[col].replace({'Male' : 1, 'Female' : 0}, inplace=True)"
   ]
  },
  {
   "cell_type": "code",
   "execution_count": 25,
   "id": "c8582632",
   "metadata": {},
   "outputs": [
    {
     "name": "stdout",
     "output_type": "stream",
     "text": [
      "InternetService : ['DSL' 'Fiber optic' 'No']\n",
      "Contract : ['Month-to-month' 'One year' 'Two year']\n",
      "PaymentMethod : ['Electronic check' 'Mailed check' 'Bank transfer (automatic)'\n",
      " 'Credit card (automatic)']\n"
     ]
    }
   ],
   "source": [
    "print_unique_col_values(df1)"
   ]
  },
  {
   "cell_type": "code",
   "execution_count": 26,
   "id": "d49a6258",
   "metadata": {},
   "outputs": [],
   "source": [
    "df2 = pd.get_dummies(data=df1, columns=['InternetService', 'Contract', 'PaymentMethod'], drop_first=True)"
   ]
  },
  {
   "cell_type": "code",
   "execution_count": 27,
   "id": "533172c8",
   "metadata": {},
   "outputs": [
    {
     "data": {
      "text/plain": [
       "Index(['gender', 'SeniorCitizen', 'Partner', 'Dependents', 'tenure',\n",
       "       'PhoneService', 'MultipleLines', 'OnlineSecurity', 'OnlineBackup',\n",
       "       'DeviceProtection', 'TechSupport', 'StreamingTV', 'StreamingMovies',\n",
       "       'PaperlessBilling', 'MonthlyCharges', 'TotalCharges', 'Churn',\n",
       "       'InternetService_Fiber optic', 'InternetService_No',\n",
       "       'Contract_One year', 'Contract_Two year',\n",
       "       'PaymentMethod_Credit card (automatic)',\n",
       "       'PaymentMethod_Electronic check', 'PaymentMethod_Mailed check'],\n",
       "      dtype='object')"
      ]
     },
     "execution_count": 27,
     "metadata": {},
     "output_type": "execute_result"
    }
   ],
   "source": [
    "df2.columns"
   ]
  },
  {
   "cell_type": "code",
   "execution_count": 28,
   "id": "2717f210",
   "metadata": {},
   "outputs": [
    {
     "data": {
      "text/html": [
       "<div>\n",
       "<style scoped>\n",
       "    .dataframe tbody tr th:only-of-type {\n",
       "        vertical-align: middle;\n",
       "    }\n",
       "\n",
       "    .dataframe tbody tr th {\n",
       "        vertical-align: top;\n",
       "    }\n",
       "\n",
       "    .dataframe thead th {\n",
       "        text-align: right;\n",
       "    }\n",
       "</style>\n",
       "<table border=\"1\" class=\"dataframe\">\n",
       "  <thead>\n",
       "    <tr style=\"text-align: right;\">\n",
       "      <th></th>\n",
       "      <th>gender</th>\n",
       "      <th>SeniorCitizen</th>\n",
       "      <th>Partner</th>\n",
       "      <th>Dependents</th>\n",
       "      <th>tenure</th>\n",
       "      <th>PhoneService</th>\n",
       "      <th>MultipleLines</th>\n",
       "      <th>OnlineSecurity</th>\n",
       "      <th>OnlineBackup</th>\n",
       "      <th>DeviceProtection</th>\n",
       "      <th>TechSupport</th>\n",
       "      <th>StreamingTV</th>\n",
       "      <th>StreamingMovies</th>\n",
       "      <th>PaperlessBilling</th>\n",
       "      <th>MonthlyCharges</th>\n",
       "      <th>TotalCharges</th>\n",
       "      <th>Churn</th>\n",
       "      <th>InternetService_Fiber optic</th>\n",
       "      <th>InternetService_No</th>\n",
       "      <th>Contract_One year</th>\n",
       "      <th>Contract_Two year</th>\n",
       "      <th>PaymentMethod_Credit card (automatic)</th>\n",
       "      <th>PaymentMethod_Electronic check</th>\n",
       "      <th>PaymentMethod_Mailed check</th>\n",
       "    </tr>\n",
       "  </thead>\n",
       "  <tbody>\n",
       "    <tr>\n",
       "      <th>6681</th>\n",
       "      <td>1</td>\n",
       "      <td>1</td>\n",
       "      <td>0</td>\n",
       "      <td>0</td>\n",
       "      <td>3</td>\n",
       "      <td>1</td>\n",
       "      <td>1</td>\n",
       "      <td>0</td>\n",
       "      <td>0</td>\n",
       "      <td>1</td>\n",
       "      <td>0</td>\n",
       "      <td>1</td>\n",
       "      <td>0</td>\n",
       "      <td>0</td>\n",
       "      <td>91.05</td>\n",
       "      <td>289.10</td>\n",
       "      <td>1</td>\n",
       "      <td>1</td>\n",
       "      <td>0</td>\n",
       "      <td>0</td>\n",
       "      <td>0</td>\n",
       "      <td>0</td>\n",
       "      <td>1</td>\n",
       "      <td>0</td>\n",
       "    </tr>\n",
       "    <tr>\n",
       "      <th>4318</th>\n",
       "      <td>1</td>\n",
       "      <td>0</td>\n",
       "      <td>0</td>\n",
       "      <td>0</td>\n",
       "      <td>56</td>\n",
       "      <td>1</td>\n",
       "      <td>0</td>\n",
       "      <td>0</td>\n",
       "      <td>1</td>\n",
       "      <td>0</td>\n",
       "      <td>1</td>\n",
       "      <td>1</td>\n",
       "      <td>1</td>\n",
       "      <td>1</td>\n",
       "      <td>75.75</td>\n",
       "      <td>4284.65</td>\n",
       "      <td>0</td>\n",
       "      <td>0</td>\n",
       "      <td>0</td>\n",
       "      <td>1</td>\n",
       "      <td>0</td>\n",
       "      <td>0</td>\n",
       "      <td>0</td>\n",
       "      <td>0</td>\n",
       "    </tr>\n",
       "    <tr>\n",
       "      <th>938</th>\n",
       "      <td>0</td>\n",
       "      <td>0</td>\n",
       "      <td>1</td>\n",
       "      <td>0</td>\n",
       "      <td>65</td>\n",
       "      <td>1</td>\n",
       "      <td>1</td>\n",
       "      <td>0</td>\n",
       "      <td>1</td>\n",
       "      <td>1</td>\n",
       "      <td>1</td>\n",
       "      <td>1</td>\n",
       "      <td>1</td>\n",
       "      <td>1</td>\n",
       "      <td>108.05</td>\n",
       "      <td>7118.90</td>\n",
       "      <td>0</td>\n",
       "      <td>1</td>\n",
       "      <td>0</td>\n",
       "      <td>1</td>\n",
       "      <td>0</td>\n",
       "      <td>1</td>\n",
       "      <td>0</td>\n",
       "      <td>0</td>\n",
       "    </tr>\n",
       "    <tr>\n",
       "      <th>5366</th>\n",
       "      <td>0</td>\n",
       "      <td>0</td>\n",
       "      <td>1</td>\n",
       "      <td>1</td>\n",
       "      <td>66</td>\n",
       "      <td>1</td>\n",
       "      <td>0</td>\n",
       "      <td>1</td>\n",
       "      <td>0</td>\n",
       "      <td>0</td>\n",
       "      <td>0</td>\n",
       "      <td>1</td>\n",
       "      <td>0</td>\n",
       "      <td>1</td>\n",
       "      <td>59.75</td>\n",
       "      <td>3996.80</td>\n",
       "      <td>0</td>\n",
       "      <td>0</td>\n",
       "      <td>0</td>\n",
       "      <td>0</td>\n",
       "      <td>1</td>\n",
       "      <td>0</td>\n",
       "      <td>1</td>\n",
       "      <td>0</td>\n",
       "    </tr>\n",
       "    <tr>\n",
       "      <th>3656</th>\n",
       "      <td>1</td>\n",
       "      <td>1</td>\n",
       "      <td>1</td>\n",
       "      <td>0</td>\n",
       "      <td>49</td>\n",
       "      <td>1</td>\n",
       "      <td>0</td>\n",
       "      <td>0</td>\n",
       "      <td>1</td>\n",
       "      <td>0</td>\n",
       "      <td>0</td>\n",
       "      <td>0</td>\n",
       "      <td>0</td>\n",
       "      <td>0</td>\n",
       "      <td>49.80</td>\n",
       "      <td>2398.40</td>\n",
       "      <td>0</td>\n",
       "      <td>0</td>\n",
       "      <td>0</td>\n",
       "      <td>0</td>\n",
       "      <td>1</td>\n",
       "      <td>0</td>\n",
       "      <td>0</td>\n",
       "      <td>1</td>\n",
       "    </tr>\n",
       "  </tbody>\n",
       "</table>\n",
       "</div>"
      ],
      "text/plain": [
       "      gender  SeniorCitizen  Partner  Dependents  tenure  PhoneService  \\\n",
       "6681       1              1        0           0       3             1   \n",
       "4318       1              0        0           0      56             1   \n",
       "938        0              0        1           0      65             1   \n",
       "5366       0              0        1           1      66             1   \n",
       "3656       1              1        1           0      49             1   \n",
       "\n",
       "      MultipleLines  OnlineSecurity  OnlineBackup  DeviceProtection  \\\n",
       "6681              1               0             0                 1   \n",
       "4318              0               0             1                 0   \n",
       "938               1               0             1                 1   \n",
       "5366              0               1             0                 0   \n",
       "3656              0               0             1                 0   \n",
       "\n",
       "      TechSupport  StreamingTV  StreamingMovies  PaperlessBilling  \\\n",
       "6681            0            1                0                 0   \n",
       "4318            1            1                1                 1   \n",
       "938             1            1                1                 1   \n",
       "5366            0            1                0                 1   \n",
       "3656            0            0                0                 0   \n",
       "\n",
       "      MonthlyCharges  TotalCharges  Churn  InternetService_Fiber optic  \\\n",
       "6681           91.05        289.10      1                            1   \n",
       "4318           75.75       4284.65      0                            0   \n",
       "938           108.05       7118.90      0                            1   \n",
       "5366           59.75       3996.80      0                            0   \n",
       "3656           49.80       2398.40      0                            0   \n",
       "\n",
       "      InternetService_No  Contract_One year  Contract_Two year  \\\n",
       "6681                   0                  0                  0   \n",
       "4318                   0                  1                  0   \n",
       "938                    0                  1                  0   \n",
       "5366                   0                  0                  1   \n",
       "3656                   0                  0                  1   \n",
       "\n",
       "      PaymentMethod_Credit card (automatic)  PaymentMethod_Electronic check  \\\n",
       "6681                                      0                               1   \n",
       "4318                                      0                               0   \n",
       "938                                       1                               0   \n",
       "5366                                      0                               1   \n",
       "3656                                      0                               0   \n",
       "\n",
       "      PaymentMethod_Mailed check  \n",
       "6681                           0  \n",
       "4318                           0  \n",
       "938                            0  \n",
       "5366                           0  \n",
       "3656                           1  "
      ]
     },
     "execution_count": 28,
     "metadata": {},
     "output_type": "execute_result"
    }
   ],
   "source": [
    "df2.sample(5)"
   ]
  },
  {
   "cell_type": "code",
   "execution_count": 29,
   "id": "d1de9a89",
   "metadata": {},
   "outputs": [],
   "source": [
    "col_to_scale = ['tenure', 'MonthlyCharges', 'TotalCharges']\n",
    "\n",
    "from sklearn.preprocessing import MinMaxScaler\n",
    "scaler = MinMaxScaler()\n",
    "\n",
    "df2[col_to_scale] = scaler.fit_transform(df2[col_to_scale])"
   ]
  },
  {
   "cell_type": "code",
   "execution_count": 30,
   "id": "f9b14647",
   "metadata": {},
   "outputs": [
    {
     "data": {
      "text/html": [
       "<div>\n",
       "<style scoped>\n",
       "    .dataframe tbody tr th:only-of-type {\n",
       "        vertical-align: middle;\n",
       "    }\n",
       "\n",
       "    .dataframe tbody tr th {\n",
       "        vertical-align: top;\n",
       "    }\n",
       "\n",
       "    .dataframe thead th {\n",
       "        text-align: right;\n",
       "    }\n",
       "</style>\n",
       "<table border=\"1\" class=\"dataframe\">\n",
       "  <thead>\n",
       "    <tr style=\"text-align: right;\">\n",
       "      <th></th>\n",
       "      <th>gender</th>\n",
       "      <th>SeniorCitizen</th>\n",
       "      <th>Partner</th>\n",
       "      <th>Dependents</th>\n",
       "      <th>tenure</th>\n",
       "      <th>PhoneService</th>\n",
       "      <th>MultipleLines</th>\n",
       "      <th>OnlineSecurity</th>\n",
       "      <th>OnlineBackup</th>\n",
       "      <th>DeviceProtection</th>\n",
       "      <th>TechSupport</th>\n",
       "      <th>StreamingTV</th>\n",
       "      <th>StreamingMovies</th>\n",
       "      <th>PaperlessBilling</th>\n",
       "      <th>MonthlyCharges</th>\n",
       "      <th>TotalCharges</th>\n",
       "      <th>Churn</th>\n",
       "      <th>InternetService_Fiber optic</th>\n",
       "      <th>InternetService_No</th>\n",
       "      <th>Contract_One year</th>\n",
       "      <th>Contract_Two year</th>\n",
       "      <th>PaymentMethod_Credit card (automatic)</th>\n",
       "      <th>PaymentMethod_Electronic check</th>\n",
       "      <th>PaymentMethod_Mailed check</th>\n",
       "    </tr>\n",
       "  </thead>\n",
       "  <tbody>\n",
       "    <tr>\n",
       "      <th>5739</th>\n",
       "      <td>1</td>\n",
       "      <td>1</td>\n",
       "      <td>1</td>\n",
       "      <td>0</td>\n",
       "      <td>0.929577</td>\n",
       "      <td>1</td>\n",
       "      <td>1</td>\n",
       "      <td>0</td>\n",
       "      <td>1</td>\n",
       "      <td>0</td>\n",
       "      <td>1</td>\n",
       "      <td>1</td>\n",
       "      <td>1</td>\n",
       "      <td>0</td>\n",
       "      <td>0.842289</td>\n",
       "      <td>0.804396</td>\n",
       "      <td>0</td>\n",
       "      <td>1</td>\n",
       "      <td>0</td>\n",
       "      <td>0</td>\n",
       "      <td>1</td>\n",
       "      <td>0</td>\n",
       "      <td>0</td>\n",
       "      <td>0</td>\n",
       "    </tr>\n",
       "    <tr>\n",
       "      <th>2033</th>\n",
       "      <td>1</td>\n",
       "      <td>0</td>\n",
       "      <td>0</td>\n",
       "      <td>0</td>\n",
       "      <td>0.000000</td>\n",
       "      <td>1</td>\n",
       "      <td>0</td>\n",
       "      <td>0</td>\n",
       "      <td>0</td>\n",
       "      <td>0</td>\n",
       "      <td>0</td>\n",
       "      <td>0</td>\n",
       "      <td>0</td>\n",
       "      <td>1</td>\n",
       "      <td>0.019403</td>\n",
       "      <td>0.000162</td>\n",
       "      <td>1</td>\n",
       "      <td>0</td>\n",
       "      <td>1</td>\n",
       "      <td>0</td>\n",
       "      <td>0</td>\n",
       "      <td>0</td>\n",
       "      <td>0</td>\n",
       "      <td>1</td>\n",
       "    </tr>\n",
       "    <tr>\n",
       "      <th>5084</th>\n",
       "      <td>0</td>\n",
       "      <td>0</td>\n",
       "      <td>1</td>\n",
       "      <td>1</td>\n",
       "      <td>0.295775</td>\n",
       "      <td>1</td>\n",
       "      <td>0</td>\n",
       "      <td>0</td>\n",
       "      <td>0</td>\n",
       "      <td>0</td>\n",
       "      <td>0</td>\n",
       "      <td>0</td>\n",
       "      <td>0</td>\n",
       "      <td>0</td>\n",
       "      <td>0.024876</td>\n",
       "      <td>0.050029</td>\n",
       "      <td>0</td>\n",
       "      <td>0</td>\n",
       "      <td>1</td>\n",
       "      <td>1</td>\n",
       "      <td>0</td>\n",
       "      <td>0</td>\n",
       "      <td>0</td>\n",
       "      <td>0</td>\n",
       "    </tr>\n",
       "    <tr>\n",
       "      <th>1118</th>\n",
       "      <td>0</td>\n",
       "      <td>0</td>\n",
       "      <td>1</td>\n",
       "      <td>1</td>\n",
       "      <td>0.661972</td>\n",
       "      <td>1</td>\n",
       "      <td>1</td>\n",
       "      <td>1</td>\n",
       "      <td>1</td>\n",
       "      <td>0</td>\n",
       "      <td>0</td>\n",
       "      <td>1</td>\n",
       "      <td>1</td>\n",
       "      <td>1</td>\n",
       "      <td>0.865672</td>\n",
       "      <td>0.574510</td>\n",
       "      <td>0</td>\n",
       "      <td>1</td>\n",
       "      <td>0</td>\n",
       "      <td>0</td>\n",
       "      <td>0</td>\n",
       "      <td>1</td>\n",
       "      <td>0</td>\n",
       "      <td>0</td>\n",
       "    </tr>\n",
       "    <tr>\n",
       "      <th>888</th>\n",
       "      <td>1</td>\n",
       "      <td>0</td>\n",
       "      <td>1</td>\n",
       "      <td>1</td>\n",
       "      <td>0.507042</td>\n",
       "      <td>1</td>\n",
       "      <td>0</td>\n",
       "      <td>0</td>\n",
       "      <td>0</td>\n",
       "      <td>0</td>\n",
       "      <td>0</td>\n",
       "      <td>1</td>\n",
       "      <td>1</td>\n",
       "      <td>0</td>\n",
       "      <td>0.725871</td>\n",
       "      <td>0.372577</td>\n",
       "      <td>0</td>\n",
       "      <td>1</td>\n",
       "      <td>0</td>\n",
       "      <td>1</td>\n",
       "      <td>0</td>\n",
       "      <td>1</td>\n",
       "      <td>0</td>\n",
       "      <td>0</td>\n",
       "    </tr>\n",
       "  </tbody>\n",
       "</table>\n",
       "</div>"
      ],
      "text/plain": [
       "      gender  SeniorCitizen  Partner  Dependents    tenure  PhoneService  \\\n",
       "5739       1              1        1           0  0.929577             1   \n",
       "2033       1              0        0           0  0.000000             1   \n",
       "5084       0              0        1           1  0.295775             1   \n",
       "1118       0              0        1           1  0.661972             1   \n",
       "888        1              0        1           1  0.507042             1   \n",
       "\n",
       "      MultipleLines  OnlineSecurity  OnlineBackup  DeviceProtection  \\\n",
       "5739              1               0             1                 0   \n",
       "2033              0               0             0                 0   \n",
       "5084              0               0             0                 0   \n",
       "1118              1               1             1                 0   \n",
       "888               0               0             0                 0   \n",
       "\n",
       "      TechSupport  StreamingTV  StreamingMovies  PaperlessBilling  \\\n",
       "5739            1            1                1                 0   \n",
       "2033            0            0                0                 1   \n",
       "5084            0            0                0                 0   \n",
       "1118            0            1                1                 1   \n",
       "888             0            1                1                 0   \n",
       "\n",
       "      MonthlyCharges  TotalCharges  Churn  InternetService_Fiber optic  \\\n",
       "5739        0.842289      0.804396      0                            1   \n",
       "2033        0.019403      0.000162      1                            0   \n",
       "5084        0.024876      0.050029      0                            0   \n",
       "1118        0.865672      0.574510      0                            1   \n",
       "888         0.725871      0.372577      0                            1   \n",
       "\n",
       "      InternetService_No  Contract_One year  Contract_Two year  \\\n",
       "5739                   0                  0                  1   \n",
       "2033                   1                  0                  0   \n",
       "5084                   1                  1                  0   \n",
       "1118                   0                  0                  0   \n",
       "888                    0                  1                  0   \n",
       "\n",
       "      PaymentMethod_Credit card (automatic)  PaymentMethod_Electronic check  \\\n",
       "5739                                      0                               0   \n",
       "2033                                      0                               0   \n",
       "5084                                      0                               0   \n",
       "1118                                      1                               0   \n",
       "888                                       1                               0   \n",
       "\n",
       "      PaymentMethod_Mailed check  \n",
       "5739                           0  \n",
       "2033                           1  \n",
       "5084                           0  \n",
       "1118                           0  \n",
       "888                            0  "
      ]
     },
     "execution_count": 30,
     "metadata": {},
     "output_type": "execute_result"
    }
   ],
   "source": [
    "df2.sample(5)"
   ]
  },
  {
   "cell_type": "code",
   "execution_count": 31,
   "id": "19450232",
   "metadata": {},
   "outputs": [],
   "source": [
    "X = df2.drop('Churn', axis = 'columns')\n",
    "y = df2.Churn"
   ]
  },
  {
   "cell_type": "code",
   "execution_count": 32,
   "id": "0683e4e9",
   "metadata": {},
   "outputs": [],
   "source": [
    "from sklearn.model_selection import train_test_split\n",
    "X_train, X_test, y_train, y_test = train_test_split(X, y, test_size=0.15, random_state=42)"
   ]
  },
  {
   "cell_type": "code",
   "execution_count": 33,
   "id": "866372b7",
   "metadata": {},
   "outputs": [
    {
     "data": {
      "text/plain": [
       "(5977, 23)"
      ]
     },
     "execution_count": 33,
     "metadata": {},
     "output_type": "execute_result"
    }
   ],
   "source": [
    "X_train.shape"
   ]
  },
  {
   "cell_type": "code",
   "execution_count": 34,
   "id": "8a1688fa",
   "metadata": {},
   "outputs": [
    {
     "data": {
      "text/plain": [
       "(1055, 23)"
      ]
     },
     "execution_count": 34,
     "metadata": {},
     "output_type": "execute_result"
    }
   ],
   "source": [
    "X_test.shape"
   ]
  },
  {
   "cell_type": "code",
   "execution_count": 35,
   "id": "972452cb",
   "metadata": {},
   "outputs": [
    {
     "data": {
      "text/plain": [
       "23"
      ]
     },
     "execution_count": 35,
     "metadata": {},
     "output_type": "execute_result"
    }
   ],
   "source": [
    "len(X_train.columns)"
   ]
  },
  {
   "cell_type": "code",
   "execution_count": 36,
   "id": "13bbc94e",
   "metadata": {},
   "outputs": [
    {
     "name": "stdout",
     "output_type": "stream",
     "text": [
      "Metal device set to: Apple M1\n",
      "Epoch 1/100\n"
     ]
    },
    {
     "name": "stderr",
     "output_type": "stream",
     "text": [
      "2022-12-07 18:32:03.441579: I tensorflow/core/common_runtime/pluggable_device/pluggable_device_factory.cc:306] Could not identify NUMA node of platform GPU ID 0, defaulting to 0. Your kernel may not have been built with NUMA support.\n",
      "2022-12-07 18:32:03.441677: I tensorflow/core/common_runtime/pluggable_device/pluggable_device_factory.cc:272] Created TensorFlow device (/job:localhost/replica:0/task:0/device:GPU:0 with 0 MB memory) -> physical PluggableDevice (device: 0, name: METAL, pci bus id: <undefined>)\n",
      "2022-12-07 18:32:03.562580: W tensorflow/core/platform/profile_utils/cpu_utils.cc:128] Failed to get CPU frequency: 0 Hz\n"
     ]
    },
    {
     "name": "stdout",
     "output_type": "stream",
     "text": [
      "\r",
      "  1/187 [..............................] - ETA: 57s - loss: 0.7138 - accuracy: 0.3750"
     ]
    },
    {
     "name": "stderr",
     "output_type": "stream",
     "text": [
      "2022-12-07 18:32:03.716212: I tensorflow/core/grappler/optimizers/custom_graph_optimizer_registry.cc:114] Plugin optimizer for device_type GPU is enabled.\n"
     ]
    },
    {
     "name": "stdout",
     "output_type": "stream",
     "text": [
      "187/187 [==============================] - 1s 6ms/step - loss: 0.5247 - accuracy: 0.7166\n",
      "Epoch 2/100\n",
      "187/187 [==============================] - 1s 6ms/step - loss: 0.4440 - accuracy: 0.7614\n",
      "Epoch 3/100\n",
      "187/187 [==============================] - 1s 6ms/step - loss: 0.4291 - accuracy: 0.7954\n",
      "Epoch 4/100\n",
      "187/187 [==============================] - 1s 6ms/step - loss: 0.4224 - accuracy: 0.7994\n",
      "Epoch 5/100\n",
      "187/187 [==============================] - 1s 5ms/step - loss: 0.4206 - accuracy: 0.7999\n",
      "Epoch 6/100\n",
      "187/187 [==============================] - 1s 6ms/step - loss: 0.4167 - accuracy: 0.8034\n",
      "Epoch 7/100\n",
      "187/187 [==============================] - 1s 6ms/step - loss: 0.4157 - accuracy: 0.8041\n",
      "Epoch 8/100\n",
      "187/187 [==============================] - 1s 6ms/step - loss: 0.4137 - accuracy: 0.8037\n",
      "Epoch 9/100\n",
      "187/187 [==============================] - 1s 6ms/step - loss: 0.4139 - accuracy: 0.8034\n",
      "Epoch 10/100\n",
      "187/187 [==============================] - 1s 6ms/step - loss: 0.4131 - accuracy: 0.8054\n",
      "Epoch 11/100\n",
      "187/187 [==============================] - 1s 5ms/step - loss: 0.4111 - accuracy: 0.8068\n",
      "Epoch 12/100\n",
      "187/187 [==============================] - 1s 5ms/step - loss: 0.4103 - accuracy: 0.8063\n",
      "Epoch 13/100\n",
      "187/187 [==============================] - 1s 5ms/step - loss: 0.4092 - accuracy: 0.8064\n",
      "Epoch 14/100\n",
      "187/187 [==============================] - 1s 5ms/step - loss: 0.4092 - accuracy: 0.8073\n",
      "Epoch 15/100\n",
      "187/187 [==============================] - 1s 6ms/step - loss: 0.4079 - accuracy: 0.8073\n",
      "Epoch 16/100\n",
      "187/187 [==============================] - 1s 5ms/step - loss: 0.4068 - accuracy: 0.8073\n",
      "Epoch 17/100\n",
      "187/187 [==============================] - 1s 6ms/step - loss: 0.4068 - accuracy: 0.8061\n",
      "Epoch 18/100\n",
      "187/187 [==============================] - 1s 6ms/step - loss: 0.4063 - accuracy: 0.8098\n",
      "Epoch 19/100\n",
      "187/187 [==============================] - 1s 6ms/step - loss: 0.4045 - accuracy: 0.8081\n",
      "Epoch 20/100\n",
      "187/187 [==============================] - 1s 5ms/step - loss: 0.4038 - accuracy: 0.8091\n",
      "Epoch 21/100\n",
      "187/187 [==============================] - 1s 5ms/step - loss: 0.4026 - accuracy: 0.8091\n",
      "Epoch 22/100\n",
      "187/187 [==============================] - 1s 5ms/step - loss: 0.4021 - accuracy: 0.8081\n",
      "Epoch 23/100\n",
      "187/187 [==============================] - 1s 5ms/step - loss: 0.4005 - accuracy: 0.8114\n",
      "Epoch 24/100\n",
      "187/187 [==============================] - 1s 5ms/step - loss: 0.4000 - accuracy: 0.8131\n",
      "Epoch 25/100\n",
      "187/187 [==============================] - 1s 5ms/step - loss: 0.4003 - accuracy: 0.8133\n",
      "Epoch 26/100\n",
      "187/187 [==============================] - 1s 5ms/step - loss: 0.3988 - accuracy: 0.8145\n",
      "Epoch 27/100\n",
      "187/187 [==============================] - 1s 5ms/step - loss: 0.3976 - accuracy: 0.8175\n",
      "Epoch 28/100\n",
      "187/187 [==============================] - 1s 6ms/step - loss: 0.3974 - accuracy: 0.8176\n",
      "Epoch 29/100\n",
      "187/187 [==============================] - 1s 5ms/step - loss: 0.3967 - accuracy: 0.8156\n",
      "Epoch 30/100\n",
      "187/187 [==============================] - 1s 6ms/step - loss: 0.3961 - accuracy: 0.8161\n",
      "Epoch 31/100\n",
      "187/187 [==============================] - 1s 5ms/step - loss: 0.3951 - accuracy: 0.8153\n",
      "Epoch 32/100\n",
      "187/187 [==============================] - 1s 5ms/step - loss: 0.3949 - accuracy: 0.8166\n",
      "Epoch 33/100\n",
      "187/187 [==============================] - 1s 5ms/step - loss: 0.3936 - accuracy: 0.8163\n",
      "Epoch 34/100\n",
      "187/187 [==============================] - 1s 5ms/step - loss: 0.3936 - accuracy: 0.8153\n",
      "Epoch 35/100\n",
      "187/187 [==============================] - 1s 5ms/step - loss: 0.3932 - accuracy: 0.8185\n",
      "Epoch 36/100\n",
      "187/187 [==============================] - 1s 5ms/step - loss: 0.3926 - accuracy: 0.8195\n",
      "Epoch 37/100\n",
      "187/187 [==============================] - 1s 5ms/step - loss: 0.3931 - accuracy: 0.8190\n",
      "Epoch 38/100\n",
      "187/187 [==============================] - 1s 5ms/step - loss: 0.3912 - accuracy: 0.8191\n",
      "Epoch 39/100\n",
      "187/187 [==============================] - 1s 5ms/step - loss: 0.3905 - accuracy: 0.8210\n",
      "Epoch 40/100\n",
      "187/187 [==============================] - 1s 5ms/step - loss: 0.3904 - accuracy: 0.8201\n",
      "Epoch 41/100\n",
      "187/187 [==============================] - 1s 5ms/step - loss: 0.3886 - accuracy: 0.8205\n",
      "Epoch 42/100\n",
      "187/187 [==============================] - 1s 5ms/step - loss: 0.3895 - accuracy: 0.8181\n",
      "Epoch 43/100\n",
      "187/187 [==============================] - 1s 5ms/step - loss: 0.3891 - accuracy: 0.8186\n",
      "Epoch 44/100\n",
      "187/187 [==============================] - 1s 5ms/step - loss: 0.3882 - accuracy: 0.8181\n",
      "Epoch 45/100\n",
      "187/187 [==============================] - 1s 5ms/step - loss: 0.3873 - accuracy: 0.8205\n",
      "Epoch 46/100\n",
      "187/187 [==============================] - 1s 5ms/step - loss: 0.3868 - accuracy: 0.8215\n",
      "Epoch 47/100\n",
      "187/187 [==============================] - 1s 5ms/step - loss: 0.3873 - accuracy: 0.8235\n",
      "Epoch 48/100\n",
      "187/187 [==============================] - 1s 5ms/step - loss: 0.3862 - accuracy: 0.8208\n",
      "Epoch 49/100\n",
      "187/187 [==============================] - 1s 5ms/step - loss: 0.3857 - accuracy: 0.8191\n",
      "Epoch 50/100\n",
      "187/187 [==============================] - 1s 5ms/step - loss: 0.3843 - accuracy: 0.8210\n",
      "Epoch 51/100\n",
      "187/187 [==============================] - 1s 5ms/step - loss: 0.3851 - accuracy: 0.8223\n",
      "Epoch 52/100\n",
      "187/187 [==============================] - 1s 5ms/step - loss: 0.3843 - accuracy: 0.8228\n",
      "Epoch 53/100\n",
      "187/187 [==============================] - 1s 5ms/step - loss: 0.3842 - accuracy: 0.8211\n",
      "Epoch 54/100\n",
      "187/187 [==============================] - 1s 5ms/step - loss: 0.3833 - accuracy: 0.8206\n",
      "Epoch 55/100\n",
      "187/187 [==============================] - 1s 5ms/step - loss: 0.3830 - accuracy: 0.8211\n",
      "Epoch 56/100\n",
      "187/187 [==============================] - 1s 5ms/step - loss: 0.3821 - accuracy: 0.8238\n",
      "Epoch 57/100\n",
      "187/187 [==============================] - 1s 5ms/step - loss: 0.3835 - accuracy: 0.8235\n",
      "Epoch 58/100\n",
      "187/187 [==============================] - 1s 5ms/step - loss: 0.3819 - accuracy: 0.8216\n",
      "Epoch 59/100\n",
      "187/187 [==============================] - 1s 5ms/step - loss: 0.3806 - accuracy: 0.8238\n",
      "Epoch 60/100\n",
      "187/187 [==============================] - 1s 5ms/step - loss: 0.3813 - accuracy: 0.8215\n",
      "Epoch 61/100\n",
      "187/187 [==============================] - 1s 5ms/step - loss: 0.3807 - accuracy: 0.8235\n",
      "Epoch 62/100\n",
      "187/187 [==============================] - 1s 5ms/step - loss: 0.3796 - accuracy: 0.8255\n",
      "Epoch 63/100\n",
      "187/187 [==============================] - 1s 5ms/step - loss: 0.3798 - accuracy: 0.8205\n",
      "Epoch 64/100\n",
      "187/187 [==============================] - 1s 6ms/step - loss: 0.3791 - accuracy: 0.8247\n",
      "Epoch 65/100\n",
      "187/187 [==============================] - 1s 6ms/step - loss: 0.3788 - accuracy: 0.8225\n",
      "Epoch 66/100\n",
      "187/187 [==============================] - 1s 5ms/step - loss: 0.3780 - accuracy: 0.8258\n",
      "Epoch 67/100\n",
      "187/187 [==============================] - 1s 5ms/step - loss: 0.3769 - accuracy: 0.8228\n",
      "Epoch 68/100\n",
      "187/187 [==============================] - 1s 5ms/step - loss: 0.3773 - accuracy: 0.8242\n",
      "Epoch 69/100\n",
      "187/187 [==============================] - 1s 5ms/step - loss: 0.3777 - accuracy: 0.8242\n",
      "Epoch 70/100\n",
      "187/187 [==============================] - 1s 5ms/step - loss: 0.3770 - accuracy: 0.8242\n",
      "Epoch 71/100\n",
      "187/187 [==============================] - 1s 5ms/step - loss: 0.3763 - accuracy: 0.8245\n",
      "Epoch 72/100\n",
      "187/187 [==============================] - 1s 5ms/step - loss: 0.3762 - accuracy: 0.8250\n",
      "Epoch 73/100\n",
      "187/187 [==============================] - 1s 5ms/step - loss: 0.3754 - accuracy: 0.8237\n",
      "Epoch 74/100\n",
      "187/187 [==============================] - 1s 5ms/step - loss: 0.3761 - accuracy: 0.8250\n",
      "Epoch 75/100\n",
      "187/187 [==============================] - 1s 5ms/step - loss: 0.3755 - accuracy: 0.8250\n",
      "Epoch 76/100\n",
      "187/187 [==============================] - 1s 5ms/step - loss: 0.3754 - accuracy: 0.8235\n",
      "Epoch 77/100\n",
      "187/187 [==============================] - 1s 5ms/step - loss: 0.3741 - accuracy: 0.8260\n",
      "Epoch 78/100\n",
      "187/187 [==============================] - 1s 5ms/step - loss: 0.3744 - accuracy: 0.8245\n",
      "Epoch 79/100\n",
      "187/187 [==============================] - 1s 5ms/step - loss: 0.3738 - accuracy: 0.8232\n",
      "Epoch 80/100\n",
      "187/187 [==============================] - 1s 5ms/step - loss: 0.3742 - accuracy: 0.8262\n",
      "Epoch 81/100\n",
      "187/187 [==============================] - 1s 5ms/step - loss: 0.3736 - accuracy: 0.8272\n",
      "Epoch 82/100\n",
      "187/187 [==============================] - 1s 5ms/step - loss: 0.3732 - accuracy: 0.8235\n",
      "Epoch 83/100\n",
      "187/187 [==============================] - 1s 5ms/step - loss: 0.3732 - accuracy: 0.8247\n",
      "Epoch 84/100\n",
      "187/187 [==============================] - 1s 5ms/step - loss: 0.3727 - accuracy: 0.8273\n",
      "Epoch 85/100\n",
      "187/187 [==============================] - 1s 5ms/step - loss: 0.3724 - accuracy: 0.8248\n",
      "Epoch 86/100\n",
      "187/187 [==============================] - 1s 5ms/step - loss: 0.3716 - accuracy: 0.8238\n",
      "Epoch 87/100\n",
      "187/187 [==============================] - 1s 5ms/step - loss: 0.3716 - accuracy: 0.8260\n",
      "Epoch 88/100\n",
      "187/187 [==============================] - 1s 5ms/step - loss: 0.3714 - accuracy: 0.8258\n",
      "Epoch 89/100\n",
      "187/187 [==============================] - 1s 5ms/step - loss: 0.3705 - accuracy: 0.8260\n",
      "Epoch 90/100\n",
      "187/187 [==============================] - 1s 5ms/step - loss: 0.3707 - accuracy: 0.8265\n",
      "Epoch 91/100\n",
      "187/187 [==============================] - 1s 5ms/step - loss: 0.3708 - accuracy: 0.8262\n",
      "Epoch 92/100\n",
      "187/187 [==============================] - 1s 5ms/step - loss: 0.3705 - accuracy: 0.8265\n",
      "Epoch 93/100\n",
      "187/187 [==============================] - 1s 5ms/step - loss: 0.3696 - accuracy: 0.8267\n",
      "Epoch 94/100\n",
      "187/187 [==============================] - 1s 5ms/step - loss: 0.3698 - accuracy: 0.8255\n",
      "Epoch 95/100\n",
      "187/187 [==============================] - 1s 5ms/step - loss: 0.3698 - accuracy: 0.8247\n",
      "Epoch 96/100\n",
      "187/187 [==============================] - 1s 5ms/step - loss: 0.3700 - accuracy: 0.8272\n",
      "Epoch 97/100\n",
      "187/187 [==============================] - 1s 5ms/step - loss: 0.3697 - accuracy: 0.8262\n",
      "Epoch 98/100\n",
      "187/187 [==============================] - 1s 5ms/step - loss: 0.3686 - accuracy: 0.8255\n",
      "Epoch 99/100\n",
      "187/187 [==============================] - 1s 5ms/step - loss: 0.3693 - accuracy: 0.8260\n",
      "Epoch 100/100\n",
      "187/187 [==============================] - 1s 5ms/step - loss: 0.3686 - accuracy: 0.8248\n"
     ]
    },
    {
     "data": {
      "text/plain": [
       "<keras.callbacks.History at 0x15fe30af0>"
      ]
     },
     "execution_count": 36,
     "metadata": {},
     "output_type": "execute_result"
    }
   ],
   "source": [
    "import tensorflow as tf\n",
    "from tensorflow import keras\n",
    "\n",
    "model = keras.Sequential([\n",
    "    keras.layers.Dense(20, input_shape=(23,), activation = 'relu'),\n",
    "    keras.layers.Dense(10, input_shape=(20,), activation = 'relu'),\n",
    "    keras.layers.Dense(1, activation = 'sigmoid'),\n",
    "])\n",
    "\n",
    "model.compile(optimizer = 'adam',\n",
    "             loss = 'binary_crossentropy',\n",
    "             metrics=['accuracy'])\n",
    "\n",
    "model.fit(X_train, y_train, epochs = 100)"
   ]
  },
  {
   "cell_type": "code",
   "execution_count": 37,
   "id": "30bf5d30",
   "metadata": {},
   "outputs": [
    {
     "name": "stdout",
     "output_type": "stream",
     "text": [
      "Model: \"sequential\"\n",
      "_________________________________________________________________\n",
      " Layer (type)                Output Shape              Param #   \n",
      "=================================================================\n",
      " dense (Dense)               (None, 20)                480       \n",
      "                                                                 \n",
      " dense_1 (Dense)             (None, 10)                210       \n",
      "                                                                 \n",
      " dense_2 (Dense)             (None, 1)                 11        \n",
      "                                                                 \n",
      "=================================================================\n",
      "Total params: 701\n",
      "Trainable params: 701\n",
      "Non-trainable params: 0\n",
      "_________________________________________________________________\n"
     ]
    }
   ],
   "source": [
    "model.summary()"
   ]
  },
  {
   "cell_type": "code",
   "execution_count": 38,
   "id": "b0217aec",
   "metadata": {},
   "outputs": [
    {
     "name": "stdout",
     "output_type": "stream",
     "text": [
      "33/33 [==============================] - 0s 5ms/step - loss: 0.4644 - accuracy: 0.7754\n"
     ]
    },
    {
     "name": "stderr",
     "output_type": "stream",
     "text": [
      "2022-12-07 18:33:45.041083: I tensorflow/core/grappler/optimizers/custom_graph_optimizer_registry.cc:114] Plugin optimizer for device_type GPU is enabled.\n"
     ]
    },
    {
     "data": {
      "text/plain": [
       "[0.4643920361995697, 0.7753554582595825]"
      ]
     },
     "execution_count": 38,
     "metadata": {},
     "output_type": "execute_result"
    }
   ],
   "source": [
    "model.evaluate(X_test, y_test)"
   ]
  },
  {
   "cell_type": "code",
   "execution_count": 39,
   "id": "a2befbf7",
   "metadata": {},
   "outputs": [
    {
     "name": "stdout",
     "output_type": "stream",
     "text": [
      "33/33 [==============================] - 0s 2ms/step\n"
     ]
    },
    {
     "name": "stderr",
     "output_type": "stream",
     "text": [
      "2022-12-07 18:33:45.284006: I tensorflow/core/grappler/optimizers/custom_graph_optimizer_registry.cc:114] Plugin optimizer for device_type GPU is enabled.\n"
     ]
    }
   ],
   "source": [
    "y_pred = model.predict(X_test)"
   ]
  },
  {
   "cell_type": "code",
   "execution_count": 40,
   "id": "6ee87f54",
   "metadata": {},
   "outputs": [
    {
     "data": {
      "text/plain": [
       "array([[0.0137558 ],\n",
       "       [0.5875918 ],\n",
       "       [0.1353428 ],\n",
       "       [0.7314901 ],\n",
       "       [0.09035587]], dtype=float32)"
      ]
     },
     "execution_count": 40,
     "metadata": {},
     "output_type": "execute_result"
    }
   ],
   "source": [
    "y_pred[-5:]"
   ]
  },
  {
   "cell_type": "code",
   "execution_count": 41,
   "id": "a3d04b96",
   "metadata": {},
   "outputs": [
    {
     "name": "stderr",
     "output_type": "stream",
     "text": [
      "/var/folders/4f/9wwls0j92z90fgmqsv9knhsc0000gn/T/ipykernel_22977/3327618466.py:1: FutureWarning: The behavior of `series[i:j]` with an integer-dtype index is deprecated. In a future version, this will be treated as *label-based* indexing, consistent with e.g. `series[i]` lookups. To retain the old behavior, use `series.iloc[i:j]`. To get the future behavior, use `series.loc[i:j]`.\n",
      "  y_test[-5:]\n"
     ]
    },
    {
     "data": {
      "text/plain": [
       "2213    0\n",
       "4223    0\n",
       "4623    0\n",
       "3771    1\n",
       "6470    0\n",
       "Name: Churn, dtype: int64"
      ]
     },
     "execution_count": 41,
     "metadata": {},
     "output_type": "execute_result"
    }
   ],
   "source": [
    "y_test[-5:]"
   ]
  },
  {
   "cell_type": "code",
   "execution_count": 42,
   "id": "e8284ff4",
   "metadata": {},
   "outputs": [],
   "source": [
    "y_predict = []\n",
    "for ele in y_pred:\n",
    "    if ele > 0.5:\n",
    "        y_predict.append(1)\n",
    "    else:\n",
    "        y_predict.append(0)"
   ]
  },
  {
   "cell_type": "code",
   "execution_count": 43,
   "id": "f4c73b19",
   "metadata": {},
   "outputs": [
    {
     "data": {
      "text/plain": [
       "[0, 0, 1, 0, 0, 1, 0, 1, 0, 0, 0, 0, 0, 1, 0]"
      ]
     },
     "execution_count": 43,
     "metadata": {},
     "output_type": "execute_result"
    }
   ],
   "source": [
    "y_predict[:15]"
   ]
  },
  {
   "cell_type": "code",
   "execution_count": 44,
   "id": "9cb0de44",
   "metadata": {},
   "outputs": [
    {
     "name": "stdout",
     "output_type": "stream",
     "text": [
      "              precision    recall  f1-score   support\n",
      "\n",
      "           0       0.84      0.86      0.85       771\n",
      "           1       0.59      0.55      0.57       284\n",
      "\n",
      "    accuracy                           0.78      1055\n",
      "   macro avg       0.71      0.70      0.71      1055\n",
      "weighted avg       0.77      0.78      0.77      1055\n",
      "\n"
     ]
    }
   ],
   "source": [
    "from sklearn.metrics import confusion_matrix, classification_report\n",
    "\n",
    "print(classification_report(y_test, y_predict))"
   ]
  },
  {
   "cell_type": "code",
   "execution_count": 45,
   "id": "3c8e6b48",
   "metadata": {},
   "outputs": [
    {
     "data": {
      "text/plain": [
       "Text(70.72222222222221, 0.5, 'Truth')"
      ]
     },
     "execution_count": 45,
     "metadata": {},
     "output_type": "execute_result"
    },
    {
     "data": {
      "image/png": "[encoded data removed]",
      "text/plain": [
       "<Figure size 800x800 with 2 Axes>"
      ]
     },
     "metadata": {},
     "output_type": "display_data"
    }
   ],
   "source": [
    "import seaborn as sns\n",
    "cm = tf.math.confusion_matrix(labels = y_test, predictions = y_predict)\n",
    "\n",
    "plt.figure(figsize = (8,8))\n",
    "sns.heatmap(cm, annot = True, fmt = 'd')\n",
    "plt.xlabel('Predicted')\n",
    "plt.ylabel('Truth')"
   ]
  },
  {
   "cell_type": "markdown",
   "id": "13650ea7",
   "metadata": {},
   "source": [
    "Accuracy:\n",
    "\n",
    "Ratio of total correct predictions/Total number of predictions"
   ]
  },
  {
   "cell_type": "code",
   "execution_count": 46,
   "id": "76f157b1",
   "metadata": {},
   "outputs": [
    {
     "data": {
      "text/plain": [
       "0.78"
      ]
     },
     "execution_count": 46,
     "metadata": {},
     "output_type": "execute_result"
    }
   ],
   "source": [
    "round((689+131)/(689+131+153+82),2)"
   ]
  },
  {
   "cell_type": "markdown",
   "id": "c108badb",
   "metadata": {},
   "source": [
    "Precison for class 0 who didnot left the service"
   ]
  },
  {
   "cell_type": "markdown",
   "id": "e8b53b11",
   "metadata": {},
   "source": [
    "Total correct predictions for class 0 / Total number of prediction class 0"
   ]
  },
  {
   "cell_type": "code",
   "execution_count": 47,
   "id": "829f2347",
   "metadata": {},
   "outputs": [
    {
     "data": {
      "text/plain": [
       "0.62"
      ]
     },
     "execution_count": 47,
     "metadata": {},
     "output_type": "execute_result"
    }
   ],
   "source": [
    "round(131/(131 + 82), 2)"
   ]
  },
  {
   "cell_type": "markdown",
   "id": "c98c6b30",
   "metadata": {},
   "source": [
    "Precison for class 1 who left the service"
   ]
  },
  {
   "cell_type": "markdown",
   "id": "3e1ada75",
   "metadata": {},
   "source": [
    "Total correct predictions for class 1 / Total number of prediction class 1"
   ]
  },
  {
   "cell_type": "code",
   "execution_count": 48,
   "id": "4e1d124f",
   "metadata": {},
   "outputs": [
    {
     "data": {
      "text/plain": [
       "0.82"
      ]
     },
     "execution_count": 48,
     "metadata": {},
     "output_type": "execute_result"
    }
   ],
   "source": [
    "round(689/(689+153),2)"
   ]
  },
  {
   "cell_type": "markdown",
   "id": "4452de58",
   "metadata": {},
   "source": [
    "Recall for class 0:\n",
    "\n",
    "Number of correctly predicted class 0 / Total number of Actual class 0"
   ]
  },
  {
   "cell_type": "code",
   "execution_count": 49,
   "id": "bac09555",
   "metadata": {},
   "outputs": [
    {
     "data": {
      "text/plain": [
       "0.46"
      ]
     },
     "execution_count": 49,
     "metadata": {},
     "output_type": "execute_result"
    }
   ],
   "source": [
    "round(131/(131+153), 2)"
   ]
  },
  {
   "cell_type": "markdown",
   "id": "62be6e74",
   "metadata": {},
   "source": [
    "Recall for class 1:\n",
    "\n",
    "Number of correctly predicted class 1 / Total number of Actual class 1"
   ]
  },
  {
   "cell_type": "code",
   "execution_count": 50,
   "id": "3f837a9d",
   "metadata": {},
   "outputs": [
    {
     "data": {
      "text/plain": [
       "0.89"
      ]
     },
     "execution_count": 50,
     "metadata": {},
     "output_type": "execute_result"
    }
   ],
   "source": [
    "round(689/(689+82),2)"
   ]
  },
  {
   "cell_type": "markdown",
   "id": "0e1adc77",
   "metadata": {},
   "source": [
    "F1 score for any class:\n",
    "\n",
    "Harmonic mean of precison and recall for any class label"
   ]
  },
  {
   "cell_type": "markdown",
   "id": "414ceeb6",
   "metadata": {},
   "source": [
    "WE ARE TRYING TO IMPROVE THE ACCURACY OF THE MODEL BY REDUCING THE DIFFERENCE IN TRAIN AND TEST ACCURACIES."
   ]
  },
  {
   "cell_type": "code",
   "execution_count": 51,
   "id": "f1b7a889",
   "metadata": {},
   "outputs": [
    {
     "data": {
      "text/plain": [
       "0    771\n",
       "1    284\n",
       "Name: Churn, dtype: int64"
      ]
     },
     "execution_count": 51,
     "metadata": {},
     "output_type": "execute_result"
    }
   ],
   "source": [
    "y_test.value_counts()"
   ]
  },
  {
   "cell_type": "markdown",
   "id": "1a40a532",
   "metadata": {},
   "source": [
    "WE SEE HERE THAT THE DATASET IS IMBALANCED."
   ]
  },
  {
   "cell_type": "markdown",
   "id": "136c06e6",
   "metadata": {},
   "source": [
    "CLASS COUNT IN THE ORIGINAL DATASET"
   ]
  },
  {
   "cell_type": "code",
   "execution_count": 52,
   "id": "2bea4152",
   "metadata": {},
   "outputs": [],
   "source": [
    "count_class_0, count_class_1 = df1.Churn.value_counts()"
   ]
  },
  {
   "cell_type": "code",
   "execution_count": 53,
   "id": "bcd4c3dc",
   "metadata": {},
   "outputs": [
    {
     "data": {
      "text/plain": [
       "5163"
      ]
     },
     "execution_count": 53,
     "metadata": {},
     "output_type": "execute_result"
    }
   ],
   "source": [
    "count_class_0"
   ]
  },
  {
   "cell_type": "code",
   "execution_count": 54,
   "id": "0f7d161f",
   "metadata": {},
   "outputs": [
    {
     "data": {
      "text/plain": [
       "1869"
      ]
     },
     "execution_count": 54,
     "metadata": {},
     "output_type": "execute_result"
    }
   ],
   "source": [
    "count_class_1"
   ]
  },
  {
   "cell_type": "markdown",
   "id": "bf85fa75",
   "metadata": {},
   "source": [
    "DIVIDE BY CLASS"
   ]
  },
  {
   "cell_type": "code",
   "execution_count": 55,
   "id": "9e347e58",
   "metadata": {},
   "outputs": [],
   "source": [
    "df_class_0 = df2[df2['Churn']==0]\n",
    "df_class_1 = df2[df2['Churn']==1]"
   ]
  },
  {
   "cell_type": "code",
   "execution_count": 56,
   "id": "e8b64bc4",
   "metadata": {},
   "outputs": [
    {
     "data": {
      "text/plain": [
       "(5163, 24)"
      ]
     },
     "execution_count": 56,
     "metadata": {},
     "output_type": "execute_result"
    }
   ],
   "source": [
    "df_class_0.shape"
   ]
  },
  {
   "cell_type": "code",
   "execution_count": 57,
   "id": "b03910f9",
   "metadata": {},
   "outputs": [
    {
     "data": {
      "text/plain": [
       "(1869, 24)"
      ]
     },
     "execution_count": 57,
     "metadata": {},
     "output_type": "execute_result"
    }
   ],
   "source": [
    "df_class_1.shape"
   ]
  },
  {
   "cell_type": "markdown",
   "id": "86493274",
   "metadata": {},
   "source": [
    "LETS HANDLE THE IMBALANCE IN DATASET"
   ]
  },
  {
   "cell_type": "markdown",
   "id": "d34c3c50",
   "metadata": {},
   "source": [
    "UNDERSAMPLING"
   ]
  },
  {
   "cell_type": "markdown",
   "id": "48343148",
   "metadata": {},
   "source": [
    "Randomly choose data points from the majority sample. Count of data points chosen from majority sample will match the count of data points in minority sample."
   ]
  },
  {
   "cell_type": "code",
   "execution_count": 61,
   "id": "6ca79de5",
   "metadata": {},
   "outputs": [],
   "source": [
    "df_class_0_under = df_class_0.sample(count_class_1)\n",
    "df_test_under = pd.concat([df_class_0_under, df_class_1], axis = 0)"
   ]
  },
  {
   "cell_type": "code",
   "execution_count": 63,
   "id": "0c1ad081",
   "metadata": {},
   "outputs": [
    {
     "data": {
      "text/plain": [
       "(3738, 24)"
      ]
     },
     "execution_count": 63,
     "metadata": {},
     "output_type": "execute_result"
    }
   ],
   "source": [
    "df_test_under.shape"
   ]
  },
  {
   "cell_type": "code",
   "execution_count": 64,
   "id": "079d3dab",
   "metadata": {},
   "outputs": [
    {
     "data": {
      "text/plain": [
       "0    1869\n",
       "1    1869\n",
       "Name: Churn, dtype: int64"
      ]
     },
     "execution_count": 64,
     "metadata": {},
     "output_type": "execute_result"
    }
   ],
   "source": [
    "df_test_under['Churn'].value_counts()"
   ]
  },
  {
   "cell_type": "code",
   "execution_count": 65,
   "id": "8f211498",
   "metadata": {},
   "outputs": [],
   "source": [
    "X = df_test_under.drop('Churn', axis = 'columns')\n",
    "y = df_test_under.Churn"
   ]
  },
  {
   "cell_type": "code",
   "execution_count": 66,
   "id": "11fdbe41",
   "metadata": {},
   "outputs": [],
   "source": [
    "X_train, X_test, y_train, y_test = train_test_split(X, y, test_size = 0.2, random_state = 15, stratify=y)"
   ]
  },
  {
   "cell_type": "code",
   "execution_count": 67,
   "id": "53bb177a",
   "metadata": {},
   "outputs": [
    {
     "data": {
      "text/plain": [
       "1    374\n",
       "0    374\n",
       "Name: Churn, dtype: int64"
      ]
     },
     "execution_count": 67,
     "metadata": {},
     "output_type": "execute_result"
    }
   ],
   "source": [
    "y_test.value_counts()"
   ]
  },
  {
   "cell_type": "code",
   "execution_count": 69,
   "id": "6b9b1006",
   "metadata": {},
   "outputs": [
    {
     "data": {
      "text/plain": [
       "0    1495\n",
       "1    1495\n",
       "Name: Churn, dtype: int64"
      ]
     },
     "execution_count": 69,
     "metadata": {},
     "output_type": "execute_result"
    }
   ],
   "source": [
    "y_train.value_counts()"
   ]
  },
  {
   "cell_type": "markdown",
   "id": "b5d0e86e",
   "metadata": {},
   "source": [
    "stratify = y \n",
    "\n",
    "This makes sure that the class is evenly distributed in both the training and the test dataset."
   ]
  },
  {
   "cell_type": "code",
   "execution_count": 70,
   "id": "62c79797",
   "metadata": {},
   "outputs": [
    {
     "name": "stdout",
     "output_type": "stream",
     "text": [
      "Epoch 1/100\n",
      " 9/94 [=>............................] - ETA: 0s - loss: 0.6950 - accuracy: 0.5139 "
     ]
    },
    {
     "name": "stderr",
     "output_type": "stream",
     "text": [
      "2022-12-07 18:50:25.101524: I tensorflow/core/grappler/optimizers/custom_graph_optimizer_registry.cc:114] Plugin optimizer for device_type GPU is enabled.\n"
     ]
    },
    {
     "name": "stdout",
     "output_type": "stream",
     "text": [
      "94/94 [==============================] - 1s 8ms/step - loss: 0.6331 - accuracy: 0.6659\n",
      "Epoch 2/100\n",
      "94/94 [==============================] - 1s 6ms/step - loss: 0.5370 - accuracy: 0.7455\n",
      "Epoch 3/100\n",
      "94/94 [==============================] - 1s 6ms/step - loss: 0.5026 - accuracy: 0.7629\n",
      "Epoch 4/100\n",
      "94/94 [==============================] - 1s 5ms/step - loss: 0.4941 - accuracy: 0.7612\n",
      "Epoch 5/100\n",
      "94/94 [==============================] - 1s 5ms/step - loss: 0.4893 - accuracy: 0.7629\n",
      "Epoch 6/100\n",
      "94/94 [==============================] - 1s 5ms/step - loss: 0.4875 - accuracy: 0.7656\n",
      "Epoch 7/100\n",
      "94/94 [==============================] - 1s 5ms/step - loss: 0.4854 - accuracy: 0.7689\n",
      "Epoch 8/100\n",
      "94/94 [==============================] - 1s 6ms/step - loss: 0.4846 - accuracy: 0.7659\n",
      "Epoch 9/100\n",
      "94/94 [==============================] - 1s 6ms/step - loss: 0.4822 - accuracy: 0.7712\n",
      "Epoch 10/100\n",
      "94/94 [==============================] - 1s 6ms/step - loss: 0.4809 - accuracy: 0.7679\n",
      "Epoch 11/100\n",
      "94/94 [==============================] - 1s 5ms/step - loss: 0.4779 - accuracy: 0.7686\n",
      "Epoch 12/100\n",
      "94/94 [==============================] - 1s 5ms/step - loss: 0.4773 - accuracy: 0.7669\n",
      "Epoch 13/100\n",
      "94/94 [==============================] - 1s 5ms/step - loss: 0.4771 - accuracy: 0.7742\n",
      "Epoch 14/100\n",
      "94/94 [==============================] - 0s 5ms/step - loss: 0.4759 - accuracy: 0.7699\n",
      "Epoch 15/100\n",
      "94/94 [==============================] - 1s 6ms/step - loss: 0.4742 - accuracy: 0.7702\n",
      "Epoch 16/100\n",
      "94/94 [==============================] - 1s 6ms/step - loss: 0.4730 - accuracy: 0.7732\n",
      "Epoch 17/100\n",
      "94/94 [==============================] - 1s 6ms/step - loss: 0.4722 - accuracy: 0.7763\n",
      "Epoch 18/100\n",
      "94/94 [==============================] - 1s 5ms/step - loss: 0.4721 - accuracy: 0.7753\n",
      "Epoch 19/100\n",
      "94/94 [==============================] - 1s 5ms/step - loss: 0.4694 - accuracy: 0.7729\n",
      "Epoch 20/100\n",
      "94/94 [==============================] - 1s 6ms/step - loss: 0.4687 - accuracy: 0.7783\n",
      "Epoch 21/100\n",
      "94/94 [==============================] - 1s 5ms/step - loss: 0.4677 - accuracy: 0.7766\n",
      "Epoch 22/100\n",
      "94/94 [==============================] - 1s 5ms/step - loss: 0.4664 - accuracy: 0.7786\n",
      "Epoch 23/100\n",
      "94/94 [==============================] - 1s 6ms/step - loss: 0.4646 - accuracy: 0.7799\n",
      "Epoch 24/100\n",
      "94/94 [==============================] - 1s 6ms/step - loss: 0.4642 - accuracy: 0.7746\n",
      "Epoch 25/100\n",
      "94/94 [==============================] - 1s 6ms/step - loss: 0.4629 - accuracy: 0.7839\n",
      "Epoch 26/100\n",
      "94/94 [==============================] - 1s 6ms/step - loss: 0.4630 - accuracy: 0.7809\n",
      "Epoch 27/100\n",
      "94/94 [==============================] - 1s 6ms/step - loss: 0.4606 - accuracy: 0.7823\n",
      "Epoch 28/100\n",
      "94/94 [==============================] - 1s 6ms/step - loss: 0.4596 - accuracy: 0.7806\n",
      "Epoch 29/100\n",
      "94/94 [==============================] - 1s 6ms/step - loss: 0.4592 - accuracy: 0.7816\n",
      "Epoch 30/100\n",
      "94/94 [==============================] - 1s 6ms/step - loss: 0.4579 - accuracy: 0.7826\n",
      "Epoch 31/100\n",
      "94/94 [==============================] - 1s 5ms/step - loss: 0.4562 - accuracy: 0.7819\n",
      "Epoch 32/100\n",
      "94/94 [==============================] - 1s 5ms/step - loss: 0.4566 - accuracy: 0.7863\n",
      "Epoch 33/100\n",
      "94/94 [==============================] - 1s 6ms/step - loss: 0.4549 - accuracy: 0.7793\n",
      "Epoch 34/100\n",
      "94/94 [==============================] - 1s 6ms/step - loss: 0.4543 - accuracy: 0.7829\n",
      "Epoch 35/100\n",
      "94/94 [==============================] - 1s 6ms/step - loss: 0.4518 - accuracy: 0.7819\n",
      "Epoch 36/100\n",
      "94/94 [==============================] - 1s 5ms/step - loss: 0.4534 - accuracy: 0.7843\n",
      "Epoch 37/100\n",
      "94/94 [==============================] - 0s 5ms/step - loss: 0.4509 - accuracy: 0.7816\n",
      "Epoch 38/100\n",
      "94/94 [==============================] - 1s 6ms/step - loss: 0.4494 - accuracy: 0.7896\n",
      "Epoch 39/100\n",
      "94/94 [==============================] - 1s 5ms/step - loss: 0.4495 - accuracy: 0.7846\n",
      "Epoch 40/100\n",
      "94/94 [==============================] - 1s 5ms/step - loss: 0.4498 - accuracy: 0.7846\n",
      "Epoch 41/100\n",
      "94/94 [==============================] - 1s 6ms/step - loss: 0.4472 - accuracy: 0.7870\n",
      "Epoch 42/100\n",
      "94/94 [==============================] - 1s 6ms/step - loss: 0.4470 - accuracy: 0.7870\n",
      "Epoch 43/100\n",
      "94/94 [==============================] - 1s 5ms/step - loss: 0.4452 - accuracy: 0.7896\n",
      "Epoch 44/100\n",
      "94/94 [==============================] - 1s 5ms/step - loss: 0.4452 - accuracy: 0.7876\n",
      "Epoch 45/100\n",
      "94/94 [==============================] - 1s 5ms/step - loss: 0.4434 - accuracy: 0.7896\n",
      "Epoch 46/100\n",
      "94/94 [==============================] - 1s 5ms/step - loss: 0.4437 - accuracy: 0.7876\n",
      "Epoch 47/100\n",
      "94/94 [==============================] - 1s 5ms/step - loss: 0.4433 - accuracy: 0.7849\n",
      "Epoch 48/100\n",
      "94/94 [==============================] - 1s 6ms/step - loss: 0.4439 - accuracy: 0.7903\n",
      "Epoch 49/100\n",
      "94/94 [==============================] - 1s 6ms/step - loss: 0.4413 - accuracy: 0.7910\n",
      "Epoch 50/100\n",
      "94/94 [==============================] - 1s 6ms/step - loss: 0.4415 - accuracy: 0.7896\n",
      "Epoch 51/100\n",
      "94/94 [==============================] - 1s 6ms/step - loss: 0.4406 - accuracy: 0.7963\n",
      "Epoch 52/100\n",
      "94/94 [==============================] - 1s 6ms/step - loss: 0.4390 - accuracy: 0.7920\n",
      "Epoch 53/100\n",
      "94/94 [==============================] - 1s 5ms/step - loss: 0.4382 - accuracy: 0.7900\n",
      "Epoch 54/100\n",
      "94/94 [==============================] - 1s 5ms/step - loss: 0.4393 - accuracy: 0.7930\n",
      "Epoch 55/100\n",
      "94/94 [==============================] - 1s 5ms/step - loss: 0.4368 - accuracy: 0.7946\n",
      "Epoch 56/100\n",
      "94/94 [==============================] - 1s 5ms/step - loss: 0.4363 - accuracy: 0.7943\n",
      "Epoch 57/100\n",
      "94/94 [==============================] - 1s 5ms/step - loss: 0.4377 - accuracy: 0.7930\n",
      "Epoch 58/100\n",
      "94/94 [==============================] - 1s 5ms/step - loss: 0.4360 - accuracy: 0.7967\n",
      "Epoch 59/100\n",
      "94/94 [==============================] - 1s 5ms/step - loss: 0.4357 - accuracy: 0.7963\n",
      "Epoch 60/100\n",
      "94/94 [==============================] - 1s 6ms/step - loss: 0.4340 - accuracy: 0.7973\n",
      "Epoch 61/100\n",
      "94/94 [==============================] - 1s 5ms/step - loss: 0.4357 - accuracy: 0.7943\n",
      "Epoch 62/100\n",
      "94/94 [==============================] - 1s 5ms/step - loss: 0.4330 - accuracy: 0.7993\n",
      "Epoch 63/100\n",
      "94/94 [==============================] - 1s 6ms/step - loss: 0.4332 - accuracy: 0.7960\n",
      "Epoch 64/100\n",
      "94/94 [==============================] - 1s 6ms/step - loss: 0.4321 - accuracy: 0.7957\n",
      "Epoch 65/100\n",
      "94/94 [==============================] - 1s 6ms/step - loss: 0.4361 - accuracy: 0.7896\n",
      "Epoch 66/100\n",
      "94/94 [==============================] - 1s 6ms/step - loss: 0.4323 - accuracy: 0.7943\n",
      "Epoch 67/100\n",
      "94/94 [==============================] - 1s 6ms/step - loss: 0.4306 - accuracy: 0.7957\n",
      "Epoch 68/100\n",
      "94/94 [==============================] - 1s 6ms/step - loss: 0.4319 - accuracy: 0.7920\n",
      "Epoch 69/100\n",
      "94/94 [==============================] - 1s 5ms/step - loss: 0.4298 - accuracy: 0.7950\n",
      "Epoch 70/100\n",
      "94/94 [==============================] - 1s 6ms/step - loss: 0.4296 - accuracy: 0.7930\n",
      "Epoch 71/100\n",
      "94/94 [==============================] - 1s 6ms/step - loss: 0.4278 - accuracy: 0.7977\n",
      "Epoch 72/100\n",
      "94/94 [==============================] - 1s 6ms/step - loss: 0.4274 - accuracy: 0.8017\n",
      "Epoch 73/100\n",
      "94/94 [==============================] - 1s 6ms/step - loss: 0.4272 - accuracy: 0.8000\n",
      "Epoch 74/100\n",
      "94/94 [==============================] - 1s 6ms/step - loss: 0.4291 - accuracy: 0.7940\n",
      "Epoch 75/100\n",
      "94/94 [==============================] - 1s 6ms/step - loss: 0.4261 - accuracy: 0.7987\n",
      "Epoch 76/100\n",
      "94/94 [==============================] - 1s 6ms/step - loss: 0.4266 - accuracy: 0.7967\n",
      "Epoch 77/100\n",
      "94/94 [==============================] - 1s 5ms/step - loss: 0.4254 - accuracy: 0.7983\n",
      "Epoch 78/100\n",
      "94/94 [==============================] - 1s 5ms/step - loss: 0.4246 - accuracy: 0.8003\n",
      "Epoch 79/100\n",
      "94/94 [==============================] - 1s 6ms/step - loss: 0.4251 - accuracy: 0.7983\n",
      "Epoch 80/100\n",
      "94/94 [==============================] - 1s 6ms/step - loss: 0.4247 - accuracy: 0.8020\n",
      "Epoch 81/100\n",
      "94/94 [==============================] - 1s 6ms/step - loss: 0.4250 - accuracy: 0.7967\n",
      "Epoch 82/100\n",
      "94/94 [==============================] - 1s 6ms/step - loss: 0.4242 - accuracy: 0.7980\n",
      "Epoch 83/100\n",
      "94/94 [==============================] - 1s 6ms/step - loss: 0.4227 - accuracy: 0.7963\n",
      "Epoch 84/100\n",
      "94/94 [==============================] - 1s 5ms/step - loss: 0.4234 - accuracy: 0.7993\n",
      "Epoch 85/100\n",
      "94/94 [==============================] - 1s 6ms/step - loss: 0.4227 - accuracy: 0.8013\n",
      "Epoch 86/100\n",
      "94/94 [==============================] - 0s 5ms/step - loss: 0.4220 - accuracy: 0.8020\n",
      "Epoch 87/100\n",
      "94/94 [==============================] - 0s 5ms/step - loss: 0.4212 - accuracy: 0.8027\n",
      "Epoch 88/100\n",
      "94/94 [==============================] - 1s 6ms/step - loss: 0.4219 - accuracy: 0.8007\n",
      "Epoch 89/100\n",
      "94/94 [==============================] - 1s 5ms/step - loss: 0.4214 - accuracy: 0.7997\n",
      "Epoch 90/100\n",
      "94/94 [==============================] - 1s 5ms/step - loss: 0.4204 - accuracy: 0.8047\n",
      "Epoch 91/100\n",
      "94/94 [==============================] - 1s 5ms/step - loss: 0.4196 - accuracy: 0.8010\n",
      "Epoch 92/100\n",
      "94/94 [==============================] - 1s 6ms/step - loss: 0.4189 - accuracy: 0.8037\n",
      "Epoch 93/100\n",
      "94/94 [==============================] - 1s 6ms/step - loss: 0.4212 - accuracy: 0.8003\n",
      "Epoch 94/100\n",
      "94/94 [==============================] - 1s 5ms/step - loss: 0.4173 - accuracy: 0.8013\n",
      "Epoch 95/100\n",
      "94/94 [==============================] - 1s 6ms/step - loss: 0.4184 - accuracy: 0.8023\n",
      "Epoch 96/100\n",
      "94/94 [==============================] - 1s 6ms/step - loss: 0.4171 - accuracy: 0.8023\n",
      "Epoch 97/100\n",
      "94/94 [==============================] - 0s 5ms/step - loss: 0.4175 - accuracy: 0.8054\n",
      "Epoch 98/100\n",
      "94/94 [==============================] - 1s 5ms/step - loss: 0.4188 - accuracy: 0.8027\n",
      "Epoch 99/100\n",
      "94/94 [==============================] - 1s 6ms/step - loss: 0.4162 - accuracy: 0.8047\n",
      "Epoch 100/100\n",
      "94/94 [==============================] - 1s 5ms/step - loss: 0.4166 - accuracy: 0.8037\n"
     ]
    },
    {
     "data": {
      "text/plain": [
       "<keras.callbacks.History at 0x167259550>"
      ]
     },
     "execution_count": 70,
     "metadata": {},
     "output_type": "execute_result"
    }
   ],
   "source": [
    "import tensorflow as tf\n",
    "from tensorflow import keras\n",
    "\n",
    "model = keras.Sequential([\n",
    "    keras.layers.Dense(20, input_shape=(23,), activation = 'relu'),\n",
    "    keras.layers.Dense(10, input_shape=(20,), activation = 'relu'),\n",
    "    keras.layers.Dense(1, activation = 'sigmoid'),\n",
    "])\n",
    "\n",
    "model.compile(optimizer = 'adam',\n",
    "             loss = 'binary_crossentropy',\n",
    "             metrics=['accuracy'])\n",
    "\n",
    "model.fit(X_train, y_train, epochs = 100)"
   ]
  },
  {
   "cell_type": "code",
   "execution_count": 72,
   "id": "a5bbeefc",
   "metadata": {},
   "outputs": [
    {
     "name": "stdout",
     "output_type": "stream",
     "text": [
      "24/24 [==============================] - 0s 4ms/step - loss: 0.5531 - accuracy: 0.7393\n"
     ]
    },
    {
     "data": {
      "text/plain": [
       "[0.5531383752822876, 0.7393048405647278]"
      ]
     },
     "execution_count": 72,
     "metadata": {},
     "output_type": "execute_result"
    }
   ],
   "source": [
    "model.evaluate(X_test, y_test)"
   ]
  },
  {
   "cell_type": "code",
   "execution_count": 73,
   "id": "aa82456c",
   "metadata": {},
   "outputs": [
    {
     "name": "stdout",
     "output_type": "stream",
     "text": [
      "24/24 [==============================] - 0s 2ms/step\n"
     ]
    },
    {
     "name": "stderr",
     "output_type": "stream",
     "text": [
      "2022-12-07 18:52:04.857185: I tensorflow/core/grappler/optimizers/custom_graph_optimizer_registry.cc:114] Plugin optimizer for device_type GPU is enabled.\n"
     ]
    }
   ],
   "source": [
    "y_pred = model.predict(X_test)"
   ]
  },
  {
   "cell_type": "code",
   "execution_count": 74,
   "id": "c4ba84cf",
   "metadata": {},
   "outputs": [],
   "source": [
    "y_predict = []\n",
    "for ele in y_pred:\n",
    "    if ele > 0.5:\n",
    "        y_predict.append(1)\n",
    "    else:\n",
    "        y_predict.append(0)"
   ]
  },
  {
   "cell_type": "code",
   "execution_count": 75,
   "id": "25ddd197",
   "metadata": {},
   "outputs": [
    {
     "name": "stdout",
     "output_type": "stream",
     "text": [
      "              precision    recall  f1-score   support\n",
      "\n",
      "           0       0.75      0.72      0.74       374\n",
      "           1       0.73      0.75      0.74       374\n",
      "\n",
      "    accuracy                           0.74       748\n",
      "   macro avg       0.74      0.74      0.74       748\n",
      "weighted avg       0.74      0.74      0.74       748\n",
      "\n"
     ]
    }
   ],
   "source": [
    "from sklearn.metrics import confusion_matrix, classification_report\n",
    "\n",
    "print(classification_report(y_test, y_predict))"
   ]
  },
  {
   "cell_type": "markdown",
   "id": "544f4313",
   "metadata": {},
   "source": [
    "Certainly the model has imporoved."
   ]
  },
  {
   "cell_type": "code",
   "execution_count": 76,
   "id": "2c9ec5b6",
   "metadata": {},
   "outputs": [
    {
     "data": {
      "text/plain": [
       "Text(70.72222222222221, 0.5, 'Truth')"
      ]
     },
     "execution_count": 76,
     "metadata": {},
     "output_type": "execute_result"
    },
    {
     "data": {
      "image/png": "[encoded data removed]",
      "text/plain": [
       "<Figure size 800x800 with 2 Axes>"
      ]
     },
     "metadata": {},
     "output_type": "display_data"
    }
   ],
   "source": [
    "import seaborn as sns\n",
    "cm = tf.math.confusion_matrix(labels = y_test, predictions = y_predict)\n",
    "\n",
    "plt.figure(figsize = (8,8))\n",
    "sns.heatmap(cm, annot = True, fmt = 'd')\n",
    "plt.xlabel('Predicted')\n",
    "plt.ylabel('Truth')"
   ]
  },
  {
   "cell_type": "markdown",
   "id": "182166b4",
   "metadata": {},
   "source": [
    "OVERSAMPLING"
   ]
  },
  {
   "cell_type": "code",
   "execution_count": 77,
   "id": "69e8d836",
   "metadata": {},
   "outputs": [
    {
     "data": {
      "text/plain": [
       "(5163, 1869)"
      ]
     },
     "execution_count": 77,
     "metadata": {},
     "output_type": "execute_result"
    }
   ],
   "source": [
    "count_class_0, count_class_1"
   ]
  },
  {
   "cell_type": "markdown",
   "id": "e3b856d1",
   "metadata": {},
   "source": [
    "`df.sample` will be used again but we will add `repalce=True`"
   ]
  },
  {
   "cell_type": "code",
   "execution_count": 78,
   "id": "3c1964db",
   "metadata": {},
   "outputs": [],
   "source": [
    "df_class_1_over = df_class_1.sample(count_class_0, replace=True)\n",
    "\n",
    "df_test_over = pd.concat([df_class_0, df_class_1_over], axis = 0)"
   ]
  },
  {
   "cell_type": "code",
   "execution_count": 79,
   "id": "6f22c615",
   "metadata": {},
   "outputs": [
    {
     "data": {
      "text/plain": [
       "0    5163\n",
       "1    5163\n",
       "Name: Churn, dtype: int64"
      ]
     },
     "execution_count": 79,
     "metadata": {},
     "output_type": "execute_result"
    }
   ],
   "source": [
    "df_test_over.Churn.value_counts()"
   ]
  },
  {
   "cell_type": "code",
   "execution_count": 80,
   "id": "bb592082",
   "metadata": {},
   "outputs": [
    {
     "data": {
      "text/plain": [
       "(10326, 24)"
      ]
     },
     "execution_count": 80,
     "metadata": {},
     "output_type": "execute_result"
    }
   ],
   "source": [
    "df_test_over.shape"
   ]
  },
  {
   "cell_type": "code",
   "execution_count": 81,
   "id": "36b3fd35",
   "metadata": {},
   "outputs": [],
   "source": [
    "X = df_test_over.drop('Churn', axis = 'columns')\n",
    "y = df_test_over.Churn"
   ]
  },
  {
   "cell_type": "code",
   "execution_count": 82,
   "id": "d35f7b87",
   "metadata": {},
   "outputs": [],
   "source": [
    "X_train, X_test, y_train, y_test = train_test_split(X, y, test_size = 0.2, random_state = 15, stratify=y)"
   ]
  },
  {
   "cell_type": "code",
   "execution_count": 83,
   "id": "a9f93ec3",
   "metadata": {},
   "outputs": [
    {
     "name": "stdout",
     "output_type": "stream",
     "text": [
      "1    1033\n",
      "0    1033\n",
      "Name: Churn, dtype: int64\n",
      "1    4130\n",
      "0    4130\n",
      "Name: Churn, dtype: int64\n"
     ]
    }
   ],
   "source": [
    "print(y_test.value_counts())\n",
    "print(y_train.value_counts())"
   ]
  },
  {
   "cell_type": "code",
   "execution_count": 84,
   "id": "96dce42d",
   "metadata": {},
   "outputs": [
    {
     "name": "stdout",
     "output_type": "stream",
     "text": [
      "Epoch 1/100\n",
      "  9/259 [>.............................] - ETA: 1s - loss: 0.6851 - accuracy: 0.5035 "
     ]
    },
    {
     "name": "stderr",
     "output_type": "stream",
     "text": [
      "2022-12-07 19:07:27.786423: I tensorflow/core/grappler/optimizers/custom_graph_optimizer_registry.cc:114] Plugin optimizer for device_type GPU is enabled.\n"
     ]
    },
    {
     "name": "stdout",
     "output_type": "stream",
     "text": [
      "259/259 [==============================] - 2s 7ms/step - loss: 0.5577 - accuracy: 0.7171\n",
      "Epoch 2/100\n",
      "259/259 [==============================] - 1s 5ms/step - loss: 0.4963 - accuracy: 0.7671\n",
      "Epoch 3/100\n",
      "259/259 [==============================] - 1s 5ms/step - loss: 0.4883 - accuracy: 0.7684\n",
      "Epoch 4/100\n",
      "259/259 [==============================] - 1s 5ms/step - loss: 0.4839 - accuracy: 0.7702\n",
      "Epoch 5/100\n",
      "259/259 [==============================] - 1s 5ms/step - loss: 0.4801 - accuracy: 0.7724\n",
      "Epoch 6/100\n",
      "259/259 [==============================] - 1s 5ms/step - loss: 0.4779 - accuracy: 0.7731\n",
      "Epoch 7/100\n",
      "259/259 [==============================] - 1s 5ms/step - loss: 0.4749 - accuracy: 0.7740\n",
      "Epoch 8/100\n",
      "259/259 [==============================] - 1s 5ms/step - loss: 0.4735 - accuracy: 0.7742\n",
      "Epoch 9/100\n",
      "259/259 [==============================] - 1s 6ms/step - loss: 0.4710 - accuracy: 0.7762\n",
      "Epoch 10/100\n",
      "259/259 [==============================] - 1s 5ms/step - loss: 0.4691 - accuracy: 0.7783\n",
      "Epoch 11/100\n",
      "259/259 [==============================] - 1s 5ms/step - loss: 0.4674 - accuracy: 0.7811\n",
      "Epoch 12/100\n",
      "259/259 [==============================] - 1s 5ms/step - loss: 0.4655 - accuracy: 0.7826\n",
      "Epoch 13/100\n",
      "259/259 [==============================] - 1s 5ms/step - loss: 0.4635 - accuracy: 0.7805\n",
      "Epoch 14/100\n",
      "259/259 [==============================] - 1s 5ms/step - loss: 0.4625 - accuracy: 0.7815\n",
      "Epoch 15/100\n",
      "259/259 [==============================] - 1s 5ms/step - loss: 0.4616 - accuracy: 0.7833\n",
      "Epoch 16/100\n",
      "259/259 [==============================] - 1s 5ms/step - loss: 0.4596 - accuracy: 0.7845\n",
      "Epoch 17/100\n",
      "259/259 [==============================] - 1s 5ms/step - loss: 0.4583 - accuracy: 0.7847\n",
      "Epoch 18/100\n",
      "259/259 [==============================] - 1s 6ms/step - loss: 0.4563 - accuracy: 0.7844\n",
      "Epoch 19/100\n",
      "259/259 [==============================] - 1s 5ms/step - loss: 0.4545 - accuracy: 0.7875\n",
      "Epoch 20/100\n",
      "259/259 [==============================] - 1s 5ms/step - loss: 0.4544 - accuracy: 0.7868\n",
      "Epoch 21/100\n",
      "259/259 [==============================] - 1s 5ms/step - loss: 0.4517 - accuracy: 0.7889\n",
      "Epoch 22/100\n",
      "259/259 [==============================] - 1s 5ms/step - loss: 0.4509 - accuracy: 0.7881\n",
      "Epoch 23/100\n",
      "259/259 [==============================] - 1s 5ms/step - loss: 0.4493 - accuracy: 0.7886\n",
      "Epoch 24/100\n",
      "259/259 [==============================] - 1s 5ms/step - loss: 0.4482 - accuracy: 0.7916\n",
      "Epoch 25/100\n",
      "259/259 [==============================] - 1s 5ms/step - loss: 0.4475 - accuracy: 0.7908\n",
      "Epoch 26/100\n",
      "259/259 [==============================] - 1s 6ms/step - loss: 0.4459 - accuracy: 0.7923\n",
      "Epoch 27/100\n",
      "259/259 [==============================] - 1s 5ms/step - loss: 0.4457 - accuracy: 0.7929\n",
      "Epoch 28/100\n",
      "259/259 [==============================] - 1s 5ms/step - loss: 0.4438 - accuracy: 0.7946\n",
      "Epoch 29/100\n",
      "259/259 [==============================] - 1s 5ms/step - loss: 0.4429 - accuracy: 0.7907\n",
      "Epoch 30/100\n",
      "259/259 [==============================] - 1s 5ms/step - loss: 0.4416 - accuracy: 0.7960\n",
      "Epoch 31/100\n",
      "259/259 [==============================] - 2s 6ms/step - loss: 0.4410 - accuracy: 0.7966\n",
      "Epoch 32/100\n",
      "259/259 [==============================] - 1s 6ms/step - loss: 0.4411 - accuracy: 0.7959\n",
      "Epoch 33/100\n",
      "259/259 [==============================] - 1s 6ms/step - loss: 0.4397 - accuracy: 0.7939\n",
      "Epoch 34/100\n",
      "259/259 [==============================] - 2s 6ms/step - loss: 0.4395 - accuracy: 0.7939\n",
      "Epoch 35/100\n",
      "259/259 [==============================] - 2s 6ms/step - loss: 0.4381 - accuracy: 0.7989\n",
      "Epoch 36/100\n",
      "259/259 [==============================] - 2s 6ms/step - loss: 0.4373 - accuracy: 0.7983\n",
      "Epoch 37/100\n",
      "259/259 [==============================] - 1s 5ms/step - loss: 0.4371 - accuracy: 0.7995\n",
      "Epoch 38/100\n",
      "259/259 [==============================] - 1s 5ms/step - loss: 0.4357 - accuracy: 0.7999\n",
      "Epoch 39/100\n",
      "259/259 [==============================] - 1s 5ms/step - loss: 0.4348 - accuracy: 0.7999\n",
      "Epoch 40/100\n",
      "259/259 [==============================] - 1s 5ms/step - loss: 0.4348 - accuracy: 0.8004\n",
      "Epoch 41/100\n",
      "259/259 [==============================] - 1s 5ms/step - loss: 0.4336 - accuracy: 0.7994\n",
      "Epoch 42/100\n",
      "259/259 [==============================] - 1s 6ms/step - loss: 0.4322 - accuracy: 0.8006\n",
      "Epoch 43/100\n",
      "259/259 [==============================] - 1s 6ms/step - loss: 0.4322 - accuracy: 0.8007\n",
      "Epoch 44/100\n",
      "259/259 [==============================] - 1s 6ms/step - loss: 0.4311 - accuracy: 0.7999\n",
      "Epoch 45/100\n",
      "259/259 [==============================] - 2s 6ms/step - loss: 0.4309 - accuracy: 0.8031\n",
      "Epoch 46/100\n",
      "259/259 [==============================] - 2s 6ms/step - loss: 0.4300 - accuracy: 0.8019\n",
      "Epoch 47/100\n",
      "259/259 [==============================] - 1s 6ms/step - loss: 0.4295 - accuracy: 0.8023\n",
      "Epoch 48/100\n",
      "259/259 [==============================] - 1s 6ms/step - loss: 0.4295 - accuracy: 0.8031\n",
      "Epoch 49/100\n",
      "259/259 [==============================] - 1s 5ms/step - loss: 0.4284 - accuracy: 0.8027\n",
      "Epoch 50/100\n",
      "259/259 [==============================] - 1s 5ms/step - loss: 0.4282 - accuracy: 0.8012\n",
      "Epoch 51/100\n",
      "259/259 [==============================] - 1s 6ms/step - loss: 0.4275 - accuracy: 0.8031\n",
      "Epoch 52/100\n",
      "259/259 [==============================] - 2s 6ms/step - loss: 0.4272 - accuracy: 0.8038\n",
      "Epoch 53/100\n",
      "259/259 [==============================] - 1s 6ms/step - loss: 0.4257 - accuracy: 0.8050\n",
      "Epoch 54/100\n",
      "259/259 [==============================] - 2s 6ms/step - loss: 0.4249 - accuracy: 0.8062\n",
      "Epoch 55/100\n",
      "259/259 [==============================] - 2s 6ms/step - loss: 0.4249 - accuracy: 0.8045\n",
      "Epoch 56/100\n",
      "259/259 [==============================] - 1s 6ms/step - loss: 0.4247 - accuracy: 0.8061\n",
      "Epoch 57/100\n",
      "259/259 [==============================] - 2s 6ms/step - loss: 0.4233 - accuracy: 0.8033\n",
      "Epoch 58/100\n",
      "259/259 [==============================] - 2s 6ms/step - loss: 0.4231 - accuracy: 0.8093\n",
      "Epoch 59/100\n",
      "259/259 [==============================] - 2s 6ms/step - loss: 0.4245 - accuracy: 0.8034\n",
      "Epoch 60/100\n",
      "259/259 [==============================] - 1s 6ms/step - loss: 0.4224 - accuracy: 0.8063\n",
      "Epoch 61/100\n",
      "259/259 [==============================] - 1s 5ms/step - loss: 0.4228 - accuracy: 0.8067\n",
      "Epoch 62/100\n",
      "259/259 [==============================] - 1s 6ms/step - loss: 0.4211 - accuracy: 0.8075\n",
      "Epoch 63/100\n",
      "259/259 [==============================] - 1s 5ms/step - loss: 0.4208 - accuracy: 0.8069\n",
      "Epoch 64/100\n",
      "259/259 [==============================] - 2s 6ms/step - loss: 0.4203 - accuracy: 0.8085\n",
      "Epoch 65/100\n",
      "259/259 [==============================] - 2s 6ms/step - loss: 0.4186 - accuracy: 0.8097\n",
      "Epoch 66/100\n",
      "259/259 [==============================] - 1s 6ms/step - loss: 0.4190 - accuracy: 0.8082\n",
      "Epoch 67/100\n",
      "259/259 [==============================] - 1s 6ms/step - loss: 0.4190 - accuracy: 0.8085\n",
      "Epoch 68/100\n",
      "259/259 [==============================] - 2s 6ms/step - loss: 0.4175 - accuracy: 0.8093\n",
      "Epoch 69/100\n",
      "259/259 [==============================] - 2s 6ms/step - loss: 0.4167 - accuracy: 0.8105\n",
      "Epoch 70/100\n",
      "259/259 [==============================] - 2s 6ms/step - loss: 0.4156 - accuracy: 0.8115\n",
      "Epoch 71/100\n",
      "259/259 [==============================] - 2s 6ms/step - loss: 0.4170 - accuracy: 0.8102\n",
      "Epoch 72/100\n",
      "259/259 [==============================] - 1s 6ms/step - loss: 0.4152 - accuracy: 0.8107\n",
      "Epoch 73/100\n",
      "259/259 [==============================] - 1s 6ms/step - loss: 0.4162 - accuracy: 0.8073\n",
      "Epoch 74/100\n",
      "259/259 [==============================] - 1s 6ms/step - loss: 0.4149 - accuracy: 0.8116\n",
      "Epoch 75/100\n",
      "259/259 [==============================] - 1s 6ms/step - loss: 0.4135 - accuracy: 0.8137\n",
      "Epoch 76/100\n",
      "259/259 [==============================] - 1s 6ms/step - loss: 0.4148 - accuracy: 0.8111\n",
      "Epoch 77/100\n",
      "259/259 [==============================] - 1s 6ms/step - loss: 0.4136 - accuracy: 0.8133\n",
      "Epoch 78/100\n",
      "259/259 [==============================] - 1s 6ms/step - loss: 0.4127 - accuracy: 0.8132\n",
      "Epoch 79/100\n",
      "259/259 [==============================] - 2s 6ms/step - loss: 0.4126 - accuracy: 0.8127\n",
      "Epoch 80/100\n",
      "259/259 [==============================] - 1s 6ms/step - loss: 0.4127 - accuracy: 0.8114\n",
      "Epoch 81/100\n",
      "259/259 [==============================] - 1s 6ms/step - loss: 0.4124 - accuracy: 0.8115\n",
      "Epoch 82/100\n",
      "259/259 [==============================] - 1s 6ms/step - loss: 0.4110 - accuracy: 0.8115\n",
      "Epoch 83/100\n",
      "259/259 [==============================] - 1s 5ms/step - loss: 0.4110 - accuracy: 0.8131\n",
      "Epoch 84/100\n",
      "259/259 [==============================] - 2s 6ms/step - loss: 0.4107 - accuracy: 0.8131\n",
      "Epoch 85/100\n",
      "259/259 [==============================] - 1s 5ms/step - loss: 0.4102 - accuracy: 0.8157\n",
      "Epoch 86/100\n",
      "259/259 [==============================] - 1s 6ms/step - loss: 0.4099 - accuracy: 0.8132\n",
      "Epoch 87/100\n",
      "259/259 [==============================] - 1s 5ms/step - loss: 0.4088 - accuracy: 0.8143\n",
      "Epoch 88/100\n",
      "259/259 [==============================] - 1s 5ms/step - loss: 0.4102 - accuracy: 0.8138\n",
      "Epoch 89/100\n",
      "259/259 [==============================] - 2s 6ms/step - loss: 0.4088 - accuracy: 0.8150\n",
      "Epoch 90/100\n",
      "259/259 [==============================] - 1s 6ms/step - loss: 0.4087 - accuracy: 0.8145\n",
      "Epoch 91/100\n",
      "259/259 [==============================] - 1s 6ms/step - loss: 0.4074 - accuracy: 0.8127\n",
      "Epoch 92/100\n",
      "259/259 [==============================] - 1s 6ms/step - loss: 0.4074 - accuracy: 0.8168\n",
      "Epoch 93/100\n",
      "259/259 [==============================] - 2s 6ms/step - loss: 0.4088 - accuracy: 0.8174\n",
      "Epoch 94/100\n",
      "259/259 [==============================] - 2s 6ms/step - loss: 0.4080 - accuracy: 0.8160\n",
      "Epoch 95/100\n",
      "259/259 [==============================] - 2s 6ms/step - loss: 0.4068 - accuracy: 0.8149\n",
      "Epoch 96/100\n",
      "259/259 [==============================] - 1s 5ms/step - loss: 0.4061 - accuracy: 0.8171\n",
      "Epoch 97/100\n",
      "259/259 [==============================] - 1s 5ms/step - loss: 0.4073 - accuracy: 0.8160\n",
      "Epoch 98/100\n",
      "259/259 [==============================] - 2s 6ms/step - loss: 0.4084 - accuracy: 0.8171\n",
      "Epoch 99/100\n",
      "259/259 [==============================] - 1s 6ms/step - loss: 0.4070 - accuracy: 0.8143\n",
      "Epoch 100/100\n",
      "259/259 [==============================] - 1s 6ms/step - loss: 0.4051 - accuracy: 0.8190\n"
     ]
    },
    {
     "data": {
      "text/plain": [
       "<keras.callbacks.History at 0x1712e17f0>"
      ]
     },
     "execution_count": 84,
     "metadata": {},
     "output_type": "execute_result"
    }
   ],
   "source": [
    "import tensorflow as tf\n",
    "from tensorflow import keras\n",
    "\n",
    "model = keras.Sequential([\n",
    "    keras.layers.Dense(20, input_shape=(23,), activation = 'relu'),\n",
    "    keras.layers.Dense(10, input_shape=(20,), activation = 'relu'),\n",
    "    keras.layers.Dense(1, activation = 'sigmoid'),\n",
    "])\n",
    "\n",
    "model.compile(optimizer = 'adam',\n",
    "             loss = 'binary_crossentropy',\n",
    "             metrics=['accuracy'])\n",
    "\n",
    "model.fit(X_train, y_train, epochs = 100)"
   ]
  },
  {
   "cell_type": "code",
   "execution_count": 87,
   "id": "4df45b70",
   "metadata": {},
   "outputs": [
    {
     "name": "stdout",
     "output_type": "stream",
     "text": [
      "65/65 [==============================] - 0s 4ms/step - loss: 0.4763 - accuracy: 0.7662\n"
     ]
    },
    {
     "data": {
      "text/plain": [
       "[0.47629451751708984, 0.766214907169342]"
      ]
     },
     "execution_count": 87,
     "metadata": {},
     "output_type": "execute_result"
    }
   ],
   "source": [
    "model.evaluate(X_test, y_test)"
   ]
  },
  {
   "cell_type": "code",
   "execution_count": 86,
   "id": "592e6b68",
   "metadata": {},
   "outputs": [
    {
     "name": "stdout",
     "output_type": "stream",
     "text": [
      "65/65 [==============================] - 0s 2ms/step\n"
     ]
    },
    {
     "name": "stderr",
     "output_type": "stream",
     "text": [
      "2022-12-07 19:10:20.130992: I tensorflow/core/grappler/optimizers/custom_graph_optimizer_registry.cc:114] Plugin optimizer for device_type GPU is enabled.\n"
     ]
    }
   ],
   "source": [
    "y_pred = model.predict(X_test)"
   ]
  },
  {
   "cell_type": "code",
   "execution_count": 88,
   "id": "9b9b7c19",
   "metadata": {},
   "outputs": [],
   "source": [
    "y_predict = []\n",
    "for ele in y_pred:\n",
    "    if ele > 0.5:\n",
    "        y_predict.append(1)\n",
    "    else:\n",
    "        y_predict.append(0)"
   ]
  },
  {
   "cell_type": "code",
   "execution_count": 89,
   "id": "3713284c",
   "metadata": {},
   "outputs": [
    {
     "name": "stdout",
     "output_type": "stream",
     "text": [
      "              precision    recall  f1-score   support\n",
      "\n",
      "           0       0.78      0.74      0.76      1033\n",
      "           1       0.75      0.79      0.77      1033\n",
      "\n",
      "    accuracy                           0.77      2066\n",
      "   macro avg       0.77      0.77      0.77      2066\n",
      "weighted avg       0.77      0.77      0.77      2066\n",
      "\n"
     ]
    }
   ],
   "source": [
    "from sklearn.metrics import confusion_matrix, classification_report\n",
    "\n",
    "print(classification_report(y_test, y_predict))"
   ]
  },
  {
   "cell_type": "markdown",
   "id": "b78e58d8",
   "metadata": {},
   "source": [
    "MUCH BETTER"
   ]
  },
  {
   "cell_type": "code",
   "execution_count": 90,
   "id": "533ab4fa",
   "metadata": {},
   "outputs": [
    {
     "data": {
      "text/plain": [
       "Text(70.72222222222221, 0.5, 'Truth')"
      ]
     },
     "execution_count": 90,
     "metadata": {},
     "output_type": "execute_result"
    },
    {
     "data": {
      "image/png": "[encoded data removed]",
      "text/plain": [
       "<Figure size 800x800 with 2 Axes>"
      ]
     },
     "metadata": {},
     "output_type": "display_data"
    }
   ],
   "source": [
    "import seaborn as sns\n",
    "cm = tf.math.confusion_matrix(labels = y_test, predictions = y_predict)\n",
    "\n",
    "plt.figure(figsize = (8,8))\n",
    "sns.heatmap(cm, annot = True, fmt = 'd')\n",
    "plt.xlabel('Predicted')\n",
    "plt.ylabel('Truth')"
   ]
  },
  {
   "cell_type": "markdown",
   "id": "c88ce16c",
   "metadata": {},
   "source": [
    "# SMOTE"
   ]
  },
  {
   "cell_type": "markdown",
   "id": "4e77f4c4",
   "metadata": {},
   "source": [
    "Preparing the datasets."
   ]
  },
  {
   "cell_type": "code",
   "execution_count": 91,
   "id": "bc07ab27",
   "metadata": {},
   "outputs": [],
   "source": [
    "X = df2.drop('Churn', axis='columns')\n",
    "y = df2.Churn"
   ]
  },
  {
   "cell_type": "code",
   "execution_count": 92,
   "id": "f1b7de69",
   "metadata": {},
   "outputs": [
    {
     "data": {
      "text/plain": [
       "0    5163\n",
       "1    1869\n",
       "Name: Churn, dtype: int64"
      ]
     },
     "execution_count": 92,
     "metadata": {},
     "output_type": "execute_result"
    }
   ],
   "source": [
    "y.value_counts()"
   ]
  },
  {
   "cell_type": "code",
   "execution_count": 93,
   "id": "c0a1c051",
   "metadata": {},
   "outputs": [
    {
     "name": "stdout",
     "output_type": "stream",
     "text": [
      "Collecting imbalanced-learn\n",
      "  Using cached imbalanced_learn-0.9.1-py3-none-any.whl (199 kB)\n",
      "Requirement already satisfied: joblib>=1.0.0 in ./env/lib/python3.8/site-packages (from imbalanced-learn) (1.2.0)\n",
      "Requirement already satisfied: numpy>=1.17.3 in ./env/lib/python3.8/site-packages (from imbalanced-learn) (1.23.2)\n",
      "Requirement already satisfied: threadpoolctl>=2.0.0 in ./env/lib/python3.8/site-packages (from imbalanced-learn) (3.1.0)\n",
      "Requirement already satisfied: scikit-learn>=1.1.0 in ./env/lib/python3.8/site-packages (from imbalanced-learn) (1.1.3)\n",
      "Requirement already satisfied: scipy>=1.3.2 in ./env/lib/python3.8/site-packages (from imbalanced-learn) (1.9.3)\n",
      "Installing collected packages: imbalanced-learn\n",
      "Successfully installed imbalanced-learn-0.9.1\n",
      "Note: you may need to restart the kernel to use updated packages.\n"
     ]
    }
   ],
   "source": [
    "pip install imbalanced-learn"
   ]
  },
  {
   "cell_type": "code",
   "execution_count": 94,
   "id": "5eb7f8cc",
   "metadata": {},
   "outputs": [],
   "source": [
    "from imblearn.over_sampling import SMOTE"
   ]
  },
  {
   "cell_type": "code",
   "execution_count": 98,
   "id": "cd4b5778",
   "metadata": {},
   "outputs": [],
   "source": [
    "smote = SMOTE(sampling_strategy='minority')"
   ]
  },
  {
   "cell_type": "code",
   "execution_count": 100,
   "id": "97e90407",
   "metadata": {},
   "outputs": [],
   "source": [
    "X_sm, y_sm = smote.fit_resample(X,y)"
   ]
  },
  {
   "cell_type": "code",
   "execution_count": 101,
   "id": "5a4cf94e",
   "metadata": {},
   "outputs": [
    {
     "data": {
      "text/plain": [
       "0    5163\n",
       "1    5163\n",
       "Name: Churn, dtype: int64"
      ]
     },
     "execution_count": 101,
     "metadata": {},
     "output_type": "execute_result"
    }
   ],
   "source": [
    "y_sm.value_counts()"
   ]
  },
  {
   "cell_type": "code",
   "execution_count": 103,
   "id": "1177c369",
   "metadata": {},
   "outputs": [
    {
     "data": {
      "text/plain": [
       "1    4130\n",
       "0    4130\n",
       "Name: Churn, dtype: int64"
      ]
     },
     "execution_count": 103,
     "metadata": {},
     "output_type": "execute_result"
    }
   ],
   "source": [
    "y_train.value_counts()"
   ]
  },
  {
   "cell_type": "code",
   "execution_count": 104,
   "id": "39d411b0",
   "metadata": {},
   "outputs": [
    {
     "data": {
      "text/plain": [
       "1    1033\n",
       "0    1033\n",
       "Name: Churn, dtype: int64"
      ]
     },
     "execution_count": 104,
     "metadata": {},
     "output_type": "execute_result"
    }
   ],
   "source": [
    "y_test.value_counts()"
   ]
  },
  {
   "cell_type": "code",
   "execution_count": 105,
   "id": "b62ce21d",
   "metadata": {},
   "outputs": [
    {
     "name": "stdout",
     "output_type": "stream",
     "text": [
      "Epoch 1/100\n",
      "  7/259 [..............................] - ETA: 2s - loss: 0.7356 - accuracy: 0.3973  "
     ]
    },
    {
     "name": "stderr",
     "output_type": "stream",
     "text": [
      "2022-12-07 19:51:21.975708: I tensorflow/core/grappler/optimizers/custom_graph_optimizer_registry.cc:114] Plugin optimizer for device_type GPU is enabled.\n"
     ]
    },
    {
     "name": "stdout",
     "output_type": "stream",
     "text": [
      "259/259 [==============================] - 2s 6ms/step - loss: 0.5986 - accuracy: 0.6706\n",
      "Epoch 2/100\n",
      "259/259 [==============================] - 1s 5ms/step - loss: 0.4965 - accuracy: 0.7610\n",
      "Epoch 3/100\n",
      "259/259 [==============================] - 2s 6ms/step - loss: 0.4867 - accuracy: 0.7709\n",
      "Epoch 4/100\n",
      "259/259 [==============================] - 1s 5ms/step - loss: 0.4838 - accuracy: 0.7694\n",
      "Epoch 5/100\n",
      "259/259 [==============================] - 1s 5ms/step - loss: 0.4810 - accuracy: 0.7701\n",
      "Epoch 6/100\n",
      "259/259 [==============================] - 1s 5ms/step - loss: 0.4784 - accuracy: 0.7692\n",
      "Epoch 7/100\n",
      "259/259 [==============================] - 2s 7ms/step - loss: 0.4761 - accuracy: 0.7720\n",
      "Epoch 8/100\n",
      "259/259 [==============================] - 1s 6ms/step - loss: 0.4736 - accuracy: 0.7724\n",
      "Epoch 9/100\n",
      "259/259 [==============================] - 1s 6ms/step - loss: 0.4719 - accuracy: 0.7736\n",
      "Epoch 10/100\n",
      "259/259 [==============================] - 1s 5ms/step - loss: 0.4696 - accuracy: 0.7759\n",
      "Epoch 11/100\n",
      "259/259 [==============================] - 2s 6ms/step - loss: 0.4679 - accuracy: 0.7778\n",
      "Epoch 12/100\n",
      "259/259 [==============================] - 2s 6ms/step - loss: 0.4667 - accuracy: 0.7763\n",
      "Epoch 13/100\n",
      "259/259 [==============================] - 1s 6ms/step - loss: 0.4648 - accuracy: 0.7811\n",
      "Epoch 14/100\n",
      "259/259 [==============================] - 1s 5ms/step - loss: 0.4633 - accuracy: 0.7795\n",
      "Epoch 15/100\n",
      "259/259 [==============================] - 1s 5ms/step - loss: 0.4623 - accuracy: 0.7818\n",
      "Epoch 16/100\n",
      "259/259 [==============================] - 1s 5ms/step - loss: 0.4604 - accuracy: 0.7822\n",
      "Epoch 17/100\n",
      "259/259 [==============================] - 1s 5ms/step - loss: 0.4588 - accuracy: 0.7849\n",
      "Epoch 18/100\n",
      "259/259 [==============================] - 1s 5ms/step - loss: 0.4572 - accuracy: 0.7857\n",
      "Epoch 19/100\n",
      "259/259 [==============================] - 1s 5ms/step - loss: 0.4557 - accuracy: 0.7851\n",
      "Epoch 20/100\n",
      "259/259 [==============================] - 1s 5ms/step - loss: 0.4542 - accuracy: 0.7883\n",
      "Epoch 21/100\n",
      "259/259 [==============================] - 1s 5ms/step - loss: 0.4539 - accuracy: 0.7897\n",
      "Epoch 22/100\n",
      "259/259 [==============================] - 1s 5ms/step - loss: 0.4518 - accuracy: 0.7915\n",
      "Epoch 23/100\n",
      "259/259 [==============================] - 1s 5ms/step - loss: 0.4512 - accuracy: 0.7903\n",
      "Epoch 24/100\n",
      "259/259 [==============================] - 1s 5ms/step - loss: 0.4500 - accuracy: 0.7916\n",
      "Epoch 25/100\n",
      "259/259 [==============================] - 1s 5ms/step - loss: 0.4484 - accuracy: 0.7912\n",
      "Epoch 26/100\n",
      "259/259 [==============================] - 2s 6ms/step - loss: 0.4490 - accuracy: 0.7925\n",
      "Epoch 27/100\n",
      "259/259 [==============================] - 2s 6ms/step - loss: 0.4472 - accuracy: 0.7930\n",
      "Epoch 28/100\n",
      "259/259 [==============================] - 1s 6ms/step - loss: 0.4462 - accuracy: 0.7921\n",
      "Epoch 29/100\n",
      "259/259 [==============================] - 1s 6ms/step - loss: 0.4458 - accuracy: 0.7953\n",
      "Epoch 30/100\n",
      "259/259 [==============================] - 2s 6ms/step - loss: 0.4449 - accuracy: 0.7916\n",
      "Epoch 31/100\n",
      "259/259 [==============================] - 1s 5ms/step - loss: 0.4437 - accuracy: 0.7925\n",
      "Epoch 32/100\n",
      "259/259 [==============================] - 1s 5ms/step - loss: 0.4431 - accuracy: 0.7967\n",
      "Epoch 33/100\n",
      "259/259 [==============================] - 1s 5ms/step - loss: 0.4423 - accuracy: 0.7959\n",
      "Epoch 34/100\n",
      "259/259 [==============================] - 1s 5ms/step - loss: 0.4406 - accuracy: 0.7952\n",
      "Epoch 35/100\n",
      "259/259 [==============================] - 1s 5ms/step - loss: 0.4409 - accuracy: 0.7959\n",
      "Epoch 36/100\n",
      "259/259 [==============================] - 1s 5ms/step - loss: 0.4414 - accuracy: 0.7949\n",
      "Epoch 37/100\n",
      "259/259 [==============================] - 1s 5ms/step - loss: 0.4388 - accuracy: 0.7982\n",
      "Epoch 38/100\n",
      "259/259 [==============================] - 1s 5ms/step - loss: 0.4391 - accuracy: 0.7994\n",
      "Epoch 39/100\n",
      "259/259 [==============================] - 1s 5ms/step - loss: 0.4376 - accuracy: 0.7984\n",
      "Epoch 40/100\n",
      "259/259 [==============================] - 1s 5ms/step - loss: 0.4368 - accuracy: 0.7984\n",
      "Epoch 41/100\n",
      "259/259 [==============================] - 1s 5ms/step - loss: 0.4358 - accuracy: 0.8021\n",
      "Epoch 42/100\n",
      "259/259 [==============================] - 1s 5ms/step - loss: 0.4349 - accuracy: 0.8022\n",
      "Epoch 43/100\n",
      "259/259 [==============================] - 1s 6ms/step - loss: 0.4357 - accuracy: 0.8016\n",
      "Epoch 44/100\n",
      "259/259 [==============================] - 2s 6ms/step - loss: 0.4342 - accuracy: 0.8027\n",
      "Epoch 45/100\n",
      "259/259 [==============================] - 2s 7ms/step - loss: 0.4339 - accuracy: 0.7988\n",
      "Epoch 46/100\n",
      "259/259 [==============================] - 2s 6ms/step - loss: 0.4322 - accuracy: 0.8030\n",
      "Epoch 47/100\n",
      "259/259 [==============================] - 1s 5ms/step - loss: 0.4331 - accuracy: 0.8006\n",
      "Epoch 48/100\n",
      "259/259 [==============================] - 1s 6ms/step - loss: 0.4313 - accuracy: 0.8038\n",
      "Epoch 49/100\n",
      "259/259 [==============================] - 1s 6ms/step - loss: 0.4308 - accuracy: 0.7999\n",
      "Epoch 50/100\n",
      "259/259 [==============================] - 1s 5ms/step - loss: 0.4294 - accuracy: 0.8042\n",
      "Epoch 51/100\n",
      "259/259 [==============================] - 1s 5ms/step - loss: 0.4292 - accuracy: 0.8046\n",
      "Epoch 52/100\n",
      "259/259 [==============================] - 1s 6ms/step - loss: 0.4283 - accuracy: 0.8040\n",
      "Epoch 53/100\n",
      "259/259 [==============================] - 1s 6ms/step - loss: 0.4287 - accuracy: 0.8031\n",
      "Epoch 54/100\n",
      "259/259 [==============================] - 2s 6ms/step - loss: 0.4273 - accuracy: 0.8053\n",
      "Epoch 55/100\n",
      "259/259 [==============================] - 2s 6ms/step - loss: 0.4279 - accuracy: 0.8048\n",
      "Epoch 56/100\n",
      "259/259 [==============================] - 1s 5ms/step - loss: 0.4267 - accuracy: 0.8048\n",
      "Epoch 57/100\n",
      "259/259 [==============================] - 1s 5ms/step - loss: 0.4252 - accuracy: 0.8052\n",
      "Epoch 58/100\n",
      "259/259 [==============================] - 1s 5ms/step - loss: 0.4253 - accuracy: 0.8027\n",
      "Epoch 59/100\n",
      "259/259 [==============================] - 1s 5ms/step - loss: 0.4249 - accuracy: 0.8057\n",
      "Epoch 60/100\n",
      "259/259 [==============================] - 1s 5ms/step - loss: 0.4238 - accuracy: 0.8050\n",
      "Epoch 61/100\n",
      "259/259 [==============================] - 1s 6ms/step - loss: 0.4230 - accuracy: 0.8050\n",
      "Epoch 62/100\n",
      "259/259 [==============================] - 1s 5ms/step - loss: 0.4223 - accuracy: 0.8052\n",
      "Epoch 63/100\n",
      "259/259 [==============================] - 1s 5ms/step - loss: 0.4214 - accuracy: 0.8087\n",
      "Epoch 64/100\n",
      "259/259 [==============================] - 1s 5ms/step - loss: 0.4214 - accuracy: 0.8067\n",
      "Epoch 65/100\n",
      "259/259 [==============================] - 1s 5ms/step - loss: 0.4201 - accuracy: 0.8058\n",
      "Epoch 66/100\n",
      "259/259 [==============================] - 1s 5ms/step - loss: 0.4202 - accuracy: 0.8091\n",
      "Epoch 67/100\n",
      "259/259 [==============================] - 1s 5ms/step - loss: 0.4193 - accuracy: 0.8059\n",
      "Epoch 68/100\n",
      "259/259 [==============================] - 1s 5ms/step - loss: 0.4195 - accuracy: 0.8102\n",
      "Epoch 69/100\n",
      "259/259 [==============================] - 1s 5ms/step - loss: 0.4187 - accuracy: 0.8054\n",
      "Epoch 70/100\n",
      "259/259 [==============================] - 1s 5ms/step - loss: 0.4183 - accuracy: 0.8085\n",
      "Epoch 71/100\n",
      "259/259 [==============================] - 1s 5ms/step - loss: 0.4160 - accuracy: 0.8104\n",
      "Epoch 72/100\n",
      "259/259 [==============================] - 1s 6ms/step - loss: 0.4170 - accuracy: 0.8076\n",
      "Epoch 73/100\n",
      "259/259 [==============================] - 2s 6ms/step - loss: 0.4153 - accuracy: 0.8102\n",
      "Epoch 74/100\n",
      "259/259 [==============================] - 2s 7ms/step - loss: 0.4147 - accuracy: 0.8131\n",
      "Epoch 75/100\n",
      "259/259 [==============================] - 1s 6ms/step - loss: 0.4140 - accuracy: 0.8130\n",
      "Epoch 76/100\n",
      "259/259 [==============================] - 1s 6ms/step - loss: 0.4160 - accuracy: 0.8109\n",
      "Epoch 77/100\n",
      "259/259 [==============================] - 1s 6ms/step - loss: 0.4136 - accuracy: 0.8130\n",
      "Epoch 78/100\n",
      "259/259 [==============================] - 1s 6ms/step - loss: 0.4136 - accuracy: 0.8123\n",
      "Epoch 79/100\n",
      "259/259 [==============================] - 2s 7ms/step - loss: 0.4130 - accuracy: 0.8097\n",
      "Epoch 80/100\n",
      "259/259 [==============================] - 1s 6ms/step - loss: 0.4122 - accuracy: 0.8150\n",
      "Epoch 81/100\n",
      "259/259 [==============================] - 1s 5ms/step - loss: 0.4115 - accuracy: 0.8108\n",
      "Epoch 82/100\n",
      "259/259 [==============================] - 1s 5ms/step - loss: 0.4118 - accuracy: 0.8102\n",
      "Epoch 83/100\n",
      "259/259 [==============================] - 1s 5ms/step - loss: 0.4121 - accuracy: 0.8126\n",
      "Epoch 84/100\n",
      "259/259 [==============================] - 1s 5ms/step - loss: 0.4104 - accuracy: 0.8151\n",
      "Epoch 85/100\n",
      "259/259 [==============================] - 1s 5ms/step - loss: 0.4108 - accuracy: 0.8156\n",
      "Epoch 86/100\n",
      "259/259 [==============================] - 1s 5ms/step - loss: 0.4095 - accuracy: 0.8098\n",
      "Epoch 87/100\n",
      "259/259 [==============================] - 1s 5ms/step - loss: 0.4091 - accuracy: 0.8172\n",
      "Epoch 88/100\n",
      "259/259 [==============================] - 1s 5ms/step - loss: 0.4099 - accuracy: 0.8154\n",
      "Epoch 89/100\n",
      "259/259 [==============================] - 1s 5ms/step - loss: 0.4098 - accuracy: 0.8126\n",
      "Epoch 90/100\n",
      "259/259 [==============================] - 1s 5ms/step - loss: 0.4103 - accuracy: 0.8119\n",
      "Epoch 91/100\n",
      "259/259 [==============================] - 1s 5ms/step - loss: 0.4074 - accuracy: 0.8133\n",
      "Epoch 92/100\n",
      "259/259 [==============================] - 1s 5ms/step - loss: 0.4079 - accuracy: 0.8130\n",
      "Epoch 93/100\n",
      "259/259 [==============================] - 1s 5ms/step - loss: 0.4062 - accuracy: 0.8188\n",
      "Epoch 94/100\n",
      "259/259 [==============================] - 1s 5ms/step - loss: 0.4056 - accuracy: 0.8169\n",
      "Epoch 95/100\n",
      "259/259 [==============================] - 1s 5ms/step - loss: 0.4063 - accuracy: 0.8138\n",
      "Epoch 96/100\n",
      "259/259 [==============================] - 1s 5ms/step - loss: 0.4058 - accuracy: 0.8144\n",
      "Epoch 97/100\n",
      "259/259 [==============================] - 1s 5ms/step - loss: 0.4062 - accuracy: 0.8155\n",
      "Epoch 98/100\n",
      "259/259 [==============================] - 2s 6ms/step - loss: 0.4052 - accuracy: 0.8159\n",
      "Epoch 99/100\n",
      "259/259 [==============================] - 1s 6ms/step - loss: 0.4046 - accuracy: 0.8176\n",
      "Epoch 100/100\n",
      "259/259 [==============================] - 2s 6ms/step - loss: 0.4048 - accuracy: 0.8148\n"
     ]
    },
    {
     "data": {
      "text/plain": [
       "<keras.callbacks.History at 0x2c14dcf70>"
      ]
     },
     "execution_count": 105,
     "metadata": {},
     "output_type": "execute_result"
    }
   ],
   "source": [
    "import tensorflow as tf\n",
    "from tensorflow import keras\n",
    "\n",
    "model = keras.Sequential([\n",
    "    keras.layers.Dense(20, input_shape=(23,), activation = 'relu'),\n",
    "    keras.layers.Dense(10, input_shape=(20,), activation = 'relu'),\n",
    "    keras.layers.Dense(1, activation = 'sigmoid'),\n",
    "])\n",
    "\n",
    "model.compile(optimizer = 'adam',\n",
    "             loss = 'binary_crossentropy',\n",
    "             metrics=['accuracy'])\n",
    "\n",
    "model.fit(X_train, y_train, epochs = 100)"
   ]
  },
  {
   "cell_type": "code",
   "execution_count": 106,
   "id": "a56d72ea",
   "metadata": {},
   "outputs": [
    {
     "name": "stdout",
     "output_type": "stream",
     "text": [
      "24/65 [==========>...................] - ETA: 0s - loss: 0.4782 - accuracy: 0.7695"
     ]
    },
    {
     "name": "stderr",
     "output_type": "stream",
     "text": [
      "2022-12-07 19:54:06.219438: I tensorflow/core/grappler/optimizers/custom_graph_optimizer_registry.cc:114] Plugin optimizer for device_type GPU is enabled.\n"
     ]
    },
    {
     "name": "stdout",
     "output_type": "stream",
     "text": [
      "65/65 [==============================] - 0s 5ms/step - loss: 0.4649 - accuracy: 0.7783\n"
     ]
    },
    {
     "data": {
      "text/plain": [
       "[0.4649379849433899, 0.7783156037330627]"
      ]
     },
     "execution_count": 106,
     "metadata": {},
     "output_type": "execute_result"
    }
   ],
   "source": [
    "model.evaluate(X_test, y_test)"
   ]
  },
  {
   "cell_type": "code",
   "execution_count": 107,
   "id": "d0896ed8",
   "metadata": {},
   "outputs": [
    {
     "name": "stdout",
     "output_type": "stream",
     "text": [
      "65/65 [==============================] - 0s 2ms/step\n"
     ]
    },
    {
     "name": "stderr",
     "output_type": "stream",
     "text": [
      "2022-12-07 19:54:23.711631: I tensorflow/core/grappler/optimizers/custom_graph_optimizer_registry.cc:114] Plugin optimizer for device_type GPU is enabled.\n"
     ]
    }
   ],
   "source": [
    "y_pred = model.predict(X_test)"
   ]
  },
  {
   "cell_type": "code",
   "execution_count": 108,
   "id": "3b8ab063",
   "metadata": {},
   "outputs": [],
   "source": [
    "y_predict = []\n",
    "for ele in y_pred:\n",
    "    if ele > 0.5:\n",
    "        y_predict.append(1)\n",
    "    else:\n",
    "        y_predict.append(0)"
   ]
  },
  {
   "cell_type": "code",
   "execution_count": 109,
   "id": "c0f09c6d",
   "metadata": {},
   "outputs": [
    {
     "name": "stdout",
     "output_type": "stream",
     "text": [
      "              precision    recall  f1-score   support\n",
      "\n",
      "           0       0.83      0.70      0.76      1033\n",
      "           1       0.74      0.85      0.79      1033\n",
      "\n",
      "    accuracy                           0.78      2066\n",
      "   macro avg       0.78      0.78      0.78      2066\n",
      "weighted avg       0.78      0.78      0.78      2066\n",
      "\n"
     ]
    }
   ],
   "source": [
    "from sklearn.metrics import confusion_matrix, classification_report\n",
    "\n",
    "print(classification_report(y_test, y_predict))"
   ]
  },
  {
   "cell_type": "code",
   "execution_count": 110,
   "id": "41fe31c9",
   "metadata": {},
   "outputs": [
    {
     "data": {
      "text/plain": [
       "Text(70.72222222222221, 0.5, 'Truth')"
      ]
     },
     "execution_count": 110,
     "metadata": {},
     "output_type": "execute_result"
    },
    {
     "data": {
      "image/png": "[encoded data removed]",
      "text/plain": [
       "<Figure size 800x800 with 2 Axes>"
      ]
     },
     "metadata": {},
     "output_type": "display_data"
    }
   ],
   "source": [
    "import seaborn as sns\n",
    "cm = tf.math.confusion_matrix(labels = y_test, predictions = y_predict)\n",
    "\n",
    "plt.figure(figsize = (8,8))\n",
    "sns.heatmap(cm, annot = True, fmt = 'd')\n",
    "plt.xlabel('Predicted')\n",
    "plt.ylabel('Truth')"
   ]
  },
  {
   "cell_type": "markdown",
   "id": "5fe7576b",
   "metadata": {},
   "source": [
    "# ENSEMBLE WITH UNDERSAMPLING"
   ]
  },
  {
   "cell_type": "code",
   "execution_count": 111,
   "id": "e15ffa97",
   "metadata": {},
   "outputs": [
    {
     "data": {
      "text/plain": [
       "0    5163\n",
       "1    1869\n",
       "Name: Churn, dtype: int64"
      ]
     },
     "execution_count": 111,
     "metadata": {},
     "output_type": "execute_result"
    }
   ],
   "source": [
    "df2.Churn.value_counts()"
   ]
  },
  {
   "cell_type": "code",
   "execution_count": 112,
   "id": "fdc6292a",
   "metadata": {},
   "outputs": [],
   "source": [
    "X = df2.drop('Churn', axis='columns')\n",
    "y = df2.Churn"
   ]
  },
  {
   "cell_type": "code",
   "execution_count": 113,
   "id": "1a6f9ee4",
   "metadata": {},
   "outputs": [],
   "source": [
    "from sklearn.model_selection import train_test_split\n",
    "X_train, X_test, y_train, y_test = train_test_split(X, y, test_size=0.2, random_state=15, stratify=y)"
   ]
  },
  {
   "cell_type": "code",
   "execution_count": 114,
   "id": "f37401b3",
   "metadata": {},
   "outputs": [
    {
     "data": {
      "text/plain": [
       "0    4130\n",
       "1    1495\n",
       "Name: Churn, dtype: int64"
      ]
     },
     "execution_count": 114,
     "metadata": {},
     "output_type": "execute_result"
    }
   ],
   "source": [
    "y_train.value_counts()"
   ]
  },
  {
   "cell_type": "code",
   "execution_count": 115,
   "id": "cb1b3132",
   "metadata": {},
   "outputs": [],
   "source": [
    "df3 = X_train.copy()\n",
    "df3['Churn'] = y_train"
   ]
  },
  {
   "cell_type": "code",
   "execution_count": 116,
   "id": "5d6507a3",
   "metadata": {},
   "outputs": [],
   "source": [
    "df3_class0 = df3[df3.Churn == 0]\n",
    "df3_class1 = df3[df3.Churn == 1]"
   ]
  },
  {
   "cell_type": "code",
   "execution_count": 117,
   "id": "19bd558f",
   "metadata": {},
   "outputs": [
    {
     "data": {
      "text/plain": [
       "((4130, 24), (1495, 24))"
      ]
     },
     "execution_count": 117,
     "metadata": {},
     "output_type": "execute_result"
    }
   ],
   "source": [
    "df3_class0.shape, df3_class1.shape"
   ]
  },
  {
   "cell_type": "code",
   "execution_count": 118,
   "id": "539a85d4",
   "metadata": {},
   "outputs": [],
   "source": [
    "df_train = pd.concat([df3_class0[:1495], df3_class1], axis=0)"
   ]
  },
  {
   "cell_type": "code",
   "execution_count": 119,
   "id": "5c12fde4",
   "metadata": {},
   "outputs": [
    {
     "data": {
      "text/plain": [
       "(2990, 24)"
      ]
     },
     "execution_count": 119,
     "metadata": {},
     "output_type": "execute_result"
    }
   ],
   "source": [
    "df_train.shape"
   ]
  },
  {
   "cell_type": "markdown",
   "id": "e02fd9b2",
   "metadata": {},
   "source": [
    "Defining a custom function to split the dataset."
   ]
  },
  {
   "cell_type": "code",
   "execution_count": 120,
   "id": "1085ebcb",
   "metadata": {},
   "outputs": [],
   "source": [
    "def get_train_batch(df_majority, df_minority, start, end):\n",
    "    df_train = pd.concat([df_majority[start:end], df_minority], axis=0)\n",
    "    \n",
    "    X_train = df_train.drop('Churn', axis='columns')\n",
    "    y_train = df_train.Churn\n",
    "    \n",
    "    return X_train, y_train"
   ]
  },
  {
   "cell_type": "code",
   "execution_count": 121,
   "id": "86e5cf0e",
   "metadata": {},
   "outputs": [],
   "source": [
    "X_train, y_train = get_train_batch(df3_class0, df3_class1, 0, 1495)"
   ]
  },
  {
   "cell_type": "code",
   "execution_count": 122,
   "id": "cd341e2a",
   "metadata": {},
   "outputs": [
    {
     "name": "stdout",
     "output_type": "stream",
     "text": [
      "Epoch 1/100\n",
      " 7/94 [=>............................] - ETA: 0s - loss: 0.6767 - accuracy: 0.5536 "
     ]
    },
    {
     "name": "stderr",
     "output_type": "stream",
     "text": [
      "2022-12-07 21:00:16.692359: I tensorflow/core/grappler/optimizers/custom_graph_optimizer_registry.cc:114] Plugin optimizer for device_type GPU is enabled.\n"
     ]
    },
    {
     "name": "stdout",
     "output_type": "stream",
     "text": [
      "94/94 [==============================] - 1s 7ms/step - loss: 0.6108 - accuracy: 0.6946\n",
      "Epoch 2/100\n",
      "94/94 [==============================] - 1s 7ms/step - loss: 0.5260 - accuracy: 0.7512\n",
      "Epoch 3/100\n",
      "94/94 [==============================] - 1s 6ms/step - loss: 0.5001 - accuracy: 0.7555\n",
      "Epoch 4/100\n",
      "94/94 [==============================] - 1s 6ms/step - loss: 0.4923 - accuracy: 0.7642\n",
      "Epoch 5/100\n",
      "94/94 [==============================] - 1s 6ms/step - loss: 0.4867 - accuracy: 0.7666\n",
      "Epoch 6/100\n",
      "94/94 [==============================] - 1s 5ms/step - loss: 0.4854 - accuracy: 0.7666\n",
      "Epoch 7/100\n",
      "94/94 [==============================] - 1s 5ms/step - loss: 0.4808 - accuracy: 0.7649\n",
      "Epoch 8/100\n",
      "94/94 [==============================] - 1s 6ms/step - loss: 0.4796 - accuracy: 0.7689\n",
      "Epoch 9/100\n",
      "94/94 [==============================] - 1s 6ms/step - loss: 0.4772 - accuracy: 0.7672\n",
      "Epoch 10/100\n",
      "94/94 [==============================] - 1s 6ms/step - loss: 0.4756 - accuracy: 0.7669\n",
      "Epoch 11/100\n",
      "94/94 [==============================] - 1s 6ms/step - loss: 0.4749 - accuracy: 0.7662\n",
      "Epoch 12/100\n",
      "94/94 [==============================] - 1s 6ms/step - loss: 0.4730 - accuracy: 0.7689\n",
      "Epoch 13/100\n",
      "94/94 [==============================] - 1s 6ms/step - loss: 0.4737 - accuracy: 0.7726\n",
      "Epoch 14/100\n",
      "94/94 [==============================] - 1s 6ms/step - loss: 0.4705 - accuracy: 0.7716\n",
      "Epoch 15/100\n",
      "94/94 [==============================] - 1s 6ms/step - loss: 0.4699 - accuracy: 0.7699\n",
      "Epoch 16/100\n",
      "94/94 [==============================] - 1s 6ms/step - loss: 0.4694 - accuracy: 0.7742\n",
      "Epoch 17/100\n",
      "94/94 [==============================] - 1s 6ms/step - loss: 0.4684 - accuracy: 0.7679\n",
      "Epoch 18/100\n",
      "94/94 [==============================] - 1s 6ms/step - loss: 0.4660 - accuracy: 0.7709\n",
      "Epoch 19/100\n",
      "94/94 [==============================] - 1s 6ms/step - loss: 0.4655 - accuracy: 0.7729\n",
      "Epoch 20/100\n",
      "94/94 [==============================] - 1s 6ms/step - loss: 0.4655 - accuracy: 0.7796\n",
      "Epoch 21/100\n",
      "94/94 [==============================] - 1s 7ms/step - loss: 0.4632 - accuracy: 0.7769\n",
      "Epoch 22/100\n",
      "94/94 [==============================] - 1s 6ms/step - loss: 0.4624 - accuracy: 0.7789\n",
      "Epoch 23/100\n",
      "94/94 [==============================] - 1s 6ms/step - loss: 0.4618 - accuracy: 0.7776\n",
      "Epoch 24/100\n",
      "94/94 [==============================] - 1s 6ms/step - loss: 0.4625 - accuracy: 0.7759\n",
      "Epoch 25/100\n",
      "94/94 [==============================] - 1s 6ms/step - loss: 0.4604 - accuracy: 0.7786\n",
      "Epoch 26/100\n",
      "94/94 [==============================] - 1s 7ms/step - loss: 0.4580 - accuracy: 0.7823\n",
      "Epoch 27/100\n",
      "94/94 [==============================] - 1s 6ms/step - loss: 0.4599 - accuracy: 0.7819\n",
      "Epoch 28/100\n",
      "94/94 [==============================] - 1s 6ms/step - loss: 0.4570 - accuracy: 0.7809\n",
      "Epoch 29/100\n",
      "94/94 [==============================] - 1s 6ms/step - loss: 0.4557 - accuracy: 0.7849\n",
      "Epoch 30/100\n",
      "94/94 [==============================] - 1s 6ms/step - loss: 0.4549 - accuracy: 0.7843\n",
      "Epoch 31/100\n",
      "94/94 [==============================] - 1s 6ms/step - loss: 0.4544 - accuracy: 0.7836\n",
      "Epoch 32/100\n",
      "94/94 [==============================] - 1s 6ms/step - loss: 0.4540 - accuracy: 0.7873\n",
      "Epoch 33/100\n",
      "94/94 [==============================] - 1s 6ms/step - loss: 0.4524 - accuracy: 0.7799\n",
      "Epoch 34/100\n",
      "94/94 [==============================] - 1s 7ms/step - loss: 0.4529 - accuracy: 0.7843\n",
      "Epoch 35/100\n",
      "94/94 [==============================] - 1s 6ms/step - loss: 0.4509 - accuracy: 0.7836\n",
      "Epoch 36/100\n",
      "94/94 [==============================] - 1s 6ms/step - loss: 0.4491 - accuracy: 0.7883\n",
      "Epoch 37/100\n",
      "94/94 [==============================] - 1s 6ms/step - loss: 0.4497 - accuracy: 0.7890\n",
      "Epoch 38/100\n",
      "94/94 [==============================] - 1s 6ms/step - loss: 0.4483 - accuracy: 0.7863\n",
      "Epoch 39/100\n",
      "94/94 [==============================] - 1s 6ms/step - loss: 0.4457 - accuracy: 0.7880\n",
      "Epoch 40/100\n",
      "94/94 [==============================] - 1s 6ms/step - loss: 0.4465 - accuracy: 0.7893\n",
      "Epoch 41/100\n",
      "94/94 [==============================] - 1s 7ms/step - loss: 0.4453 - accuracy: 0.7880\n",
      "Epoch 42/100\n",
      "94/94 [==============================] - 1s 6ms/step - loss: 0.4453 - accuracy: 0.7880\n",
      "Epoch 43/100\n",
      "94/94 [==============================] - 1s 6ms/step - loss: 0.4449 - accuracy: 0.7886\n",
      "Epoch 44/100\n",
      "94/94 [==============================] - 1s 6ms/step - loss: 0.4442 - accuracy: 0.7880\n",
      "Epoch 45/100\n",
      "94/94 [==============================] - 1s 6ms/step - loss: 0.4438 - accuracy: 0.7870\n",
      "Epoch 46/100\n",
      "94/94 [==============================] - 1s 6ms/step - loss: 0.4413 - accuracy: 0.7886\n",
      "Epoch 47/100\n",
      "94/94 [==============================] - 1s 6ms/step - loss: 0.4426 - accuracy: 0.7890\n",
      "Epoch 48/100\n",
      "94/94 [==============================] - 1s 6ms/step - loss: 0.4405 - accuracy: 0.7876\n",
      "Epoch 49/100\n",
      "94/94 [==============================] - 1s 7ms/step - loss: 0.4401 - accuracy: 0.7866\n",
      "Epoch 50/100\n",
      "94/94 [==============================] - 1s 6ms/step - loss: 0.4403 - accuracy: 0.7873\n",
      "Epoch 51/100\n",
      "94/94 [==============================] - 1s 6ms/step - loss: 0.4391 - accuracy: 0.7883\n",
      "Epoch 52/100\n",
      "94/94 [==============================] - 1s 6ms/step - loss: 0.4388 - accuracy: 0.7890\n",
      "Epoch 53/100\n",
      "94/94 [==============================] - 1s 6ms/step - loss: 0.4374 - accuracy: 0.7896\n",
      "Epoch 54/100\n",
      "94/94 [==============================] - 1s 6ms/step - loss: 0.4366 - accuracy: 0.7893\n",
      "Epoch 55/100\n",
      "94/94 [==============================] - 1s 6ms/step - loss: 0.4371 - accuracy: 0.7923\n",
      "Epoch 56/100\n",
      "94/94 [==============================] - 1s 7ms/step - loss: 0.4363 - accuracy: 0.7893\n",
      "Epoch 57/100\n",
      "94/94 [==============================] - 1s 6ms/step - loss: 0.4360 - accuracy: 0.7930\n",
      "Epoch 58/100\n",
      "94/94 [==============================] - 1s 6ms/step - loss: 0.4363 - accuracy: 0.7923\n",
      "Epoch 59/100\n",
      "94/94 [==============================] - 1s 6ms/step - loss: 0.4348 - accuracy: 0.7930\n",
      "Epoch 60/100\n",
      "94/94 [==============================] - 1s 6ms/step - loss: 0.4336 - accuracy: 0.7903\n",
      "Epoch 61/100\n",
      "94/94 [==============================] - 1s 6ms/step - loss: 0.4336 - accuracy: 0.7923\n",
      "Epoch 62/100\n",
      "94/94 [==============================] - 1s 6ms/step - loss: 0.4335 - accuracy: 0.7893\n",
      "Epoch 63/100\n",
      "94/94 [==============================] - 1s 6ms/step - loss: 0.4325 - accuracy: 0.7913\n",
      "Epoch 64/100\n",
      "94/94 [==============================] - 1s 6ms/step - loss: 0.4325 - accuracy: 0.7906\n",
      "Epoch 65/100\n",
      "94/94 [==============================] - 1s 6ms/step - loss: 0.4297 - accuracy: 0.7933\n",
      "Epoch 66/100\n",
      "94/94 [==============================] - 1s 6ms/step - loss: 0.4308 - accuracy: 0.7963\n",
      "Epoch 67/100\n",
      "94/94 [==============================] - 1s 6ms/step - loss: 0.4303 - accuracy: 0.7910\n",
      "Epoch 68/100\n",
      "94/94 [==============================] - 1s 6ms/step - loss: 0.4298 - accuracy: 0.7930\n",
      "Epoch 69/100\n",
      "94/94 [==============================] - 1s 6ms/step - loss: 0.4293 - accuracy: 0.7926\n",
      "Epoch 70/100\n",
      "94/94 [==============================] - 1s 6ms/step - loss: 0.4305 - accuracy: 0.7900\n",
      "Epoch 71/100\n",
      "94/94 [==============================] - 1s 6ms/step - loss: 0.4275 - accuracy: 0.7997\n",
      "Epoch 72/100\n",
      "94/94 [==============================] - 1s 6ms/step - loss: 0.4284 - accuracy: 0.7953\n",
      "Epoch 73/100\n",
      "94/94 [==============================] - 1s 6ms/step - loss: 0.4277 - accuracy: 0.7950\n",
      "Epoch 74/100\n",
      "94/94 [==============================] - 1s 6ms/step - loss: 0.4271 - accuracy: 0.7926\n",
      "Epoch 75/100\n",
      "94/94 [==============================] - 1s 6ms/step - loss: 0.4262 - accuracy: 0.7957\n",
      "Epoch 76/100\n",
      "94/94 [==============================] - 1s 6ms/step - loss: 0.4266 - accuracy: 0.7963\n",
      "Epoch 77/100\n",
      "94/94 [==============================] - 1s 6ms/step - loss: 0.4251 - accuracy: 0.7923\n",
      "Epoch 78/100\n",
      "94/94 [==============================] - 1s 6ms/step - loss: 0.4266 - accuracy: 0.7957\n",
      "Epoch 79/100\n",
      "94/94 [==============================] - 1s 6ms/step - loss: 0.4256 - accuracy: 0.7940\n",
      "Epoch 80/100\n",
      "94/94 [==============================] - 1s 6ms/step - loss: 0.4236 - accuracy: 0.7973\n",
      "Epoch 81/100\n",
      "94/94 [==============================] - 1s 6ms/step - loss: 0.4264 - accuracy: 0.7950\n",
      "Epoch 82/100\n",
      "94/94 [==============================] - 1s 6ms/step - loss: 0.4248 - accuracy: 0.7950\n",
      "Epoch 83/100\n"
     ]
    },
    {
     "name": "stdout",
     "output_type": "stream",
     "text": [
      "94/94 [==============================] - 1s 6ms/step - loss: 0.4232 - accuracy: 0.7936\n",
      "Epoch 84/100\n",
      "94/94 [==============================] - 1s 6ms/step - loss: 0.4245 - accuracy: 0.7950\n",
      "Epoch 85/100\n",
      "94/94 [==============================] - 1s 6ms/step - loss: 0.4224 - accuracy: 0.7983\n",
      "Epoch 86/100\n",
      "94/94 [==============================] - 1s 6ms/step - loss: 0.4218 - accuracy: 0.7980\n",
      "Epoch 87/100\n",
      "94/94 [==============================] - 1s 6ms/step - loss: 0.4231 - accuracy: 0.7970\n",
      "Epoch 88/100\n",
      "94/94 [==============================] - 1s 6ms/step - loss: 0.4210 - accuracy: 0.7980\n",
      "Epoch 89/100\n",
      "94/94 [==============================] - 1s 6ms/step - loss: 0.4217 - accuracy: 0.7910\n",
      "Epoch 90/100\n",
      "94/94 [==============================] - 1s 6ms/step - loss: 0.4206 - accuracy: 0.8007\n",
      "Epoch 91/100\n",
      "94/94 [==============================] - 1s 6ms/step - loss: 0.4207 - accuracy: 0.7987\n",
      "Epoch 92/100\n",
      "94/94 [==============================] - 1s 6ms/step - loss: 0.4205 - accuracy: 0.8013\n",
      "Epoch 93/100\n",
      "94/94 [==============================] - 1s 6ms/step - loss: 0.4207 - accuracy: 0.7960\n",
      "Epoch 94/100\n",
      "94/94 [==============================] - 1s 6ms/step - loss: 0.4187 - accuracy: 0.7987\n",
      "Epoch 95/100\n",
      "94/94 [==============================] - 1s 6ms/step - loss: 0.4193 - accuracy: 0.7973\n",
      "Epoch 96/100\n",
      "94/94 [==============================] - 1s 6ms/step - loss: 0.4180 - accuracy: 0.7967\n",
      "Epoch 97/100\n",
      "94/94 [==============================] - 1s 6ms/step - loss: 0.4182 - accuracy: 0.7987\n",
      "Epoch 98/100\n",
      "94/94 [==============================] - 1s 6ms/step - loss: 0.4166 - accuracy: 0.7997\n",
      "Epoch 99/100\n",
      "94/94 [==============================] - 1s 6ms/step - loss: 0.4246 - accuracy: 0.7987\n",
      "Epoch 100/100\n",
      "94/94 [==============================] - 1s 6ms/step - loss: 0.4177 - accuracy: 0.8017\n"
     ]
    },
    {
     "data": {
      "text/plain": [
       "<keras.callbacks.History at 0x2c1e985b0>"
      ]
     },
     "execution_count": 122,
     "metadata": {},
     "output_type": "execute_result"
    }
   ],
   "source": [
    "import tensorflow as tf\n",
    "from tensorflow import keras\n",
    "\n",
    "model = keras.Sequential([\n",
    "    keras.layers.Dense(20, input_shape=(23,), activation = 'relu'),\n",
    "    keras.layers.Dense(10, input_shape=(20,), activation = 'relu'),\n",
    "    keras.layers.Dense(1, activation = 'sigmoid'),\n",
    "])\n",
    "\n",
    "model.compile(optimizer = 'adam',\n",
    "             loss = 'binary_crossentropy',\n",
    "             metrics=['accuracy'])\n",
    "\n",
    "model.fit(X_train, y_train, epochs = 100)"
   ]
  },
  {
   "cell_type": "code",
   "execution_count": 123,
   "id": "54829cd7",
   "metadata": {},
   "outputs": [
    {
     "name": "stdout",
     "output_type": "stream",
     "text": [
      "26/44 [================>.............] - ETA: 0s - loss: 0.5353 - accuracy: 0.7560"
     ]
    },
    {
     "name": "stderr",
     "output_type": "stream",
     "text": [
      "2022-12-07 21:01:31.854391: I tensorflow/core/grappler/optimizers/custom_graph_optimizer_registry.cc:114] Plugin optimizer for device_type GPU is enabled.\n"
     ]
    },
    {
     "name": "stdout",
     "output_type": "stream",
     "text": [
      "44/44 [==============================] - 0s 5ms/step - loss: 0.5368 - accuracy: 0.7427\n"
     ]
    },
    {
     "data": {
      "text/plain": [
       "[0.5368395447731018, 0.7427150011062622]"
      ]
     },
     "execution_count": 123,
     "metadata": {},
     "output_type": "execute_result"
    }
   ],
   "source": [
    "model.evaluate(X_test, y_test)"
   ]
  },
  {
   "cell_type": "code",
   "execution_count": 124,
   "id": "69af72f6",
   "metadata": {},
   "outputs": [
    {
     "name": "stdout",
     "output_type": "stream",
     "text": [
      "44/44 [==============================] - 0s 2ms/step\n"
     ]
    },
    {
     "name": "stderr",
     "output_type": "stream",
     "text": [
      "2022-12-07 21:01:53.902212: I tensorflow/core/grappler/optimizers/custom_graph_optimizer_registry.cc:114] Plugin optimizer for device_type GPU is enabled.\n"
     ]
    }
   ],
   "source": [
    "y_pred = model.predict(X_test)"
   ]
  },
  {
   "cell_type": "code",
   "execution_count": 125,
   "id": "456f1556",
   "metadata": {},
   "outputs": [],
   "source": [
    "y_predict = []\n",
    "for ele in y_pred:\n",
    "    if ele > 0.5:\n",
    "        y_predict.append(1)\n",
    "    else:\n",
    "        y_predict.append(0)"
   ]
  },
  {
   "cell_type": "code",
   "execution_count": 126,
   "id": "80d080e1",
   "metadata": {},
   "outputs": [
    {
     "name": "stdout",
     "output_type": "stream",
     "text": [
      "              precision    recall  f1-score   support\n",
      "\n",
      "           0       0.89      0.74      0.81      1033\n",
      "           1       0.51      0.76      0.61       374\n",
      "\n",
      "    accuracy                           0.74      1407\n",
      "   macro avg       0.70      0.75      0.71      1407\n",
      "weighted avg       0.79      0.74      0.76      1407\n",
      "\n"
     ]
    }
   ],
   "source": [
    "from sklearn.metrics import confusion_matrix, classification_report\n",
    "\n",
    "print(classification_report(y_test, y_predict))"
   ]
  },
  {
   "cell_type": "code",
   "execution_count": 127,
   "id": "683ef22a",
   "metadata": {},
   "outputs": [
    {
     "data": {
      "text/plain": [
       "Text(70.72222222222221, 0.5, 'Truth')"
      ]
     },
     "execution_count": 127,
     "metadata": {},
     "output_type": "execute_result"
    },
    {
     "data": {
      "image/png": "[encoded data removed]",
      "text/plain": [
       "<Figure size 800x800 with 2 Axes>"
      ]
     },
     "metadata": {},
     "output_type": "display_data"
    }
   ],
   "source": [
    "import seaborn as sns\n",
    "cm = tf.math.confusion_matrix(labels = y_test, predictions = y_predict)\n",
    "\n",
    "plt.figure(figsize = (8,8))\n",
    "sns.heatmap(cm, annot = True, fmt = 'd')\n",
    "plt.xlabel('Predicted')\n",
    "plt.ylabel('Truth')"
   ]
  },
  {
   "cell_type": "code",
   "execution_count": 128,
   "id": "447213bf",
   "metadata": {},
   "outputs": [],
   "source": [
    "X_train, y_train = get_train_batch(df3_class0, df3_class1, 1495, 2990)"
   ]
  },
  {
   "cell_type": "code",
   "execution_count": 129,
   "id": "e846ff37",
   "metadata": {},
   "outputs": [
    {
     "name": "stdout",
     "output_type": "stream",
     "text": [
      "Epoch 1/100\n",
      " 6/94 [>.............................] - ETA: 0s - loss: 0.6947 - accuracy: 0.4844 "
     ]
    },
    {
     "name": "stderr",
     "output_type": "stream",
     "text": [
      "2022-12-07 21:03:18.242128: I tensorflow/core/grappler/optimizers/custom_graph_optimizer_registry.cc:114] Plugin optimizer for device_type GPU is enabled.\n"
     ]
    },
    {
     "name": "stdout",
     "output_type": "stream",
     "text": [
      "94/94 [==============================] - 1s 7ms/step - loss: 0.6464 - accuracy: 0.6355\n",
      "Epoch 2/100\n",
      "94/94 [==============================] - 1s 6ms/step - loss: 0.5381 - accuracy: 0.7435\n",
      "Epoch 3/100\n",
      "94/94 [==============================] - 1s 7ms/step - loss: 0.4991 - accuracy: 0.7512\n",
      "Epoch 4/100\n",
      "94/94 [==============================] - 1s 7ms/step - loss: 0.4911 - accuracy: 0.7585\n",
      "Epoch 5/100\n",
      "94/94 [==============================] - 1s 7ms/step - loss: 0.4865 - accuracy: 0.7622\n",
      "Epoch 6/100\n",
      "94/94 [==============================] - 1s 6ms/step - loss: 0.4836 - accuracy: 0.7672\n",
      "Epoch 7/100\n",
      "94/94 [==============================] - 1s 7ms/step - loss: 0.4800 - accuracy: 0.7689\n",
      "Epoch 8/100\n",
      "94/94 [==============================] - 1s 7ms/step - loss: 0.4773 - accuracy: 0.7729\n",
      "Epoch 9/100\n",
      "94/94 [==============================] - 1s 7ms/step - loss: 0.4764 - accuracy: 0.7716\n",
      "Epoch 10/100\n",
      "94/94 [==============================] - 1s 6ms/step - loss: 0.4746 - accuracy: 0.7763\n",
      "Epoch 11/100\n",
      "94/94 [==============================] - 1s 5ms/step - loss: 0.4723 - accuracy: 0.7742\n",
      "Epoch 12/100\n",
      "94/94 [==============================] - 1s 6ms/step - loss: 0.4709 - accuracy: 0.7746\n",
      "Epoch 13/100\n",
      "94/94 [==============================] - 1s 5ms/step - loss: 0.4689 - accuracy: 0.7739\n",
      "Epoch 14/100\n",
      "94/94 [==============================] - 1s 5ms/step - loss: 0.4697 - accuracy: 0.7749\n",
      "Epoch 15/100\n",
      "94/94 [==============================] - 1s 5ms/step - loss: 0.4670 - accuracy: 0.7763\n",
      "Epoch 16/100\n",
      "94/94 [==============================] - 1s 5ms/step - loss: 0.4665 - accuracy: 0.7739\n",
      "Epoch 17/100\n",
      "94/94 [==============================] - 1s 5ms/step - loss: 0.4638 - accuracy: 0.7786\n",
      "Epoch 18/100\n",
      "94/94 [==============================] - 1s 5ms/step - loss: 0.4645 - accuracy: 0.7753\n",
      "Epoch 19/100\n",
      "94/94 [==============================] - 1s 7ms/step - loss: 0.4617 - accuracy: 0.7796\n",
      "Epoch 20/100\n",
      "94/94 [==============================] - 1s 7ms/step - loss: 0.4606 - accuracy: 0.7783\n",
      "Epoch 21/100\n",
      "94/94 [==============================] - 1s 6ms/step - loss: 0.4600 - accuracy: 0.7779\n",
      "Epoch 22/100\n",
      "94/94 [==============================] - 1s 6ms/step - loss: 0.4588 - accuracy: 0.7813\n",
      "Epoch 23/100\n",
      "94/94 [==============================] - 1s 6ms/step - loss: 0.4580 - accuracy: 0.7823\n",
      "Epoch 24/100\n",
      "94/94 [==============================] - 1s 7ms/step - loss: 0.4571 - accuracy: 0.7826\n",
      "Epoch 25/100\n",
      "94/94 [==============================] - 1s 6ms/step - loss: 0.4568 - accuracy: 0.7809\n",
      "Epoch 26/100\n",
      "94/94 [==============================] - 1s 6ms/step - loss: 0.4549 - accuracy: 0.7809\n",
      "Epoch 27/100\n",
      "94/94 [==============================] - 1s 6ms/step - loss: 0.4536 - accuracy: 0.7843\n",
      "Epoch 28/100\n",
      "94/94 [==============================] - 1s 6ms/step - loss: 0.4520 - accuracy: 0.7839\n",
      "Epoch 29/100\n",
      "94/94 [==============================] - 1s 6ms/step - loss: 0.4511 - accuracy: 0.7863\n",
      "Epoch 30/100\n",
      "94/94 [==============================] - 1s 7ms/step - loss: 0.4519 - accuracy: 0.7880\n",
      "Epoch 31/100\n",
      "94/94 [==============================] - 1s 6ms/step - loss: 0.4492 - accuracy: 0.7880\n",
      "Epoch 32/100\n",
      "94/94 [==============================] - 1s 7ms/step - loss: 0.4480 - accuracy: 0.7906\n",
      "Epoch 33/100\n",
      "94/94 [==============================] - 1s 7ms/step - loss: 0.4472 - accuracy: 0.7870\n",
      "Epoch 34/100\n",
      "94/94 [==============================] - 1s 7ms/step - loss: 0.4458 - accuracy: 0.7890\n",
      "Epoch 35/100\n",
      "94/94 [==============================] - 1s 6ms/step - loss: 0.4460 - accuracy: 0.7856\n",
      "Epoch 36/100\n",
      "94/94 [==============================] - 1s 7ms/step - loss: 0.4439 - accuracy: 0.7880\n",
      "Epoch 37/100\n",
      "94/94 [==============================] - 1s 7ms/step - loss: 0.4428 - accuracy: 0.7843\n",
      "Epoch 38/100\n",
      "94/94 [==============================] - 1s 6ms/step - loss: 0.4429 - accuracy: 0.7910\n",
      "Epoch 39/100\n",
      "94/94 [==============================] - 1s 7ms/step - loss: 0.4417 - accuracy: 0.7853\n",
      "Epoch 40/100\n",
      "94/94 [==============================] - 1s 7ms/step - loss: 0.4397 - accuracy: 0.7890\n",
      "Epoch 41/100\n",
      "94/94 [==============================] - 1s 6ms/step - loss: 0.4392 - accuracy: 0.7903\n",
      "Epoch 42/100\n",
      "94/94 [==============================] - 1s 6ms/step - loss: 0.4377 - accuracy: 0.7950\n",
      "Epoch 43/100\n",
      "94/94 [==============================] - 1s 6ms/step - loss: 0.4375 - accuracy: 0.7910\n",
      "Epoch 44/100\n",
      "94/94 [==============================] - 1s 6ms/step - loss: 0.4388 - accuracy: 0.7916\n",
      "Epoch 45/100\n",
      "94/94 [==============================] - 1s 6ms/step - loss: 0.4366 - accuracy: 0.7893\n",
      "Epoch 46/100\n",
      "94/94 [==============================] - 1s 6ms/step - loss: 0.4355 - accuracy: 0.7900\n",
      "Epoch 47/100\n",
      "94/94 [==============================] - 1s 6ms/step - loss: 0.4349 - accuracy: 0.7896\n",
      "Epoch 48/100\n",
      "94/94 [==============================] - 1s 6ms/step - loss: 0.4349 - accuracy: 0.7950\n",
      "Epoch 49/100\n",
      "94/94 [==============================] - 1s 7ms/step - loss: 0.4325 - accuracy: 0.7933\n",
      "Epoch 50/100\n",
      "94/94 [==============================] - 1s 6ms/step - loss: 0.4320 - accuracy: 0.7940\n",
      "Epoch 51/100\n",
      "94/94 [==============================] - 1s 6ms/step - loss: 0.4308 - accuracy: 0.7936\n",
      "Epoch 52/100\n",
      "94/94 [==============================] - 1s 6ms/step - loss: 0.4305 - accuracy: 0.7977\n",
      "Epoch 53/100\n",
      "94/94 [==============================] - 1s 6ms/step - loss: 0.4291 - accuracy: 0.7960\n",
      "Epoch 54/100\n",
      "94/94 [==============================] - 1s 6ms/step - loss: 0.4279 - accuracy: 0.7940\n",
      "Epoch 55/100\n",
      "94/94 [==============================] - 1s 6ms/step - loss: 0.4285 - accuracy: 0.7957\n",
      "Epoch 56/100\n",
      "94/94 [==============================] - 1s 7ms/step - loss: 0.4272 - accuracy: 0.7987\n",
      "Epoch 57/100\n",
      "94/94 [==============================] - 1s 7ms/step - loss: 0.4268 - accuracy: 0.7963\n",
      "Epoch 58/100\n",
      "94/94 [==============================] - 1s 6ms/step - loss: 0.4266 - accuracy: 0.7967\n",
      "Epoch 59/100\n",
      "94/94 [==============================] - 1s 6ms/step - loss: 0.4253 - accuracy: 0.7957\n",
      "Epoch 60/100\n",
      "94/94 [==============================] - 1s 6ms/step - loss: 0.4245 - accuracy: 0.7997\n",
      "Epoch 61/100\n",
      "94/94 [==============================] - 1s 6ms/step - loss: 0.4233 - accuracy: 0.7960\n",
      "Epoch 62/100\n",
      "94/94 [==============================] - 1s 6ms/step - loss: 0.4230 - accuracy: 0.8007\n",
      "Epoch 63/100\n",
      "94/94 [==============================] - 1s 6ms/step - loss: 0.4226 - accuracy: 0.8017\n",
      "Epoch 64/100\n",
      "94/94 [==============================] - 1s 6ms/step - loss: 0.4217 - accuracy: 0.7990\n",
      "Epoch 65/100\n",
      "94/94 [==============================] - 1s 6ms/step - loss: 0.4214 - accuracy: 0.8007\n",
      "Epoch 66/100\n",
      "94/94 [==============================] - 1s 6ms/step - loss: 0.4205 - accuracy: 0.8017\n",
      "Epoch 67/100\n",
      "94/94 [==============================] - 1s 6ms/step - loss: 0.4207 - accuracy: 0.8027\n",
      "Epoch 68/100\n",
      "94/94 [==============================] - 1s 6ms/step - loss: 0.4199 - accuracy: 0.8023\n",
      "Epoch 69/100\n",
      "94/94 [==============================] - 1s 6ms/step - loss: 0.4187 - accuracy: 0.7997\n",
      "Epoch 70/100\n",
      "94/94 [==============================] - 1s 6ms/step - loss: 0.4174 - accuracy: 0.8043\n",
      "Epoch 71/100\n",
      "94/94 [==============================] - 1s 6ms/step - loss: 0.4169 - accuracy: 0.8027\n",
      "Epoch 72/100\n",
      "94/94 [==============================] - 1s 6ms/step - loss: 0.4160 - accuracy: 0.8050\n",
      "Epoch 73/100\n",
      "94/94 [==============================] - 1s 7ms/step - loss: 0.4170 - accuracy: 0.8074\n",
      "Epoch 74/100\n",
      "94/94 [==============================] - 1s 6ms/step - loss: 0.4145 - accuracy: 0.8070\n",
      "Epoch 75/100\n",
      "94/94 [==============================] - 1s 6ms/step - loss: 0.4138 - accuracy: 0.8043\n",
      "Epoch 76/100\n",
      "94/94 [==============================] - 1s 6ms/step - loss: 0.4134 - accuracy: 0.8043\n",
      "Epoch 77/100\n",
      "94/94 [==============================] - 1s 6ms/step - loss: 0.4117 - accuracy: 0.8100\n",
      "Epoch 78/100\n",
      "94/94 [==============================] - 1s 6ms/step - loss: 0.4138 - accuracy: 0.8007\n",
      "Epoch 79/100\n",
      "94/94 [==============================] - 1s 7ms/step - loss: 0.4102 - accuracy: 0.8050\n",
      "Epoch 80/100\n",
      "94/94 [==============================] - 1s 7ms/step - loss: 0.4096 - accuracy: 0.8110\n",
      "Epoch 81/100\n",
      "94/94 [==============================] - 1s 7ms/step - loss: 0.4118 - accuracy: 0.8094\n",
      "Epoch 82/100\n",
      "94/94 [==============================] - 1s 6ms/step - loss: 0.4100 - accuracy: 0.8114\n",
      "Epoch 83/100\n"
     ]
    },
    {
     "name": "stdout",
     "output_type": "stream",
     "text": [
      "94/94 [==============================] - 1s 6ms/step - loss: 0.4085 - accuracy: 0.8097\n",
      "Epoch 84/100\n",
      "94/94 [==============================] - 1s 6ms/step - loss: 0.4079 - accuracy: 0.8110\n",
      "Epoch 85/100\n",
      "94/94 [==============================] - 1s 6ms/step - loss: 0.4100 - accuracy: 0.8084\n",
      "Epoch 86/100\n",
      "94/94 [==============================] - 1s 6ms/step - loss: 0.4068 - accuracy: 0.8094\n",
      "Epoch 87/100\n",
      "94/94 [==============================] - 1s 5ms/step - loss: 0.4072 - accuracy: 0.8110\n",
      "Epoch 88/100\n",
      "94/94 [==============================] - 1s 5ms/step - loss: 0.4075 - accuracy: 0.8144\n",
      "Epoch 89/100\n",
      "94/94 [==============================] - 1s 6ms/step - loss: 0.4059 - accuracy: 0.8117\n",
      "Epoch 90/100\n",
      "94/94 [==============================] - 1s 6ms/step - loss: 0.4056 - accuracy: 0.8130\n",
      "Epoch 91/100\n",
      "94/94 [==============================] - 1s 6ms/step - loss: 0.4045 - accuracy: 0.8140\n",
      "Epoch 92/100\n",
      "94/94 [==============================] - 1s 5ms/step - loss: 0.4043 - accuracy: 0.8120\n",
      "Epoch 93/100\n",
      "94/94 [==============================] - 1s 6ms/step - loss: 0.4030 - accuracy: 0.8147\n",
      "Epoch 94/100\n",
      "94/94 [==============================] - 1s 7ms/step - loss: 0.4049 - accuracy: 0.8120\n",
      "Epoch 95/100\n",
      "94/94 [==============================] - 1s 6ms/step - loss: 0.4016 - accuracy: 0.8144\n",
      "Epoch 96/100\n",
      "94/94 [==============================] - 1s 6ms/step - loss: 0.4020 - accuracy: 0.8100\n",
      "Epoch 97/100\n",
      "94/94 [==============================] - 1s 6ms/step - loss: 0.4014 - accuracy: 0.8181\n",
      "Epoch 98/100\n",
      "94/94 [==============================] - 1s 6ms/step - loss: 0.4005 - accuracy: 0.8090\n",
      "Epoch 99/100\n",
      "94/94 [==============================] - 1s 6ms/step - loss: 0.3999 - accuracy: 0.8177\n",
      "Epoch 100/100\n",
      "94/94 [==============================] - 1s 6ms/step - loss: 0.3986 - accuracy: 0.8197\n"
     ]
    },
    {
     "data": {
      "text/plain": [
       "<keras.callbacks.History at 0x2c1a70190>"
      ]
     },
     "execution_count": 129,
     "metadata": {},
     "output_type": "execute_result"
    }
   ],
   "source": [
    "import tensorflow as tf\n",
    "from tensorflow import keras\n",
    "\n",
    "model = keras.Sequential([\n",
    "    keras.layers.Dense(20, input_shape=(23,), activation = 'relu'),\n",
    "    keras.layers.Dense(10, input_shape=(20,), activation = 'relu'),\n",
    "    keras.layers.Dense(1, activation = 'sigmoid'),\n",
    "])\n",
    "\n",
    "model.compile(optimizer = 'adam',\n",
    "             loss = 'binary_crossentropy',\n",
    "             metrics=['accuracy'])\n",
    "\n",
    "model.fit(X_train, y_train, epochs = 100)"
   ]
  },
  {
   "cell_type": "code",
   "execution_count": 130,
   "id": "29469d2e",
   "metadata": {},
   "outputs": [
    {
     "name": "stdout",
     "output_type": "stream",
     "text": [
      "19/44 [===========>..................] - ETA: 0s - loss: 0.5240 - accuracy: 0.7352"
     ]
    },
    {
     "name": "stderr",
     "output_type": "stream",
     "text": [
      "2022-12-07 21:04:19.797112: I tensorflow/core/grappler/optimizers/custom_graph_optimizer_registry.cc:114] Plugin optimizer for device_type GPU is enabled.\n"
     ]
    },
    {
     "name": "stdout",
     "output_type": "stream",
     "text": [
      "44/44 [==============================] - 0s 6ms/step - loss: 0.5578 - accuracy: 0.7157\n"
     ]
    },
    {
     "data": {
      "text/plain": [
       "[0.5577534437179565, 0.7157071828842163]"
      ]
     },
     "execution_count": 130,
     "metadata": {},
     "output_type": "execute_result"
    }
   ],
   "source": [
    "model.evaluate(X_test, y_test)"
   ]
  },
  {
   "cell_type": "code",
   "execution_count": 131,
   "id": "3543073a",
   "metadata": {},
   "outputs": [
    {
     "name": "stdout",
     "output_type": "stream",
     "text": [
      "44/44 [==============================] - 0s 2ms/step\n"
     ]
    },
    {
     "name": "stderr",
     "output_type": "stream",
     "text": [
      "2022-12-07 21:04:25.141127: I tensorflow/core/grappler/optimizers/custom_graph_optimizer_registry.cc:114] Plugin optimizer for device_type GPU is enabled.\n"
     ]
    }
   ],
   "source": [
    "y_pred = model.predict(X_test)"
   ]
  },
  {
   "cell_type": "code",
   "execution_count": 132,
   "id": "deb91be3",
   "metadata": {},
   "outputs": [],
   "source": [
    "y_predict = []\n",
    "for ele in y_pred:\n",
    "    if ele > 0.5:\n",
    "        y_predict.append(1)\n",
    "    else:\n",
    "        y_predict.append(0)"
   ]
  },
  {
   "cell_type": "code",
   "execution_count": 133,
   "id": "d97b62d8",
   "metadata": {},
   "outputs": [
    {
     "name": "stdout",
     "output_type": "stream",
     "text": [
      "              precision    recall  f1-score   support\n",
      "\n",
      "           0       0.88      0.71      0.79      1033\n",
      "           1       0.48      0.73      0.58       374\n",
      "\n",
      "    accuracy                           0.72      1407\n",
      "   macro avg       0.68      0.72      0.68      1407\n",
      "weighted avg       0.77      0.72      0.73      1407\n",
      "\n"
     ]
    }
   ],
   "source": [
    "from sklearn.metrics import confusion_matrix, classification_report\n",
    "\n",
    "print(classification_report(y_test, y_predict))"
   ]
  },
  {
   "cell_type": "code",
   "execution_count": 134,
   "id": "804b8c0a",
   "metadata": {},
   "outputs": [
    {
     "data": {
      "text/plain": [
       "Text(70.72222222222221, 0.5, 'Truth')"
      ]
     },
     "execution_count": 134,
     "metadata": {},
     "output_type": "execute_result"
    },
    {
     "data": {
      "image/png": "[encoded data removed]",
      "text/plain": [
       "<Figure size 800x800 with 2 Axes>"
      ]
     },
     "metadata": {},
     "output_type": "display_data"
    }
   ],
   "source": [
    "import seaborn as sns\n",
    "cm = tf.math.confusion_matrix(labels = y_test, predictions = y_predict)\n",
    "\n",
    "plt.figure(figsize = (8,8))\n",
    "sns.heatmap(cm, annot = True, fmt = 'd')\n",
    "plt.xlabel('Predicted')\n",
    "plt.ylabel('Truth')"
   ]
  },
  {
   "cell_type": "code",
   "execution_count": 135,
   "id": "dfe70b71",
   "metadata": {},
   "outputs": [],
   "source": [
    "X_train, y_train = get_train_batch(df3_class0, df3_class1, 2990, 4130)"
   ]
  },
  {
   "cell_type": "code",
   "execution_count": 136,
   "id": "0754a04d",
   "metadata": {},
   "outputs": [
    {
     "name": "stdout",
     "output_type": "stream",
     "text": [
      "Epoch 1/100\n",
      " 1/83 [..............................] - ETA: 22s - loss: 0.7867 - accuracy: 0.5000"
     ]
    },
    {
     "name": "stderr",
     "output_type": "stream",
     "text": [
      "2022-12-07 21:06:26.332523: I tensorflow/core/grappler/optimizers/custom_graph_optimizer_registry.cc:114] Plugin optimizer for device_type GPU is enabled.\n"
     ]
    },
    {
     "name": "stdout",
     "output_type": "stream",
     "text": [
      "83/83 [==============================] - 1s 9ms/step - loss: 0.6608 - accuracy: 0.6342\n",
      "Epoch 2/100\n",
      "83/83 [==============================] - 0s 6ms/step - loss: 0.5518 - accuracy: 0.7507\n",
      "Epoch 3/100\n",
      "83/83 [==============================] - 1s 7ms/step - loss: 0.5057 - accuracy: 0.7624\n",
      "Epoch 4/100\n",
      "83/83 [==============================] - 1s 7ms/step - loss: 0.4901 - accuracy: 0.7685\n",
      "Epoch 5/100\n",
      "83/83 [==============================] - 1s 7ms/step - loss: 0.4826 - accuracy: 0.7696\n",
      "Epoch 6/100\n",
      "83/83 [==============================] - 1s 7ms/step - loss: 0.4789 - accuracy: 0.7689\n",
      "Epoch 7/100\n",
      "83/83 [==============================] - 1s 7ms/step - loss: 0.4762 - accuracy: 0.7727\n",
      "Epoch 8/100\n",
      "83/83 [==============================] - 1s 7ms/step - loss: 0.4735 - accuracy: 0.7803\n",
      "Epoch 9/100\n",
      "83/83 [==============================] - 1s 6ms/step - loss: 0.4717 - accuracy: 0.7776\n",
      "Epoch 10/100\n",
      "83/83 [==============================] - 0s 6ms/step - loss: 0.4688 - accuracy: 0.7822\n",
      "Epoch 11/100\n",
      "83/83 [==============================] - 0s 6ms/step - loss: 0.4660 - accuracy: 0.7841\n",
      "Epoch 12/100\n",
      "83/83 [==============================] - 0s 6ms/step - loss: 0.4672 - accuracy: 0.7814\n",
      "Epoch 13/100\n",
      "83/83 [==============================] - 0s 6ms/step - loss: 0.4670 - accuracy: 0.7787\n",
      "Epoch 14/100\n",
      "83/83 [==============================] - 1s 6ms/step - loss: 0.4626 - accuracy: 0.7894\n",
      "Epoch 15/100\n",
      "83/83 [==============================] - 0s 6ms/step - loss: 0.4613 - accuracy: 0.7848\n",
      "Epoch 16/100\n",
      "83/83 [==============================] - 0s 6ms/step - loss: 0.4594 - accuracy: 0.7856\n",
      "Epoch 17/100\n",
      "83/83 [==============================] - 0s 6ms/step - loss: 0.4581 - accuracy: 0.7871\n",
      "Epoch 18/100\n",
      "83/83 [==============================] - 1s 6ms/step - loss: 0.4575 - accuracy: 0.7871\n",
      "Epoch 19/100\n",
      "83/83 [==============================] - 0s 6ms/step - loss: 0.4571 - accuracy: 0.7863\n",
      "Epoch 20/100\n",
      "83/83 [==============================] - 0s 6ms/step - loss: 0.4546 - accuracy: 0.7894\n",
      "Epoch 21/100\n",
      "83/83 [==============================] - 1s 7ms/step - loss: 0.4548 - accuracy: 0.7909\n",
      "Epoch 22/100\n",
      "83/83 [==============================] - 0s 6ms/step - loss: 0.4533 - accuracy: 0.7924\n",
      "Epoch 23/100\n",
      "83/83 [==============================] - 0s 5ms/step - loss: 0.4515 - accuracy: 0.7943\n",
      "Epoch 24/100\n",
      "83/83 [==============================] - 1s 6ms/step - loss: 0.4499 - accuracy: 0.7913\n",
      "Epoch 25/100\n",
      "83/83 [==============================] - 1s 7ms/step - loss: 0.4502 - accuracy: 0.7905\n",
      "Epoch 26/100\n",
      "83/83 [==============================] - 1s 8ms/step - loss: 0.4478 - accuracy: 0.7962\n",
      "Epoch 27/100\n",
      "83/83 [==============================] - 1s 6ms/step - loss: 0.4466 - accuracy: 0.7913\n",
      "Epoch 28/100\n",
      "83/83 [==============================] - 0s 6ms/step - loss: 0.4465 - accuracy: 0.7951\n",
      "Epoch 29/100\n",
      "83/83 [==============================] - 1s 6ms/step - loss: 0.4447 - accuracy: 0.7951\n",
      "Epoch 30/100\n",
      "83/83 [==============================] - 1s 7ms/step - loss: 0.4433 - accuracy: 0.7954\n",
      "Epoch 31/100\n",
      "83/83 [==============================] - 1s 7ms/step - loss: 0.4429 - accuracy: 0.7958\n",
      "Epoch 32/100\n",
      "83/83 [==============================] - 1s 6ms/step - loss: 0.4424 - accuracy: 0.7981\n",
      "Epoch 33/100\n",
      "83/83 [==============================] - 0s 6ms/step - loss: 0.4418 - accuracy: 0.7966\n",
      "Epoch 34/100\n",
      "83/83 [==============================] - 0s 6ms/step - loss: 0.4397 - accuracy: 0.7981\n",
      "Epoch 35/100\n",
      "83/83 [==============================] - 0s 6ms/step - loss: 0.4426 - accuracy: 0.8000\n",
      "Epoch 36/100\n",
      "83/83 [==============================] - 0s 6ms/step - loss: 0.4401 - accuracy: 0.7992\n",
      "Epoch 37/100\n",
      "83/83 [==============================] - 0s 6ms/step - loss: 0.4397 - accuracy: 0.8008\n",
      "Epoch 38/100\n",
      "83/83 [==============================] - 0s 6ms/step - loss: 0.4360 - accuracy: 0.8072\n",
      "Epoch 39/100\n",
      "83/83 [==============================] - 0s 6ms/step - loss: 0.4361 - accuracy: 0.8023\n",
      "Epoch 40/100\n",
      "83/83 [==============================] - 0s 6ms/step - loss: 0.4359 - accuracy: 0.8034\n",
      "Epoch 41/100\n",
      "83/83 [==============================] - 0s 6ms/step - loss: 0.4342 - accuracy: 0.8049\n",
      "Epoch 42/100\n",
      "83/83 [==============================] - 0s 6ms/step - loss: 0.4350 - accuracy: 0.8030\n",
      "Epoch 43/100\n",
      "83/83 [==============================] - 0s 6ms/step - loss: 0.4331 - accuracy: 0.7985\n",
      "Epoch 44/100\n",
      "83/83 [==============================] - 0s 6ms/step - loss: 0.4322 - accuracy: 0.8042\n",
      "Epoch 45/100\n",
      "83/83 [==============================] - 0s 6ms/step - loss: 0.4330 - accuracy: 0.8049\n",
      "Epoch 46/100\n",
      "83/83 [==============================] - 0s 6ms/step - loss: 0.4306 - accuracy: 0.8072\n",
      "Epoch 47/100\n",
      "83/83 [==============================] - 0s 6ms/step - loss: 0.4300 - accuracy: 0.8015\n",
      "Epoch 48/100\n",
      "83/83 [==============================] - 0s 6ms/step - loss: 0.4282 - accuracy: 0.8042\n",
      "Epoch 49/100\n",
      "83/83 [==============================] - 0s 6ms/step - loss: 0.4288 - accuracy: 0.8057\n",
      "Epoch 50/100\n",
      "83/83 [==============================] - 0s 6ms/step - loss: 0.4273 - accuracy: 0.8099\n",
      "Epoch 51/100\n",
      "83/83 [==============================] - 0s 6ms/step - loss: 0.4264 - accuracy: 0.8083\n",
      "Epoch 52/100\n",
      "83/83 [==============================] - 0s 6ms/step - loss: 0.4251 - accuracy: 0.8106\n",
      "Epoch 53/100\n",
      "83/83 [==============================] - 1s 6ms/step - loss: 0.4250 - accuracy: 0.8072\n",
      "Epoch 54/100\n",
      "83/83 [==============================] - 1s 7ms/step - loss: 0.4240 - accuracy: 0.8076\n",
      "Epoch 55/100\n",
      "83/83 [==============================] - 1s 6ms/step - loss: 0.4242 - accuracy: 0.8102\n",
      "Epoch 56/100\n",
      "83/83 [==============================] - 0s 6ms/step - loss: 0.4236 - accuracy: 0.8102\n",
      "Epoch 57/100\n",
      "83/83 [==============================] - 1s 6ms/step - loss: 0.4226 - accuracy: 0.8110\n",
      "Epoch 58/100\n",
      "83/83 [==============================] - 1s 7ms/step - loss: 0.4225 - accuracy: 0.8114\n",
      "Epoch 59/100\n",
      "83/83 [==============================] - 0s 6ms/step - loss: 0.4197 - accuracy: 0.8144\n",
      "Epoch 60/100\n",
      "83/83 [==============================] - 0s 6ms/step - loss: 0.4218 - accuracy: 0.8137\n",
      "Epoch 61/100\n",
      "83/83 [==============================] - 0s 6ms/step - loss: 0.4206 - accuracy: 0.8125\n",
      "Epoch 62/100\n",
      "83/83 [==============================] - 0s 6ms/step - loss: 0.4197 - accuracy: 0.8152\n",
      "Epoch 63/100\n",
      "83/83 [==============================] - 0s 6ms/step - loss: 0.4189 - accuracy: 0.8102\n",
      "Epoch 64/100\n",
      "83/83 [==============================] - 0s 6ms/step - loss: 0.4196 - accuracy: 0.8140\n",
      "Epoch 65/100\n",
      "83/83 [==============================] - 0s 6ms/step - loss: 0.4180 - accuracy: 0.8099\n",
      "Epoch 66/100\n",
      "83/83 [==============================] - 0s 6ms/step - loss: 0.4173 - accuracy: 0.8102\n",
      "Epoch 67/100\n",
      "83/83 [==============================] - 0s 6ms/step - loss: 0.4159 - accuracy: 0.8106\n",
      "Epoch 68/100\n",
      "83/83 [==============================] - 0s 6ms/step - loss: 0.4172 - accuracy: 0.8140\n",
      "Epoch 69/100\n",
      "83/83 [==============================] - 1s 6ms/step - loss: 0.4170 - accuracy: 0.8114\n",
      "Epoch 70/100\n",
      "83/83 [==============================] - 0s 6ms/step - loss: 0.4154 - accuracy: 0.8140\n",
      "Epoch 71/100\n",
      "83/83 [==============================] - 0s 6ms/step - loss: 0.4145 - accuracy: 0.8156\n",
      "Epoch 72/100\n",
      "83/83 [==============================] - 0s 6ms/step - loss: 0.4155 - accuracy: 0.8156\n",
      "Epoch 73/100\n",
      "83/83 [==============================] - 0s 6ms/step - loss: 0.4176 - accuracy: 0.8072\n",
      "Epoch 74/100\n",
      "83/83 [==============================] - 0s 6ms/step - loss: 0.4143 - accuracy: 0.8102\n",
      "Epoch 75/100\n",
      "83/83 [==============================] - 1s 6ms/step - loss: 0.4124 - accuracy: 0.8186\n",
      "Epoch 76/100\n",
      "83/83 [==============================] - 1s 7ms/step - loss: 0.4127 - accuracy: 0.8171\n",
      "Epoch 77/100\n",
      "83/83 [==============================] - 1s 7ms/step - loss: 0.4123 - accuracy: 0.8175\n",
      "Epoch 78/100\n",
      "83/83 [==============================] - 1s 7ms/step - loss: 0.4118 - accuracy: 0.8118\n",
      "Epoch 79/100\n",
      "83/83 [==============================] - 1s 7ms/step - loss: 0.4097 - accuracy: 0.8137\n",
      "Epoch 80/100\n",
      "83/83 [==============================] - 1s 6ms/step - loss: 0.4111 - accuracy: 0.8121\n",
      "Epoch 81/100\n",
      "83/83 [==============================] - 0s 6ms/step - loss: 0.4098 - accuracy: 0.8140\n",
      "Epoch 82/100\n",
      "83/83 [==============================] - 0s 6ms/step - loss: 0.4084 - accuracy: 0.8190\n",
      "Epoch 83/100\n"
     ]
    },
    {
     "name": "stdout",
     "output_type": "stream",
     "text": [
      "83/83 [==============================] - 0s 6ms/step - loss: 0.4085 - accuracy: 0.8156\n",
      "Epoch 84/100\n",
      "83/83 [==============================] - 1s 6ms/step - loss: 0.4074 - accuracy: 0.8171\n",
      "Epoch 85/100\n",
      "83/83 [==============================] - 0s 6ms/step - loss: 0.4069 - accuracy: 0.8156\n",
      "Epoch 86/100\n",
      "83/83 [==============================] - 0s 5ms/step - loss: 0.4082 - accuracy: 0.8156\n",
      "Epoch 87/100\n",
      "83/83 [==============================] - 0s 6ms/step - loss: 0.4065 - accuracy: 0.8152\n",
      "Epoch 88/100\n",
      "83/83 [==============================] - 1s 7ms/step - loss: 0.4048 - accuracy: 0.8167\n",
      "Epoch 89/100\n",
      "83/83 [==============================] - 1s 7ms/step - loss: 0.4045 - accuracy: 0.8213\n",
      "Epoch 90/100\n",
      "83/83 [==============================] - 0s 6ms/step - loss: 0.4050 - accuracy: 0.8163\n",
      "Epoch 91/100\n",
      "83/83 [==============================] - 0s 6ms/step - loss: 0.4050 - accuracy: 0.8159\n",
      "Epoch 92/100\n",
      "83/83 [==============================] - 0s 6ms/step - loss: 0.4031 - accuracy: 0.8152\n",
      "Epoch 93/100\n",
      "83/83 [==============================] - 1s 6ms/step - loss: 0.4047 - accuracy: 0.8194\n",
      "Epoch 94/100\n",
      "83/83 [==============================] - 1s 7ms/step - loss: 0.4046 - accuracy: 0.8197\n",
      "Epoch 95/100\n",
      "83/83 [==============================] - 1s 7ms/step - loss: 0.4028 - accuracy: 0.8178\n",
      "Epoch 96/100\n",
      "83/83 [==============================] - 1s 7ms/step - loss: 0.4029 - accuracy: 0.8182\n",
      "Epoch 97/100\n",
      "83/83 [==============================] - 1s 7ms/step - loss: 0.4018 - accuracy: 0.8205\n",
      "Epoch 98/100\n",
      "83/83 [==============================] - 1s 7ms/step - loss: 0.4008 - accuracy: 0.8175\n",
      "Epoch 99/100\n",
      "83/83 [==============================] - 0s 6ms/step - loss: 0.4010 - accuracy: 0.8178\n",
      "Epoch 100/100\n",
      "83/83 [==============================] - 0s 6ms/step - loss: 0.3988 - accuracy: 0.8148\n"
     ]
    },
    {
     "data": {
      "text/plain": [
       "<keras.callbacks.History at 0x2c19bc310>"
      ]
     },
     "execution_count": 136,
     "metadata": {},
     "output_type": "execute_result"
    }
   ],
   "source": [
    "import tensorflow as tf\n",
    "from tensorflow import keras\n",
    "\n",
    "model = keras.Sequential([\n",
    "    keras.layers.Dense(20, input_shape=(23,), activation = 'relu'),\n",
    "    keras.layers.Dense(10, input_shape=(20,), activation = 'relu'),\n",
    "    keras.layers.Dense(1, activation = 'sigmoid'),\n",
    "])\n",
    "\n",
    "model.compile(optimizer = 'adam',\n",
    "             loss = 'binary_crossentropy',\n",
    "             metrics=['accuracy'])\n",
    "\n",
    "model.fit(X_train, y_train, epochs = 100)"
   ]
  },
  {
   "cell_type": "code",
   "execution_count": 137,
   "id": "a99d06e4",
   "metadata": {},
   "outputs": [
    {
     "name": "stdout",
     "output_type": "stream",
     "text": [
      "24/44 [===============>..............] - ETA: 0s - loss: 0.6232 - accuracy: 0.6914"
     ]
    },
    {
     "name": "stderr",
     "output_type": "stream",
     "text": [
      "2022-12-07 21:07:48.984219: I tensorflow/core/grappler/optimizers/custom_graph_optimizer_registry.cc:114] Plugin optimizer for device_type GPU is enabled.\n"
     ]
    },
    {
     "name": "stdout",
     "output_type": "stream",
     "text": [
      "44/44 [==============================] - 0s 5ms/step - loss: 0.6392 - accuracy: 0.6716\n"
     ]
    },
    {
     "data": {
      "text/plain": [
       "[0.6392270922660828, 0.6716418266296387]"
      ]
     },
     "execution_count": 137,
     "metadata": {},
     "output_type": "execute_result"
    }
   ],
   "source": [
    "model.evaluate(X_test, y_test)"
   ]
  },
  {
   "cell_type": "code",
   "execution_count": 138,
   "id": "d7109c88",
   "metadata": {},
   "outputs": [
    {
     "name": "stdout",
     "output_type": "stream",
     "text": [
      "44/44 [==============================] - 0s 2ms/step\n"
     ]
    },
    {
     "name": "stderr",
     "output_type": "stream",
     "text": [
      "2022-12-07 21:07:54.235106: I tensorflow/core/grappler/optimizers/custom_graph_optimizer_registry.cc:114] Plugin optimizer for device_type GPU is enabled.\n"
     ]
    }
   ],
   "source": [
    "y_pred = model.predict(X_test)"
   ]
  },
  {
   "cell_type": "code",
   "execution_count": 139,
   "id": "478469d1",
   "metadata": {},
   "outputs": [],
   "source": [
    "y_predict = []\n",
    "for ele in y_pred:\n",
    "    if ele > 0.5:\n",
    "        y_predict.append(1)\n",
    "    else:\n",
    "        y_predict.append(0)"
   ]
  },
  {
   "cell_type": "code",
   "execution_count": 140,
   "id": "5a9d1f4e",
   "metadata": {},
   "outputs": [
    {
     "name": "stdout",
     "output_type": "stream",
     "text": [
      "              precision    recall  f1-score   support\n",
      "\n",
      "           0       0.90      0.62      0.73      1033\n",
      "           1       0.44      0.82      0.57       374\n",
      "\n",
      "    accuracy                           0.67      1407\n",
      "   macro avg       0.67      0.72      0.65      1407\n",
      "weighted avg       0.78      0.67      0.69      1407\n",
      "\n"
     ]
    }
   ],
   "source": [
    "from sklearn.metrics import confusion_matrix, classification_report\n",
    "\n",
    "print(classification_report(y_test, y_predict))"
   ]
  },
  {
   "cell_type": "code",
   "execution_count": 141,
   "id": "c877a8f1",
   "metadata": {},
   "outputs": [
    {
     "data": {
      "text/plain": [
       "Text(70.72222222222221, 0.5, 'Truth')"
      ]
     },
     "execution_count": 141,
     "metadata": {},
     "output_type": "execute_result"
    },
    {
     "data": {
      "image/png": "[encoded data removed]",
      "text/plain": [
       "<Figure size 800x800 with 2 Axes>"
      ]
     },
     "metadata": {},
     "output_type": "display_data"
    }
   ],
   "source": [
    "import seaborn as sns\n",
    "cm = tf.math.confusion_matrix(labels = y_test, predictions = y_predict)\n",
    "\n",
    "plt.figure(figsize = (8,8))\n",
    "sns.heatmap(cm, annot = True, fmt = 'd')\n",
    "plt.xlabel('Predicted')\n",
    "plt.ylabel('Truth')"
   ]
  },
  {
   "cell_type": "markdown",
   "id": "d80a2aea",
   "metadata": {},
   "source": [
    "WE AGGREGATE ALL THE SAMPLE RESULTS OF ENSEMBLE BASED ON VOTING AND GET THE FINAL RESULT.\n",
    "\n",
    "## CONCLUSION : OUT OF ALL SMOTE HAS PERFORMED THE BEST IN THIS CASE."
   ]
  }
 ],
 "metadata": {
  "kernelspec": {
   "display_name": "Python 3 (ipykernel)",
   "language": "python",
   "name": "python3"
  },
  "language_info": {
   "codemirror_mode": {
    "name": "ipython",
    "version": 3
   },
   "file_extension": ".py",
   "mimetype": "text/x-python",
   "name": "python",
   "nbconvert_exporter": "python",
   "pygments_lexer": "ipython3",
   "version": "3.8.14"
  }
 },
 "nbformat": 4,
 "nbformat_minor": 5
}
